{
 "cells": [
  {
   "cell_type": "markdown",
   "metadata": {},
   "source": [
    "## 1. Project description:\n",
    "\n",
    "Banks have a lot of information about one's credit history, monthly income and other material. From the previous cases, banks make mathematical based assumptions if person is capable of handling credit for money X which need to be repaid in Y years**\n",
    "\n",
    "**Main task: predict probability if person who is willing to get a credit will be able to repay it.** \n",
    "\n",
    "* Based on Kaggle competition [Home Credit Default Risk](https://www.kaggle.com/c/home-credit-default-risk/data)\n",
    "* Metric used: area under curve (AUC)\n",
    "* Contains 2.5 GB of CSV files\n",
    "* Expected Kaggle result: 0.786\n",
    "\n",
    "CSV files connections\n",
    "\n",
    "![](tree.png)"
   ]
  },
  {
   "cell_type": "markdown",
   "metadata": {},
   "source": [
    "## 2. Project."
   ]
  },
  {
   "cell_type": "markdown",
   "metadata": {},
   "source": [
    "Basic imports"
   ]
  },
  {
   "cell_type": "code",
   "execution_count": 1,
   "metadata": {},
   "outputs": [
    {
     "data": {
      "application/javascript": [
       "\n",
       "            setTimeout(function() {\n",
       "                var nbb_cell_id = 1;\n",
       "                var nbb_unformatted_code = \"import pandas as pd\\nimport numpy as np\\nimport warnings\\n\\nwarnings.filterwarnings(\\\"ignore\\\")\\n%load_ext nb_black\";\n",
       "                var nbb_formatted_code = \"import pandas as pd\\nimport numpy as np\\nimport warnings\\n\\nwarnings.filterwarnings(\\\"ignore\\\")\\n%load_ext nb_black\";\n",
       "                var nbb_cells = Jupyter.notebook.get_cells();\n",
       "                for (var i = 0; i < nbb_cells.length; ++i) {\n",
       "                    if (nbb_cells[i].input_prompt_number == nbb_cell_id) {\n",
       "                        if (nbb_cells[i].get_text() == nbb_unformatted_code) {\n",
       "                             nbb_cells[i].set_text(nbb_formatted_code);\n",
       "                        }\n",
       "                        break;\n",
       "                    }\n",
       "                }\n",
       "            }, 500);\n",
       "            "
      ],
      "text/plain": [
       "<IPython.core.display.Javascript object>"
      ]
     },
     "metadata": {},
     "output_type": "display_data"
    }
   ],
   "source": [
    "import pandas as pd\n",
    "import numpy as np\n",
    "import warnings\n",
    "\n",
    "warnings.filterwarnings(\"ignore\")\n",
    "%load_ext nb_black"
   ]
  },
  {
   "cell_type": "markdown",
   "metadata": {},
   "source": [
    "Importing data"
   ]
  },
  {
   "cell_type": "code",
   "execution_count": 2,
   "metadata": {},
   "outputs": [
    {
     "data": {
      "application/javascript": [
       "\n",
       "            setTimeout(function() {\n",
       "                var nbb_cell_id = 2;\n",
       "                var nbb_unformatted_code = \"train_df = pd.read_csv(\\\"application_train.csv\\\")\";\n",
       "                var nbb_formatted_code = \"train_df = pd.read_csv(\\\"application_train.csv\\\")\";\n",
       "                var nbb_cells = Jupyter.notebook.get_cells();\n",
       "                for (var i = 0; i < nbb_cells.length; ++i) {\n",
       "                    if (nbb_cells[i].input_prompt_number == nbb_cell_id) {\n",
       "                        if (nbb_cells[i].get_text() == nbb_unformatted_code) {\n",
       "                             nbb_cells[i].set_text(nbb_formatted_code);\n",
       "                        }\n",
       "                        break;\n",
       "                    }\n",
       "                }\n",
       "            }, 500);\n",
       "            "
      ],
      "text/plain": [
       "<IPython.core.display.Javascript object>"
      ]
     },
     "metadata": {},
     "output_type": "display_data"
    }
   ],
   "source": [
    "train_df = pd.read_csv(\"application_train.csv\")"
   ]
  },
  {
   "cell_type": "code",
   "execution_count": 3,
   "metadata": {},
   "outputs": [
    {
     "data": {
      "application/javascript": [
       "\n",
       "            setTimeout(function() {\n",
       "                var nbb_cell_id = 3;\n",
       "                var nbb_unformatted_code = \"test_df = pd.read_csv(\\\"application_test.csv\\\")\";\n",
       "                var nbb_formatted_code = \"test_df = pd.read_csv(\\\"application_test.csv\\\")\";\n",
       "                var nbb_cells = Jupyter.notebook.get_cells();\n",
       "                for (var i = 0; i < nbb_cells.length; ++i) {\n",
       "                    if (nbb_cells[i].input_prompt_number == nbb_cell_id) {\n",
       "                        if (nbb_cells[i].get_text() == nbb_unformatted_code) {\n",
       "                             nbb_cells[i].set_text(nbb_formatted_code);\n",
       "                        }\n",
       "                        break;\n",
       "                    }\n",
       "                }\n",
       "            }, 500);\n",
       "            "
      ],
      "text/plain": [
       "<IPython.core.display.Javascript object>"
      ]
     },
     "metadata": {},
     "output_type": "display_data"
    }
   ],
   "source": [
    "test_df = pd.read_csv(\"application_test.csv\")"
   ]
  },
  {
   "cell_type": "code",
   "execution_count": 4,
   "metadata": {},
   "outputs": [
    {
     "data": {
      "application/javascript": [
       "\n",
       "            setTimeout(function() {\n",
       "                var nbb_cell_id = 4;\n",
       "                var nbb_unformatted_code = \"bureau_df = pd.read_csv(\\\"bureau.csv\\\")\";\n",
       "                var nbb_formatted_code = \"bureau_df = pd.read_csv(\\\"bureau.csv\\\")\";\n",
       "                var nbb_cells = Jupyter.notebook.get_cells();\n",
       "                for (var i = 0; i < nbb_cells.length; ++i) {\n",
       "                    if (nbb_cells[i].input_prompt_number == nbb_cell_id) {\n",
       "                        if (nbb_cells[i].get_text() == nbb_unformatted_code) {\n",
       "                             nbb_cells[i].set_text(nbb_formatted_code);\n",
       "                        }\n",
       "                        break;\n",
       "                    }\n",
       "                }\n",
       "            }, 500);\n",
       "            "
      ],
      "text/plain": [
       "<IPython.core.display.Javascript object>"
      ]
     },
     "metadata": {},
     "output_type": "display_data"
    }
   ],
   "source": [
    "bureau_df = pd.read_csv(\"bureau.csv\")"
   ]
  },
  {
   "cell_type": "code",
   "execution_count": 5,
   "metadata": {},
   "outputs": [
    {
     "data": {
      "application/javascript": [
       "\n",
       "            setTimeout(function() {\n",
       "                var nbb_cell_id = 5;\n",
       "                var nbb_unformatted_code = \"bureau_balance_df = pd.read_csv(\\\"bureau_balance.csv\\\")\";\n",
       "                var nbb_formatted_code = \"bureau_balance_df = pd.read_csv(\\\"bureau_balance.csv\\\")\";\n",
       "                var nbb_cells = Jupyter.notebook.get_cells();\n",
       "                for (var i = 0; i < nbb_cells.length; ++i) {\n",
       "                    if (nbb_cells[i].input_prompt_number == nbb_cell_id) {\n",
       "                        if (nbb_cells[i].get_text() == nbb_unformatted_code) {\n",
       "                             nbb_cells[i].set_text(nbb_formatted_code);\n",
       "                        }\n",
       "                        break;\n",
       "                    }\n",
       "                }\n",
       "            }, 500);\n",
       "            "
      ],
      "text/plain": [
       "<IPython.core.display.Javascript object>"
      ]
     },
     "metadata": {},
     "output_type": "display_data"
    }
   ],
   "source": [
    "bureau_balance_df = pd.read_csv(\"bureau_balance.csv\")"
   ]
  },
  {
   "cell_type": "code",
   "execution_count": 6,
   "metadata": {},
   "outputs": [
    {
     "data": {
      "application/javascript": [
       "\n",
       "            setTimeout(function() {\n",
       "                var nbb_cell_id = 6;\n",
       "                var nbb_unformatted_code = \"previous_application_df = pd.read_csv(\\\"previous_application.csv\\\")\";\n",
       "                var nbb_formatted_code = \"previous_application_df = pd.read_csv(\\\"previous_application.csv\\\")\";\n",
       "                var nbb_cells = Jupyter.notebook.get_cells();\n",
       "                for (var i = 0; i < nbb_cells.length; ++i) {\n",
       "                    if (nbb_cells[i].input_prompt_number == nbb_cell_id) {\n",
       "                        if (nbb_cells[i].get_text() == nbb_unformatted_code) {\n",
       "                             nbb_cells[i].set_text(nbb_formatted_code);\n",
       "                        }\n",
       "                        break;\n",
       "                    }\n",
       "                }\n",
       "            }, 500);\n",
       "            "
      ],
      "text/plain": [
       "<IPython.core.display.Javascript object>"
      ]
     },
     "metadata": {},
     "output_type": "display_data"
    }
   ],
   "source": [
    "previous_application_df = pd.read_csv(\"previous_application.csv\")"
   ]
  },
  {
   "cell_type": "code",
   "execution_count": 7,
   "metadata": {},
   "outputs": [
    {
     "data": {
      "application/javascript": [
       "\n",
       "            setTimeout(function() {\n",
       "                var nbb_cell_id = 7;\n",
       "                var nbb_unformatted_code = \"pos_cash_balance_df = pd.read_csv(\\\"POS_CASH_balance.csv\\\")\";\n",
       "                var nbb_formatted_code = \"pos_cash_balance_df = pd.read_csv(\\\"POS_CASH_balance.csv\\\")\";\n",
       "                var nbb_cells = Jupyter.notebook.get_cells();\n",
       "                for (var i = 0; i < nbb_cells.length; ++i) {\n",
       "                    if (nbb_cells[i].input_prompt_number == nbb_cell_id) {\n",
       "                        if (nbb_cells[i].get_text() == nbb_unformatted_code) {\n",
       "                             nbb_cells[i].set_text(nbb_formatted_code);\n",
       "                        }\n",
       "                        break;\n",
       "                    }\n",
       "                }\n",
       "            }, 500);\n",
       "            "
      ],
      "text/plain": [
       "<IPython.core.display.Javascript object>"
      ]
     },
     "metadata": {},
     "output_type": "display_data"
    }
   ],
   "source": [
    "pos_cash_balance_df = pd.read_csv(\"POS_CASH_balance.csv\")"
   ]
  },
  {
   "cell_type": "code",
   "execution_count": 8,
   "metadata": {},
   "outputs": [
    {
     "data": {
      "application/javascript": [
       "\n",
       "            setTimeout(function() {\n",
       "                var nbb_cell_id = 8;\n",
       "                var nbb_unformatted_code = \"instalments_payments_df = pd.read_csv(\\\"installments_payments.csv\\\")\";\n",
       "                var nbb_formatted_code = \"instalments_payments_df = pd.read_csv(\\\"installments_payments.csv\\\")\";\n",
       "                var nbb_cells = Jupyter.notebook.get_cells();\n",
       "                for (var i = 0; i < nbb_cells.length; ++i) {\n",
       "                    if (nbb_cells[i].input_prompt_number == nbb_cell_id) {\n",
       "                        if (nbb_cells[i].get_text() == nbb_unformatted_code) {\n",
       "                             nbb_cells[i].set_text(nbb_formatted_code);\n",
       "                        }\n",
       "                        break;\n",
       "                    }\n",
       "                }\n",
       "            }, 500);\n",
       "            "
      ],
      "text/plain": [
       "<IPython.core.display.Javascript object>"
      ]
     },
     "metadata": {},
     "output_type": "display_data"
    }
   ],
   "source": [
    "instalments_payments_df = pd.read_csv(\"installments_payments.csv\")"
   ]
  },
  {
   "cell_type": "code",
   "execution_count": 9,
   "metadata": {},
   "outputs": [
    {
     "data": {
      "application/javascript": [
       "\n",
       "            setTimeout(function() {\n",
       "                var nbb_cell_id = 9;\n",
       "                var nbb_unformatted_code = \"credit_card_balance_df = pd.read_csv(\\\"credit_card_balance.csv\\\")\";\n",
       "                var nbb_formatted_code = \"credit_card_balance_df = pd.read_csv(\\\"credit_card_balance.csv\\\")\";\n",
       "                var nbb_cells = Jupyter.notebook.get_cells();\n",
       "                for (var i = 0; i < nbb_cells.length; ++i) {\n",
       "                    if (nbb_cells[i].input_prompt_number == nbb_cell_id) {\n",
       "                        if (nbb_cells[i].get_text() == nbb_unformatted_code) {\n",
       "                             nbb_cells[i].set_text(nbb_formatted_code);\n",
       "                        }\n",
       "                        break;\n",
       "                    }\n",
       "                }\n",
       "            }, 500);\n",
       "            "
      ],
      "text/plain": [
       "<IPython.core.display.Javascript object>"
      ]
     },
     "metadata": {},
     "output_type": "display_data"
    }
   ],
   "source": [
    "credit_card_balance_df = pd.read_csv(\"credit_card_balance.csv\")"
   ]
  },
  {
   "cell_type": "markdown",
   "metadata": {},
   "source": [
    "### 2-1. Before EDA, data from supporting CSVs have to be represented in train_df and test_df. It could be achieved by digging deeper into the connections and extracting only relevant information."
   ]
  },
  {
   "cell_type": "markdown",
   "metadata": {},
   "source": [
    "**2-1-1.** Exploring credit bureau branch (bureau_df and bureau_balance_df). First, bureau_df needs to be filtered based on id which exist in train_df or test_df."
   ]
  },
  {
   "cell_type": "code",
   "execution_count": 10,
   "metadata": {
    "scrolled": true
   },
   "outputs": [
    {
     "data": {
      "application/javascript": [
       "\n",
       "            setTimeout(function() {\n",
       "                var nbb_cell_id = 10;\n",
       "                var nbb_unformatted_code = \"# extracting values as list from train_df\\nrelevant_ids = train_df[\\\"SK_ID_CURR\\\"].values.tolist()\\n\\n# extending list with values from test_df\\nrelevant_ids.extend(test_df[\\\"SK_ID_CURR\\\"].values.tolist())\";\n",
       "                var nbb_formatted_code = \"# extracting values as list from train_df\\nrelevant_ids = train_df[\\\"SK_ID_CURR\\\"].values.tolist()\\n\\n# extending list with values from test_df\\nrelevant_ids.extend(test_df[\\\"SK_ID_CURR\\\"].values.tolist())\";\n",
       "                var nbb_cells = Jupyter.notebook.get_cells();\n",
       "                for (var i = 0; i < nbb_cells.length; ++i) {\n",
       "                    if (nbb_cells[i].input_prompt_number == nbb_cell_id) {\n",
       "                        if (nbb_cells[i].get_text() == nbb_unformatted_code) {\n",
       "                             nbb_cells[i].set_text(nbb_formatted_code);\n",
       "                        }\n",
       "                        break;\n",
       "                    }\n",
       "                }\n",
       "            }, 500);\n",
       "            "
      ],
      "text/plain": [
       "<IPython.core.display.Javascript object>"
      ]
     },
     "metadata": {},
     "output_type": "display_data"
    }
   ],
   "source": [
    "# extracting values as list from train_df\n",
    "relevant_ids = train_df[\"SK_ID_CURR\"].values.tolist()\n",
    "\n",
    "# extending list with values from test_df\n",
    "relevant_ids.extend(test_df[\"SK_ID_CURR\"].values.tolist())"
   ]
  },
  {
   "cell_type": "code",
   "execution_count": 11,
   "metadata": {},
   "outputs": [
    {
     "data": {
      "application/javascript": [
       "\n",
       "            setTimeout(function() {\n",
       "                var nbb_cell_id = 11;\n",
       "                var nbb_unformatted_code = \"# filtering dataframe\\nbureau_df = bureau_df[bureau_df[\\\"SK_ID_CURR\\\"].isin(relevant_ids)]\";\n",
       "                var nbb_formatted_code = \"# filtering dataframe\\nbureau_df = bureau_df[bureau_df[\\\"SK_ID_CURR\\\"].isin(relevant_ids)]\";\n",
       "                var nbb_cells = Jupyter.notebook.get_cells();\n",
       "                for (var i = 0; i < nbb_cells.length; ++i) {\n",
       "                    if (nbb_cells[i].input_prompt_number == nbb_cell_id) {\n",
       "                        if (nbb_cells[i].get_text() == nbb_unformatted_code) {\n",
       "                             nbb_cells[i].set_text(nbb_formatted_code);\n",
       "                        }\n",
       "                        break;\n",
       "                    }\n",
       "                }\n",
       "            }, 500);\n",
       "            "
      ],
      "text/plain": [
       "<IPython.core.display.Javascript object>"
      ]
     },
     "metadata": {},
     "output_type": "display_data"
    }
   ],
   "source": [
    "# filtering dataframe\n",
    "bureau_df = bureau_df[bureau_df[\"SK_ID_CURR\"].isin(relevant_ids)]"
   ]
  },
  {
   "cell_type": "markdown",
   "metadata": {},
   "source": [
    "Next step, let's filter bureau_balance_df on credit_id which are revelant."
   ]
  },
  {
   "cell_type": "code",
   "execution_count": 12,
   "metadata": {},
   "outputs": [
    {
     "data": {
      "application/javascript": [
       "\n",
       "            setTimeout(function() {\n",
       "                var nbb_cell_id = 12;\n",
       "                var nbb_unformatted_code = \"# extracting relevant credit ids\\nrelevant_ids = bureau_df[\\\"SK_ID_BUREAU\\\"].values.tolist()\";\n",
       "                var nbb_formatted_code = \"# extracting relevant credit ids\\nrelevant_ids = bureau_df[\\\"SK_ID_BUREAU\\\"].values.tolist()\";\n",
       "                var nbb_cells = Jupyter.notebook.get_cells();\n",
       "                for (var i = 0; i < nbb_cells.length; ++i) {\n",
       "                    if (nbb_cells[i].input_prompt_number == nbb_cell_id) {\n",
       "                        if (nbb_cells[i].get_text() == nbb_unformatted_code) {\n",
       "                             nbb_cells[i].set_text(nbb_formatted_code);\n",
       "                        }\n",
       "                        break;\n",
       "                    }\n",
       "                }\n",
       "            }, 500);\n",
       "            "
      ],
      "text/plain": [
       "<IPython.core.display.Javascript object>"
      ]
     },
     "metadata": {},
     "output_type": "display_data"
    }
   ],
   "source": [
    "# extracting relevant credit ids\n",
    "relevant_ids = bureau_df[\"SK_ID_BUREAU\"].values.tolist()"
   ]
  },
  {
   "cell_type": "code",
   "execution_count": 13,
   "metadata": {
    "scrolled": true
   },
   "outputs": [
    {
     "data": {
      "application/javascript": [
       "\n",
       "            setTimeout(function() {\n",
       "                var nbb_cell_id = 13;\n",
       "                var nbb_unformatted_code = \"# filtering dataframe\\nbureau_balance_df = bureau_balance_df[\\n    bureau_balance_df[\\\"SK_ID_BUREAU\\\"].isin(relevant_ids)\\n]\";\n",
       "                var nbb_formatted_code = \"# filtering dataframe\\nbureau_balance_df = bureau_balance_df[\\n    bureau_balance_df[\\\"SK_ID_BUREAU\\\"].isin(relevant_ids)\\n]\";\n",
       "                var nbb_cells = Jupyter.notebook.get_cells();\n",
       "                for (var i = 0; i < nbb_cells.length; ++i) {\n",
       "                    if (nbb_cells[i].input_prompt_number == nbb_cell_id) {\n",
       "                        if (nbb_cells[i].get_text() == nbb_unformatted_code) {\n",
       "                             nbb_cells[i].set_text(nbb_formatted_code);\n",
       "                        }\n",
       "                        break;\n",
       "                    }\n",
       "                }\n",
       "            }, 500);\n",
       "            "
      ],
      "text/plain": [
       "<IPython.core.display.Javascript object>"
      ]
     },
     "metadata": {},
     "output_type": "display_data"
    }
   ],
   "source": [
    "# filtering dataframe\n",
    "bureau_balance_df = bureau_balance_df[\n",
    "    bureau_balance_df[\"SK_ID_BUREAU\"].isin(relevant_ids)\n",
    "]"
   ]
  },
  {
   "cell_type": "code",
   "execution_count": 14,
   "metadata": {
    "scrolled": false
   },
   "outputs": [
    {
     "data": {
      "text/html": [
       "<div>\n",
       "<style scoped>\n",
       "    .dataframe tbody tr th:only-of-type {\n",
       "        vertical-align: middle;\n",
       "    }\n",
       "\n",
       "    .dataframe tbody tr th {\n",
       "        vertical-align: top;\n",
       "    }\n",
       "\n",
       "    .dataframe thead th {\n",
       "        text-align: right;\n",
       "    }\n",
       "</style>\n",
       "<table border=\"1\" class=\"dataframe\">\n",
       "  <thead>\n",
       "    <tr style=\"text-align: right;\">\n",
       "      <th></th>\n",
       "      <th></th>\n",
       "      <th>MONTHS_BALANCE</th>\n",
       "    </tr>\n",
       "    <tr>\n",
       "      <th>SK_ID_BUREAU</th>\n",
       "      <th>STATUS</th>\n",
       "      <th></th>\n",
       "    </tr>\n",
       "  </thead>\n",
       "  <tbody>\n",
       "    <tr>\n",
       "      <th rowspan=\"3\" valign=\"top\">5001710</th>\n",
       "      <th>0</th>\n",
       "      <td>5</td>\n",
       "    </tr>\n",
       "    <tr>\n",
       "      <th>C</th>\n",
       "      <td>48</td>\n",
       "    </tr>\n",
       "    <tr>\n",
       "      <th>X</th>\n",
       "      <td>30</td>\n",
       "    </tr>\n",
       "    <tr>\n",
       "      <th rowspan=\"2\" valign=\"top\">5001711</th>\n",
       "      <th>0</th>\n",
       "      <td>3</td>\n",
       "    </tr>\n",
       "    <tr>\n",
       "      <th>X</th>\n",
       "      <td>1</td>\n",
       "    </tr>\n",
       "    <tr>\n",
       "      <th>...</th>\n",
       "      <th>...</th>\n",
       "      <td>...</td>\n",
       "    </tr>\n",
       "    <tr>\n",
       "      <th rowspan=\"2\" valign=\"top\">6842887</th>\n",
       "      <th>0</th>\n",
       "      <td>6</td>\n",
       "    </tr>\n",
       "    <tr>\n",
       "      <th>C</th>\n",
       "      <td>31</td>\n",
       "    </tr>\n",
       "    <tr>\n",
       "      <th rowspan=\"3\" valign=\"top\">6842888</th>\n",
       "      <th>0</th>\n",
       "      <td>9</td>\n",
       "    </tr>\n",
       "    <tr>\n",
       "      <th>1</th>\n",
       "      <td>1</td>\n",
       "    </tr>\n",
       "    <tr>\n",
       "      <th>C</th>\n",
       "      <td>52</td>\n",
       "    </tr>\n",
       "  </tbody>\n",
       "</table>\n",
       "<p>1631098 rows × 1 columns</p>\n",
       "</div>"
      ],
      "text/plain": [
       "                     MONTHS_BALANCE\n",
       "SK_ID_BUREAU STATUS                \n",
       "5001710      0                    5\n",
       "             C                   48\n",
       "             X                   30\n",
       "5001711      0                    3\n",
       "             X                    1\n",
       "...                             ...\n",
       "6842887      0                    6\n",
       "             C                   31\n",
       "6842888      0                    9\n",
       "             1                    1\n",
       "             C                   52\n",
       "\n",
       "[1631098 rows x 1 columns]"
      ]
     },
     "execution_count": 14,
     "metadata": {},
     "output_type": "execute_result"
    },
    {
     "data": {
      "application/javascript": [
       "\n",
       "            setTimeout(function() {\n",
       "                var nbb_cell_id = 14;\n",
       "                var nbb_unformatted_code = \"bureau_balance_df.groupby([\\\"SK_ID_BUREAU\\\", \\\"STATUS\\\"]).count()\";\n",
       "                var nbb_formatted_code = \"bureau_balance_df.groupby([\\\"SK_ID_BUREAU\\\", \\\"STATUS\\\"]).count()\";\n",
       "                var nbb_cells = Jupyter.notebook.get_cells();\n",
       "                for (var i = 0; i < nbb_cells.length; ++i) {\n",
       "                    if (nbb_cells[i].input_prompt_number == nbb_cell_id) {\n",
       "                        if (nbb_cells[i].get_text() == nbb_unformatted_code) {\n",
       "                             nbb_cells[i].set_text(nbb_formatted_code);\n",
       "                        }\n",
       "                        break;\n",
       "                    }\n",
       "                }\n",
       "            }, 500);\n",
       "            "
      ],
      "text/plain": [
       "<IPython.core.display.Javascript object>"
      ]
     },
     "metadata": {},
     "output_type": "display_data"
    }
   ],
   "source": [
    "bureau_balance_df.groupby([\"SK_ID_BUREAU\", \"STATUS\"]).count()"
   ]
  },
  {
   "cell_type": "markdown",
   "metadata": {},
   "source": [
    "Here: SK_ID_BUREAU stands for credit ID, there are 7 different statuses:\n",
    "* C - completed credit repay\n",
    "* X - no information\n",
    "* 0 - payment done according to the plan\n",
    "* 1 - payment done with up to 1 month delay\n",
    "* 2 - payment done with up to 2 month delay\n",
    "* 3 - payment done with up to 3 month delay\n",
    "* 4 - payment done with up to 4 month delay\n",
    "* 5 - payment done with longer delay than 4 months\n",
    "\n",
    "Next step will be exporting counts to bureau_df based on credit id as new column."
   ]
  },
  {
   "cell_type": "code",
   "execution_count": 15,
   "metadata": {},
   "outputs": [
    {
     "data": {
      "application/javascript": [
       "\n",
       "            setTimeout(function() {\n",
       "                var nbb_cell_id = 15;\n",
       "                var nbb_unformatted_code = \"# creating new dataframe which could be afterwards merged with bureau_df\\n\\nextracted_df = bureau_balance_df.groupby([\\\"SK_ID_BUREAU\\\"]).count().reset_index()\";\n",
       "                var nbb_formatted_code = \"# creating new dataframe which could be afterwards merged with bureau_df\\n\\nextracted_df = bureau_balance_df.groupby([\\\"SK_ID_BUREAU\\\"]).count().reset_index()\";\n",
       "                var nbb_cells = Jupyter.notebook.get_cells();\n",
       "                for (var i = 0; i < nbb_cells.length; ++i) {\n",
       "                    if (nbb_cells[i].input_prompt_number == nbb_cell_id) {\n",
       "                        if (nbb_cells[i].get_text() == nbb_unformatted_code) {\n",
       "                             nbb_cells[i].set_text(nbb_formatted_code);\n",
       "                        }\n",
       "                        break;\n",
       "                    }\n",
       "                }\n",
       "            }, 500);\n",
       "            "
      ],
      "text/plain": [
       "<IPython.core.display.Javascript object>"
      ]
     },
     "metadata": {},
     "output_type": "display_data"
    }
   ],
   "source": [
    "# creating new dataframe which could be afterwards merged with bureau_df\n",
    "\n",
    "extracted_df = bureau_balance_df.groupby([\"SK_ID_BUREAU\"]).count().reset_index()"
   ]
  },
  {
   "cell_type": "code",
   "execution_count": 16,
   "metadata": {},
   "outputs": [
    {
     "data": {
      "application/javascript": [
       "\n",
       "            setTimeout(function() {\n",
       "                var nbb_cell_id = 16;\n",
       "                var nbb_unformatted_code = \"# dropping irrelevant col\\nextracted_df = extracted_df.drop([\\\"MONTHS_BALANCE\\\"], axis=1)\";\n",
       "                var nbb_formatted_code = \"# dropping irrelevant col\\nextracted_df = extracted_df.drop([\\\"MONTHS_BALANCE\\\"], axis=1)\";\n",
       "                var nbb_cells = Jupyter.notebook.get_cells();\n",
       "                for (var i = 0; i < nbb_cells.length; ++i) {\n",
       "                    if (nbb_cells[i].input_prompt_number == nbb_cell_id) {\n",
       "                        if (nbb_cells[i].get_text() == nbb_unformatted_code) {\n",
       "                             nbb_cells[i].set_text(nbb_formatted_code);\n",
       "                        }\n",
       "                        break;\n",
       "                    }\n",
       "                }\n",
       "            }, 500);\n",
       "            "
      ],
      "text/plain": [
       "<IPython.core.display.Javascript object>"
      ]
     },
     "metadata": {},
     "output_type": "display_data"
    }
   ],
   "source": [
    "# dropping irrelevant col\n",
    "extracted_df = extracted_df.drop([\"MONTHS_BALANCE\"], axis=1)"
   ]
  },
  {
   "cell_type": "code",
   "execution_count": 17,
   "metadata": {},
   "outputs": [
    {
     "data": {
      "application/javascript": [
       "\n",
       "            setTimeout(function() {\n",
       "                var nbb_cell_id = 17;\n",
       "                var nbb_unformatted_code = \"# renaming cols\\nextracted_df.columns = [\\\"SK_ID_BUREAU\\\", \\\"COUNT\\\"]\";\n",
       "                var nbb_formatted_code = \"# renaming cols\\nextracted_df.columns = [\\\"SK_ID_BUREAU\\\", \\\"COUNT\\\"]\";\n",
       "                var nbb_cells = Jupyter.notebook.get_cells();\n",
       "                for (var i = 0; i < nbb_cells.length; ++i) {\n",
       "                    if (nbb_cells[i].input_prompt_number == nbb_cell_id) {\n",
       "                        if (nbb_cells[i].get_text() == nbb_unformatted_code) {\n",
       "                             nbb_cells[i].set_text(nbb_formatted_code);\n",
       "                        }\n",
       "                        break;\n",
       "                    }\n",
       "                }\n",
       "            }, 500);\n",
       "            "
      ],
      "text/plain": [
       "<IPython.core.display.Javascript object>"
      ]
     },
     "metadata": {},
     "output_type": "display_data"
    }
   ],
   "source": [
    "# renaming cols\n",
    "extracted_df.columns = [\"SK_ID_BUREAU\", \"COUNT\"]"
   ]
  },
  {
   "cell_type": "markdown",
   "metadata": {},
   "source": [
    "Now it's time to extract count for every single status per id."
   ]
  },
  {
   "cell_type": "code",
   "execution_count": 18,
   "metadata": {},
   "outputs": [
    {
     "data": {
      "application/javascript": [
       "\n",
       "            setTimeout(function() {\n",
       "                var nbb_cell_id = 18;\n",
       "                var nbb_unformatted_code = \"# extracting status counts\\nstatus_counts_df = (\\n    bureau_balance_df.groupby([\\\"SK_ID_BUREAU\\\", \\\"STATUS\\\"]).count().reset_index()\\n)\";\n",
       "                var nbb_formatted_code = \"# extracting status counts\\nstatus_counts_df = (\\n    bureau_balance_df.groupby([\\\"SK_ID_BUREAU\\\", \\\"STATUS\\\"]).count().reset_index()\\n)\";\n",
       "                var nbb_cells = Jupyter.notebook.get_cells();\n",
       "                for (var i = 0; i < nbb_cells.length; ++i) {\n",
       "                    if (nbb_cells[i].input_prompt_number == nbb_cell_id) {\n",
       "                        if (nbb_cells[i].get_text() == nbb_unformatted_code) {\n",
       "                             nbb_cells[i].set_text(nbb_formatted_code);\n",
       "                        }\n",
       "                        break;\n",
       "                    }\n",
       "                }\n",
       "            }, 500);\n",
       "            "
      ],
      "text/plain": [
       "<IPython.core.display.Javascript object>"
      ]
     },
     "metadata": {},
     "output_type": "display_data"
    }
   ],
   "source": [
    "# extracting status counts\n",
    "status_counts_df = (\n",
    "    bureau_balance_df.groupby([\"SK_ID_BUREAU\", \"STATUS\"]).count().reset_index()\n",
    ")"
   ]
  },
  {
   "cell_type": "code",
   "execution_count": 19,
   "metadata": {},
   "outputs": [
    {
     "data": {
      "application/javascript": [
       "\n",
       "            setTimeout(function() {\n",
       "                var nbb_cell_id = 19;\n",
       "                var nbb_unformatted_code = \"# making pivot table of status counts\\nstatus_pivot_df = status_counts_df.pivot_table(\\n    \\\"MONTHS_BALANCE\\\", \\\"SK_ID_BUREAU\\\", \\\"STATUS\\\"\\n)\";\n",
       "                var nbb_formatted_code = \"# making pivot table of status counts\\nstatus_pivot_df = status_counts_df.pivot_table(\\n    \\\"MONTHS_BALANCE\\\", \\\"SK_ID_BUREAU\\\", \\\"STATUS\\\"\\n)\";\n",
       "                var nbb_cells = Jupyter.notebook.get_cells();\n",
       "                for (var i = 0; i < nbb_cells.length; ++i) {\n",
       "                    if (nbb_cells[i].input_prompt_number == nbb_cell_id) {\n",
       "                        if (nbb_cells[i].get_text() == nbb_unformatted_code) {\n",
       "                             nbb_cells[i].set_text(nbb_formatted_code);\n",
       "                        }\n",
       "                        break;\n",
       "                    }\n",
       "                }\n",
       "            }, 500);\n",
       "            "
      ],
      "text/plain": [
       "<IPython.core.display.Javascript object>"
      ]
     },
     "metadata": {},
     "output_type": "display_data"
    }
   ],
   "source": [
    "# making pivot table of status counts\n",
    "status_pivot_df = status_counts_df.pivot_table(\n",
    "    \"MONTHS_BALANCE\", \"SK_ID_BUREAU\", \"STATUS\"\n",
    ")"
   ]
  },
  {
   "cell_type": "code",
   "execution_count": 20,
   "metadata": {},
   "outputs": [
    {
     "data": {
      "application/javascript": [
       "\n",
       "            setTimeout(function() {\n",
       "                var nbb_cell_id = 20;\n",
       "                var nbb_unformatted_code = \"# filling NaN values with 0\\nstatus_pivot_df = status_pivot_df.fillna(0)\";\n",
       "                var nbb_formatted_code = \"# filling NaN values with 0\\nstatus_pivot_df = status_pivot_df.fillna(0)\";\n",
       "                var nbb_cells = Jupyter.notebook.get_cells();\n",
       "                for (var i = 0; i < nbb_cells.length; ++i) {\n",
       "                    if (nbb_cells[i].input_prompt_number == nbb_cell_id) {\n",
       "                        if (nbb_cells[i].get_text() == nbb_unformatted_code) {\n",
       "                             nbb_cells[i].set_text(nbb_formatted_code);\n",
       "                        }\n",
       "                        break;\n",
       "                    }\n",
       "                }\n",
       "            }, 500);\n",
       "            "
      ],
      "text/plain": [
       "<IPython.core.display.Javascript object>"
      ]
     },
     "metadata": {},
     "output_type": "display_data"
    }
   ],
   "source": [
    "# filling NaN values with 0\n",
    "status_pivot_df = status_pivot_df.fillna(0)"
   ]
  },
  {
   "cell_type": "code",
   "execution_count": 21,
   "metadata": {},
   "outputs": [
    {
     "data": {
      "application/javascript": [
       "\n",
       "            setTimeout(function() {\n",
       "                var nbb_cell_id = 21;\n",
       "                var nbb_unformatted_code = \"# merging two dataframes\\nextracted_df = pd.merge(\\n    extracted_df, status_pivot_df, left_on=\\\"SK_ID_BUREAU\\\", right_on=\\\"SK_ID_BUREAU\\\"\\n)\";\n",
       "                var nbb_formatted_code = \"# merging two dataframes\\nextracted_df = pd.merge(\\n    extracted_df, status_pivot_df, left_on=\\\"SK_ID_BUREAU\\\", right_on=\\\"SK_ID_BUREAU\\\"\\n)\";\n",
       "                var nbb_cells = Jupyter.notebook.get_cells();\n",
       "                for (var i = 0; i < nbb_cells.length; ++i) {\n",
       "                    if (nbb_cells[i].input_prompt_number == nbb_cell_id) {\n",
       "                        if (nbb_cells[i].get_text() == nbb_unformatted_code) {\n",
       "                             nbb_cells[i].set_text(nbb_formatted_code);\n",
       "                        }\n",
       "                        break;\n",
       "                    }\n",
       "                }\n",
       "            }, 500);\n",
       "            "
      ],
      "text/plain": [
       "<IPython.core.display.Javascript object>"
      ]
     },
     "metadata": {},
     "output_type": "display_data"
    }
   ],
   "source": [
    "# merging two dataframes\n",
    "extracted_df = pd.merge(\n",
    "    extracted_df, status_pivot_df, left_on=\"SK_ID_BUREAU\", right_on=\"SK_ID_BUREAU\"\n",
    ")"
   ]
  },
  {
   "cell_type": "markdown",
   "metadata": {},
   "source": [
    "Last step before merging it with bureau_df is to calculate ratios (because ratios represent better than absolute numbers if a person is willing to pay the credit and understand the risks behind it). Status C will be treated as 0. Same situation with status X (in favor of applicant)."
   ]
  },
  {
   "cell_type": "code",
   "execution_count": 22,
   "metadata": {},
   "outputs": [
    {
     "data": {
      "application/javascript": [
       "\n",
       "            setTimeout(function() {\n",
       "                var nbb_cell_id = 22;\n",
       "                var nbb_unformatted_code = \"# calculating ratios\\nextracted_df[\\\"ratio_0\\\"] = (\\n    extracted_df[\\\"0\\\"] + extracted_df[\\\"C\\\"] + extracted_df[\\\"X\\\"]\\n) / extracted_df[\\\"COUNT\\\"]\\n\\nother_statuses = [str(x) for x in range(1, 6)]\\n\\nfor status in other_statuses:\\n    new_name = \\\"ratio_\\\" + status\\n    extracted_df[new_name] = extracted_df[status] / extracted_df[\\\"COUNT\\\"]\";\n",
       "                var nbb_formatted_code = \"# calculating ratios\\nextracted_df[\\\"ratio_0\\\"] = (\\n    extracted_df[\\\"0\\\"] + extracted_df[\\\"C\\\"] + extracted_df[\\\"X\\\"]\\n) / extracted_df[\\\"COUNT\\\"]\\n\\nother_statuses = [str(x) for x in range(1, 6)]\\n\\nfor status in other_statuses:\\n    new_name = \\\"ratio_\\\" + status\\n    extracted_df[new_name] = extracted_df[status] / extracted_df[\\\"COUNT\\\"]\";\n",
       "                var nbb_cells = Jupyter.notebook.get_cells();\n",
       "                for (var i = 0; i < nbb_cells.length; ++i) {\n",
       "                    if (nbb_cells[i].input_prompt_number == nbb_cell_id) {\n",
       "                        if (nbb_cells[i].get_text() == nbb_unformatted_code) {\n",
       "                             nbb_cells[i].set_text(nbb_formatted_code);\n",
       "                        }\n",
       "                        break;\n",
       "                    }\n",
       "                }\n",
       "            }, 500);\n",
       "            "
      ],
      "text/plain": [
       "<IPython.core.display.Javascript object>"
      ]
     },
     "metadata": {},
     "output_type": "display_data"
    }
   ],
   "source": [
    "# calculating ratios\n",
    "extracted_df[\"ratio_0\"] = (\n",
    "    extracted_df[\"0\"] + extracted_df[\"C\"] + extracted_df[\"X\"]\n",
    ") / extracted_df[\"COUNT\"]\n",
    "\n",
    "other_statuses = [str(x) for x in range(1, 6)]\n",
    "\n",
    "for status in other_statuses:\n",
    "    new_name = \"ratio_\" + status\n",
    "    extracted_df[new_name] = extracted_df[status] / extracted_df[\"COUNT\"]"
   ]
  },
  {
   "cell_type": "code",
   "execution_count": 23,
   "metadata": {
    "scrolled": false
   },
   "outputs": [
    {
     "data": {
      "text/html": [
       "<div>\n",
       "<style scoped>\n",
       "    .dataframe tbody tr th:only-of-type {\n",
       "        vertical-align: middle;\n",
       "    }\n",
       "\n",
       "    .dataframe tbody tr th {\n",
       "        vertical-align: top;\n",
       "    }\n",
       "\n",
       "    .dataframe thead th {\n",
       "        text-align: right;\n",
       "    }\n",
       "</style>\n",
       "<table border=\"1\" class=\"dataframe\">\n",
       "  <thead>\n",
       "    <tr style=\"text-align: right;\">\n",
       "      <th></th>\n",
       "      <th>SK_ID_BUREAU</th>\n",
       "      <th>ratio_0</th>\n",
       "      <th>ratio_1</th>\n",
       "      <th>ratio_2</th>\n",
       "      <th>ratio_3</th>\n",
       "      <th>ratio_4</th>\n",
       "      <th>ratio_5</th>\n",
       "    </tr>\n",
       "  </thead>\n",
       "  <tbody>\n",
       "    <tr>\n",
       "      <th>0</th>\n",
       "      <td>5001710</td>\n",
       "      <td>1.000000</td>\n",
       "      <td>0.000000</td>\n",
       "      <td>0.0</td>\n",
       "      <td>0.0</td>\n",
       "      <td>0.0</td>\n",
       "      <td>0.0</td>\n",
       "    </tr>\n",
       "    <tr>\n",
       "      <th>1</th>\n",
       "      <td>5001711</td>\n",
       "      <td>1.000000</td>\n",
       "      <td>0.000000</td>\n",
       "      <td>0.0</td>\n",
       "      <td>0.0</td>\n",
       "      <td>0.0</td>\n",
       "      <td>0.0</td>\n",
       "    </tr>\n",
       "    <tr>\n",
       "      <th>2</th>\n",
       "      <td>5001712</td>\n",
       "      <td>1.000000</td>\n",
       "      <td>0.000000</td>\n",
       "      <td>0.0</td>\n",
       "      <td>0.0</td>\n",
       "      <td>0.0</td>\n",
       "      <td>0.0</td>\n",
       "    </tr>\n",
       "    <tr>\n",
       "      <th>3</th>\n",
       "      <td>5001713</td>\n",
       "      <td>1.000000</td>\n",
       "      <td>0.000000</td>\n",
       "      <td>0.0</td>\n",
       "      <td>0.0</td>\n",
       "      <td>0.0</td>\n",
       "      <td>0.0</td>\n",
       "    </tr>\n",
       "    <tr>\n",
       "      <th>4</th>\n",
       "      <td>5001714</td>\n",
       "      <td>1.000000</td>\n",
       "      <td>0.000000</td>\n",
       "      <td>0.0</td>\n",
       "      <td>0.0</td>\n",
       "      <td>0.0</td>\n",
       "      <td>0.0</td>\n",
       "    </tr>\n",
       "    <tr>\n",
       "      <th>...</th>\n",
       "      <td>...</td>\n",
       "      <td>...</td>\n",
       "      <td>...</td>\n",
       "      <td>...</td>\n",
       "      <td>...</td>\n",
       "      <td>...</td>\n",
       "      <td>...</td>\n",
       "    </tr>\n",
       "    <tr>\n",
       "      <th>774349</th>\n",
       "      <td>6842884</td>\n",
       "      <td>1.000000</td>\n",
       "      <td>0.000000</td>\n",
       "      <td>0.0</td>\n",
       "      <td>0.0</td>\n",
       "      <td>0.0</td>\n",
       "      <td>0.0</td>\n",
       "    </tr>\n",
       "    <tr>\n",
       "      <th>774350</th>\n",
       "      <td>6842885</td>\n",
       "      <td>0.500000</td>\n",
       "      <td>0.000000</td>\n",
       "      <td>0.0</td>\n",
       "      <td>0.0</td>\n",
       "      <td>0.0</td>\n",
       "      <td>0.5</td>\n",
       "    </tr>\n",
       "    <tr>\n",
       "      <th>774351</th>\n",
       "      <td>6842886</td>\n",
       "      <td>1.000000</td>\n",
       "      <td>0.000000</td>\n",
       "      <td>0.0</td>\n",
       "      <td>0.0</td>\n",
       "      <td>0.0</td>\n",
       "      <td>0.0</td>\n",
       "    </tr>\n",
       "    <tr>\n",
       "      <th>774352</th>\n",
       "      <td>6842887</td>\n",
       "      <td>1.000000</td>\n",
       "      <td>0.000000</td>\n",
       "      <td>0.0</td>\n",
       "      <td>0.0</td>\n",
       "      <td>0.0</td>\n",
       "      <td>0.0</td>\n",
       "    </tr>\n",
       "    <tr>\n",
       "      <th>774353</th>\n",
       "      <td>6842888</td>\n",
       "      <td>0.983871</td>\n",
       "      <td>0.016129</td>\n",
       "      <td>0.0</td>\n",
       "      <td>0.0</td>\n",
       "      <td>0.0</td>\n",
       "      <td>0.0</td>\n",
       "    </tr>\n",
       "  </tbody>\n",
       "</table>\n",
       "<p>774354 rows × 7 columns</p>\n",
       "</div>"
      ],
      "text/plain": [
       "        SK_ID_BUREAU   ratio_0   ratio_1  ratio_2  ratio_3  ratio_4  ratio_5\n",
       "0            5001710  1.000000  0.000000      0.0      0.0      0.0      0.0\n",
       "1            5001711  1.000000  0.000000      0.0      0.0      0.0      0.0\n",
       "2            5001712  1.000000  0.000000      0.0      0.0      0.0      0.0\n",
       "3            5001713  1.000000  0.000000      0.0      0.0      0.0      0.0\n",
       "4            5001714  1.000000  0.000000      0.0      0.0      0.0      0.0\n",
       "...              ...       ...       ...      ...      ...      ...      ...\n",
       "774349       6842884  1.000000  0.000000      0.0      0.0      0.0      0.0\n",
       "774350       6842885  0.500000  0.000000      0.0      0.0      0.0      0.5\n",
       "774351       6842886  1.000000  0.000000      0.0      0.0      0.0      0.0\n",
       "774352       6842887  1.000000  0.000000      0.0      0.0      0.0      0.0\n",
       "774353       6842888  0.983871  0.016129      0.0      0.0      0.0      0.0\n",
       "\n",
       "[774354 rows x 7 columns]"
      ]
     },
     "execution_count": 23,
     "metadata": {},
     "output_type": "execute_result"
    },
    {
     "data": {
      "application/javascript": [
       "\n",
       "            setTimeout(function() {\n",
       "                var nbb_cell_id = 23;\n",
       "                var nbb_unformatted_code = \"join_cols = [\\n    \\\"SK_ID_BUREAU\\\",\\n    \\\"ratio_0\\\",\\n    \\\"ratio_1\\\",\\n    \\\"ratio_2\\\",\\n    \\\"ratio_3\\\",\\n    \\\"ratio_4\\\",\\n    \\\"ratio_5\\\",\\n]\\nextracted_df[join_cols]\";\n",
       "                var nbb_formatted_code = \"join_cols = [\\n    \\\"SK_ID_BUREAU\\\",\\n    \\\"ratio_0\\\",\\n    \\\"ratio_1\\\",\\n    \\\"ratio_2\\\",\\n    \\\"ratio_3\\\",\\n    \\\"ratio_4\\\",\\n    \\\"ratio_5\\\",\\n]\\nextracted_df[join_cols]\";\n",
       "                var nbb_cells = Jupyter.notebook.get_cells();\n",
       "                for (var i = 0; i < nbb_cells.length; ++i) {\n",
       "                    if (nbb_cells[i].input_prompt_number == nbb_cell_id) {\n",
       "                        if (nbb_cells[i].get_text() == nbb_unformatted_code) {\n",
       "                             nbb_cells[i].set_text(nbb_formatted_code);\n",
       "                        }\n",
       "                        break;\n",
       "                    }\n",
       "                }\n",
       "            }, 500);\n",
       "            "
      ],
      "text/plain": [
       "<IPython.core.display.Javascript object>"
      ]
     },
     "metadata": {},
     "output_type": "display_data"
    }
   ],
   "source": [
    "join_cols = [\n",
    "    \"SK_ID_BUREAU\",\n",
    "    \"ratio_0\",\n",
    "    \"ratio_1\",\n",
    "    \"ratio_2\",\n",
    "    \"ratio_3\",\n",
    "    \"ratio_4\",\n",
    "    \"ratio_5\",\n",
    "]\n",
    "extracted_df[join_cols]"
   ]
  },
  {
   "cell_type": "code",
   "execution_count": 24,
   "metadata": {
    "scrolled": false
   },
   "outputs": [
    {
     "data": {
      "application/javascript": [
       "\n",
       "            setTimeout(function() {\n",
       "                var nbb_cell_id = 24;\n",
       "                var nbb_unformatted_code = \"# merging bureau_balance_df main insights to bureau_df\\nbureau_df = pd.merge(bureau_df, extracted_df[join_cols], on=\\\"SK_ID_BUREAU\\\", how=\\\"left\\\")\";\n",
       "                var nbb_formatted_code = \"# merging bureau_balance_df main insights to bureau_df\\nbureau_df = pd.merge(bureau_df, extracted_df[join_cols], on=\\\"SK_ID_BUREAU\\\", how=\\\"left\\\")\";\n",
       "                var nbb_cells = Jupyter.notebook.get_cells();\n",
       "                for (var i = 0; i < nbb_cells.length; ++i) {\n",
       "                    if (nbb_cells[i].input_prompt_number == nbb_cell_id) {\n",
       "                        if (nbb_cells[i].get_text() == nbb_unformatted_code) {\n",
       "                             nbb_cells[i].set_text(nbb_formatted_code);\n",
       "                        }\n",
       "                        break;\n",
       "                    }\n",
       "                }\n",
       "            }, 500);\n",
       "            "
      ],
      "text/plain": [
       "<IPython.core.display.Javascript object>"
      ]
     },
     "metadata": {},
     "output_type": "display_data"
    }
   ],
   "source": [
    "# merging bureau_balance_df main insights to bureau_df\n",
    "bureau_df = pd.merge(bureau_df, extracted_df[join_cols], on=\"SK_ID_BUREAU\", how=\"left\")"
   ]
  },
  {
   "cell_type": "markdown",
   "metadata": {},
   "source": [
    "**2-1-2**. Exploring bureau_df and finding the best features that could be exported to train and test dfs."
   ]
  },
  {
   "cell_type": "code",
   "execution_count": 25,
   "metadata": {
    "scrolled": false
   },
   "outputs": [
    {
     "data": {
      "text/html": [
       "<div>\n",
       "<style scoped>\n",
       "    .dataframe tbody tr th:only-of-type {\n",
       "        vertical-align: middle;\n",
       "    }\n",
       "\n",
       "    .dataframe tbody tr th {\n",
       "        vertical-align: top;\n",
       "    }\n",
       "\n",
       "    .dataframe thead th {\n",
       "        text-align: right;\n",
       "    }\n",
       "</style>\n",
       "<table border=\"1\" class=\"dataframe\">\n",
       "  <thead>\n",
       "    <tr style=\"text-align: right;\">\n",
       "      <th></th>\n",
       "      <th>SK_ID_CURR</th>\n",
       "      <th>SK_ID_BUREAU</th>\n",
       "      <th>CREDIT_ACTIVE</th>\n",
       "      <th>CREDIT_CURRENCY</th>\n",
       "      <th>DAYS_CREDIT</th>\n",
       "      <th>CREDIT_DAY_OVERDUE</th>\n",
       "      <th>DAYS_CREDIT_ENDDATE</th>\n",
       "      <th>DAYS_ENDDATE_FACT</th>\n",
       "      <th>AMT_CREDIT_MAX_OVERDUE</th>\n",
       "      <th>CNT_CREDIT_PROLONG</th>\n",
       "      <th>...</th>\n",
       "      <th>AMT_CREDIT_SUM_OVERDUE</th>\n",
       "      <th>CREDIT_TYPE</th>\n",
       "      <th>DAYS_CREDIT_UPDATE</th>\n",
       "      <th>AMT_ANNUITY</th>\n",
       "      <th>ratio_0</th>\n",
       "      <th>ratio_1</th>\n",
       "      <th>ratio_2</th>\n",
       "      <th>ratio_3</th>\n",
       "      <th>ratio_4</th>\n",
       "      <th>ratio_5</th>\n",
       "    </tr>\n",
       "  </thead>\n",
       "  <tbody>\n",
       "    <tr>\n",
       "      <th>0</th>\n",
       "      <td>215354</td>\n",
       "      <td>5714462</td>\n",
       "      <td>Closed</td>\n",
       "      <td>currency 1</td>\n",
       "      <td>-497</td>\n",
       "      <td>0</td>\n",
       "      <td>-153.0</td>\n",
       "      <td>-153.0</td>\n",
       "      <td>NaN</td>\n",
       "      <td>0</td>\n",
       "      <td>...</td>\n",
       "      <td>0.0</td>\n",
       "      <td>Consumer credit</td>\n",
       "      <td>-131</td>\n",
       "      <td>NaN</td>\n",
       "      <td>NaN</td>\n",
       "      <td>NaN</td>\n",
       "      <td>NaN</td>\n",
       "      <td>NaN</td>\n",
       "      <td>NaN</td>\n",
       "      <td>NaN</td>\n",
       "    </tr>\n",
       "    <tr>\n",
       "      <th>1</th>\n",
       "      <td>215354</td>\n",
       "      <td>5714463</td>\n",
       "      <td>Active</td>\n",
       "      <td>currency 1</td>\n",
       "      <td>-208</td>\n",
       "      <td>0</td>\n",
       "      <td>1075.0</td>\n",
       "      <td>NaN</td>\n",
       "      <td>NaN</td>\n",
       "      <td>0</td>\n",
       "      <td>...</td>\n",
       "      <td>0.0</td>\n",
       "      <td>Credit card</td>\n",
       "      <td>-20</td>\n",
       "      <td>NaN</td>\n",
       "      <td>NaN</td>\n",
       "      <td>NaN</td>\n",
       "      <td>NaN</td>\n",
       "      <td>NaN</td>\n",
       "      <td>NaN</td>\n",
       "      <td>NaN</td>\n",
       "    </tr>\n",
       "    <tr>\n",
       "      <th>2</th>\n",
       "      <td>215354</td>\n",
       "      <td>5714464</td>\n",
       "      <td>Active</td>\n",
       "      <td>currency 1</td>\n",
       "      <td>-203</td>\n",
       "      <td>0</td>\n",
       "      <td>528.0</td>\n",
       "      <td>NaN</td>\n",
       "      <td>NaN</td>\n",
       "      <td>0</td>\n",
       "      <td>...</td>\n",
       "      <td>0.0</td>\n",
       "      <td>Consumer credit</td>\n",
       "      <td>-16</td>\n",
       "      <td>NaN</td>\n",
       "      <td>NaN</td>\n",
       "      <td>NaN</td>\n",
       "      <td>NaN</td>\n",
       "      <td>NaN</td>\n",
       "      <td>NaN</td>\n",
       "      <td>NaN</td>\n",
       "    </tr>\n",
       "    <tr>\n",
       "      <th>3</th>\n",
       "      <td>215354</td>\n",
       "      <td>5714465</td>\n",
       "      <td>Active</td>\n",
       "      <td>currency 1</td>\n",
       "      <td>-203</td>\n",
       "      <td>0</td>\n",
       "      <td>NaN</td>\n",
       "      <td>NaN</td>\n",
       "      <td>NaN</td>\n",
       "      <td>0</td>\n",
       "      <td>...</td>\n",
       "      <td>0.0</td>\n",
       "      <td>Credit card</td>\n",
       "      <td>-16</td>\n",
       "      <td>NaN</td>\n",
       "      <td>NaN</td>\n",
       "      <td>NaN</td>\n",
       "      <td>NaN</td>\n",
       "      <td>NaN</td>\n",
       "      <td>NaN</td>\n",
       "      <td>NaN</td>\n",
       "    </tr>\n",
       "    <tr>\n",
       "      <th>4</th>\n",
       "      <td>215354</td>\n",
       "      <td>5714466</td>\n",
       "      <td>Active</td>\n",
       "      <td>currency 1</td>\n",
       "      <td>-629</td>\n",
       "      <td>0</td>\n",
       "      <td>1197.0</td>\n",
       "      <td>NaN</td>\n",
       "      <td>77674.5</td>\n",
       "      <td>0</td>\n",
       "      <td>...</td>\n",
       "      <td>0.0</td>\n",
       "      <td>Consumer credit</td>\n",
       "      <td>-21</td>\n",
       "      <td>NaN</td>\n",
       "      <td>NaN</td>\n",
       "      <td>NaN</td>\n",
       "      <td>NaN</td>\n",
       "      <td>NaN</td>\n",
       "      <td>NaN</td>\n",
       "      <td>NaN</td>\n",
       "    </tr>\n",
       "    <tr>\n",
       "      <th>...</th>\n",
       "      <td>...</td>\n",
       "      <td>...</td>\n",
       "      <td>...</td>\n",
       "      <td>...</td>\n",
       "      <td>...</td>\n",
       "      <td>...</td>\n",
       "      <td>...</td>\n",
       "      <td>...</td>\n",
       "      <td>...</td>\n",
       "      <td>...</td>\n",
       "      <td>...</td>\n",
       "      <td>...</td>\n",
       "      <td>...</td>\n",
       "      <td>...</td>\n",
       "      <td>...</td>\n",
       "      <td>...</td>\n",
       "      <td>...</td>\n",
       "      <td>...</td>\n",
       "      <td>...</td>\n",
       "      <td>...</td>\n",
       "      <td>...</td>\n",
       "    </tr>\n",
       "    <tr>\n",
       "      <th>1716423</th>\n",
       "      <td>259355</td>\n",
       "      <td>5057750</td>\n",
       "      <td>Active</td>\n",
       "      <td>currency 1</td>\n",
       "      <td>-44</td>\n",
       "      <td>0</td>\n",
       "      <td>-30.0</td>\n",
       "      <td>NaN</td>\n",
       "      <td>0.0</td>\n",
       "      <td>0</td>\n",
       "      <td>...</td>\n",
       "      <td>0.0</td>\n",
       "      <td>Microloan</td>\n",
       "      <td>-19</td>\n",
       "      <td>NaN</td>\n",
       "      <td>NaN</td>\n",
       "      <td>NaN</td>\n",
       "      <td>NaN</td>\n",
       "      <td>NaN</td>\n",
       "      <td>NaN</td>\n",
       "      <td>NaN</td>\n",
       "    </tr>\n",
       "    <tr>\n",
       "      <th>1716424</th>\n",
       "      <td>100044</td>\n",
       "      <td>5057754</td>\n",
       "      <td>Closed</td>\n",
       "      <td>currency 1</td>\n",
       "      <td>-2648</td>\n",
       "      <td>0</td>\n",
       "      <td>-2433.0</td>\n",
       "      <td>-2493.0</td>\n",
       "      <td>5476.5</td>\n",
       "      <td>0</td>\n",
       "      <td>...</td>\n",
       "      <td>0.0</td>\n",
       "      <td>Consumer credit</td>\n",
       "      <td>-2493</td>\n",
       "      <td>NaN</td>\n",
       "      <td>NaN</td>\n",
       "      <td>NaN</td>\n",
       "      <td>NaN</td>\n",
       "      <td>NaN</td>\n",
       "      <td>NaN</td>\n",
       "      <td>NaN</td>\n",
       "    </tr>\n",
       "    <tr>\n",
       "      <th>1716425</th>\n",
       "      <td>100044</td>\n",
       "      <td>5057762</td>\n",
       "      <td>Closed</td>\n",
       "      <td>currency 1</td>\n",
       "      <td>-1809</td>\n",
       "      <td>0</td>\n",
       "      <td>-1628.0</td>\n",
       "      <td>-970.0</td>\n",
       "      <td>NaN</td>\n",
       "      <td>0</td>\n",
       "      <td>...</td>\n",
       "      <td>0.0</td>\n",
       "      <td>Consumer credit</td>\n",
       "      <td>-967</td>\n",
       "      <td>NaN</td>\n",
       "      <td>NaN</td>\n",
       "      <td>NaN</td>\n",
       "      <td>NaN</td>\n",
       "      <td>NaN</td>\n",
       "      <td>NaN</td>\n",
       "      <td>NaN</td>\n",
       "    </tr>\n",
       "    <tr>\n",
       "      <th>1716426</th>\n",
       "      <td>246829</td>\n",
       "      <td>5057770</td>\n",
       "      <td>Closed</td>\n",
       "      <td>currency 1</td>\n",
       "      <td>-1878</td>\n",
       "      <td>0</td>\n",
       "      <td>-1513.0</td>\n",
       "      <td>-1513.0</td>\n",
       "      <td>NaN</td>\n",
       "      <td>0</td>\n",
       "      <td>...</td>\n",
       "      <td>0.0</td>\n",
       "      <td>Consumer credit</td>\n",
       "      <td>-1508</td>\n",
       "      <td>NaN</td>\n",
       "      <td>NaN</td>\n",
       "      <td>NaN</td>\n",
       "      <td>NaN</td>\n",
       "      <td>NaN</td>\n",
       "      <td>NaN</td>\n",
       "      <td>NaN</td>\n",
       "    </tr>\n",
       "    <tr>\n",
       "      <th>1716427</th>\n",
       "      <td>246829</td>\n",
       "      <td>5057778</td>\n",
       "      <td>Closed</td>\n",
       "      <td>currency 1</td>\n",
       "      <td>-463</td>\n",
       "      <td>0</td>\n",
       "      <td>NaN</td>\n",
       "      <td>-387.0</td>\n",
       "      <td>NaN</td>\n",
       "      <td>0</td>\n",
       "      <td>...</td>\n",
       "      <td>0.0</td>\n",
       "      <td>Microloan</td>\n",
       "      <td>-387</td>\n",
       "      <td>NaN</td>\n",
       "      <td>NaN</td>\n",
       "      <td>NaN</td>\n",
       "      <td>NaN</td>\n",
       "      <td>NaN</td>\n",
       "      <td>NaN</td>\n",
       "      <td>NaN</td>\n",
       "    </tr>\n",
       "  </tbody>\n",
       "</table>\n",
       "<p>1716428 rows × 23 columns</p>\n",
       "</div>"
      ],
      "text/plain": [
       "         SK_ID_CURR  SK_ID_BUREAU CREDIT_ACTIVE CREDIT_CURRENCY  DAYS_CREDIT  \\\n",
       "0            215354       5714462        Closed      currency 1         -497   \n",
       "1            215354       5714463        Active      currency 1         -208   \n",
       "2            215354       5714464        Active      currency 1         -203   \n",
       "3            215354       5714465        Active      currency 1         -203   \n",
       "4            215354       5714466        Active      currency 1         -629   \n",
       "...             ...           ...           ...             ...          ...   \n",
       "1716423      259355       5057750        Active      currency 1          -44   \n",
       "1716424      100044       5057754        Closed      currency 1        -2648   \n",
       "1716425      100044       5057762        Closed      currency 1        -1809   \n",
       "1716426      246829       5057770        Closed      currency 1        -1878   \n",
       "1716427      246829       5057778        Closed      currency 1         -463   \n",
       "\n",
       "         CREDIT_DAY_OVERDUE  DAYS_CREDIT_ENDDATE  DAYS_ENDDATE_FACT  \\\n",
       "0                         0               -153.0             -153.0   \n",
       "1                         0               1075.0                NaN   \n",
       "2                         0                528.0                NaN   \n",
       "3                         0                  NaN                NaN   \n",
       "4                         0               1197.0                NaN   \n",
       "...                     ...                  ...                ...   \n",
       "1716423                   0                -30.0                NaN   \n",
       "1716424                   0              -2433.0            -2493.0   \n",
       "1716425                   0              -1628.0             -970.0   \n",
       "1716426                   0              -1513.0            -1513.0   \n",
       "1716427                   0                  NaN             -387.0   \n",
       "\n",
       "         AMT_CREDIT_MAX_OVERDUE  CNT_CREDIT_PROLONG  ...  \\\n",
       "0                           NaN                   0  ...   \n",
       "1                           NaN                   0  ...   \n",
       "2                           NaN                   0  ...   \n",
       "3                           NaN                   0  ...   \n",
       "4                       77674.5                   0  ...   \n",
       "...                         ...                 ...  ...   \n",
       "1716423                     0.0                   0  ...   \n",
       "1716424                  5476.5                   0  ...   \n",
       "1716425                     NaN                   0  ...   \n",
       "1716426                     NaN                   0  ...   \n",
       "1716427                     NaN                   0  ...   \n",
       "\n",
       "         AMT_CREDIT_SUM_OVERDUE      CREDIT_TYPE  DAYS_CREDIT_UPDATE  \\\n",
       "0                           0.0  Consumer credit                -131   \n",
       "1                           0.0      Credit card                 -20   \n",
       "2                           0.0  Consumer credit                 -16   \n",
       "3                           0.0      Credit card                 -16   \n",
       "4                           0.0  Consumer credit                 -21   \n",
       "...                         ...              ...                 ...   \n",
       "1716423                     0.0        Microloan                 -19   \n",
       "1716424                     0.0  Consumer credit               -2493   \n",
       "1716425                     0.0  Consumer credit                -967   \n",
       "1716426                     0.0  Consumer credit               -1508   \n",
       "1716427                     0.0        Microloan                -387   \n",
       "\n",
       "         AMT_ANNUITY ratio_0  ratio_1  ratio_2  ratio_3  ratio_4  ratio_5  \n",
       "0                NaN     NaN      NaN      NaN      NaN      NaN      NaN  \n",
       "1                NaN     NaN      NaN      NaN      NaN      NaN      NaN  \n",
       "2                NaN     NaN      NaN      NaN      NaN      NaN      NaN  \n",
       "3                NaN     NaN      NaN      NaN      NaN      NaN      NaN  \n",
       "4                NaN     NaN      NaN      NaN      NaN      NaN      NaN  \n",
       "...              ...     ...      ...      ...      ...      ...      ...  \n",
       "1716423          NaN     NaN      NaN      NaN      NaN      NaN      NaN  \n",
       "1716424          NaN     NaN      NaN      NaN      NaN      NaN      NaN  \n",
       "1716425          NaN     NaN      NaN      NaN      NaN      NaN      NaN  \n",
       "1716426          NaN     NaN      NaN      NaN      NaN      NaN      NaN  \n",
       "1716427          NaN     NaN      NaN      NaN      NaN      NaN      NaN  \n",
       "\n",
       "[1716428 rows x 23 columns]"
      ]
     },
     "execution_count": 25,
     "metadata": {},
     "output_type": "execute_result"
    },
    {
     "data": {
      "application/javascript": [
       "\n",
       "            setTimeout(function() {\n",
       "                var nbb_cell_id = 25;\n",
       "                var nbb_unformatted_code = \"bureau_df\";\n",
       "                var nbb_formatted_code = \"bureau_df\";\n",
       "                var nbb_cells = Jupyter.notebook.get_cells();\n",
       "                for (var i = 0; i < nbb_cells.length; ++i) {\n",
       "                    if (nbb_cells[i].input_prompt_number == nbb_cell_id) {\n",
       "                        if (nbb_cells[i].get_text() == nbb_unformatted_code) {\n",
       "                             nbb_cells[i].set_text(nbb_formatted_code);\n",
       "                        }\n",
       "                        break;\n",
       "                    }\n",
       "                }\n",
       "            }, 500);\n",
       "            "
      ],
      "text/plain": [
       "<IPython.core.display.Javascript object>"
      ]
     },
     "metadata": {},
     "output_type": "display_data"
    }
   ],
   "source": [
    "bureau_df"
   ]
  },
  {
   "cell_type": "code",
   "execution_count": 26,
   "metadata": {},
   "outputs": [
    {
     "data": {
      "application/javascript": [
       "\n",
       "            setTimeout(function() {\n",
       "                var nbb_cell_id = 26;\n",
       "                var nbb_unformatted_code = \"# creating df for exporting to train_df and test_df\\nexport_df = pd.DataFrame()\\nexport_df[\\\"SK_ID_CURR\\\"] = bureau_df.SK_ID_CURR.unique()\";\n",
       "                var nbb_formatted_code = \"# creating df for exporting to train_df and test_df\\nexport_df = pd.DataFrame()\\nexport_df[\\\"SK_ID_CURR\\\"] = bureau_df.SK_ID_CURR.unique()\";\n",
       "                var nbb_cells = Jupyter.notebook.get_cells();\n",
       "                for (var i = 0; i < nbb_cells.length; ++i) {\n",
       "                    if (nbb_cells[i].input_prompt_number == nbb_cell_id) {\n",
       "                        if (nbb_cells[i].get_text() == nbb_unformatted_code) {\n",
       "                             nbb_cells[i].set_text(nbb_formatted_code);\n",
       "                        }\n",
       "                        break;\n",
       "                    }\n",
       "                }\n",
       "            }, 500);\n",
       "            "
      ],
      "text/plain": [
       "<IPython.core.display.Javascript object>"
      ]
     },
     "metadata": {},
     "output_type": "display_data"
    }
   ],
   "source": [
    "# creating df for exporting to train_df and test_df\n",
    "export_df = pd.DataFrame()\n",
    "export_df[\"SK_ID_CURR\"] = bureau_df.SK_ID_CURR.unique()"
   ]
  },
  {
   "cell_type": "markdown",
   "metadata": {},
   "source": [
    "Column credit active could be transformed into pivot table and added to export_df as experience about applicant, on how many credits did he take and how many of them are still active."
   ]
  },
  {
   "cell_type": "code",
   "execution_count": 27,
   "metadata": {},
   "outputs": [
    {
     "data": {
      "application/javascript": [
       "\n",
       "            setTimeout(function() {\n",
       "                var nbb_cell_id = 27;\n",
       "                var nbb_unformatted_code = \"# extracting status counts\\nstatus_counts_df = (\\n    bureau_df.groupby([\\\"SK_ID_CURR\\\", \\\"CREDIT_ACTIVE\\\"]).count().reset_index()\\n)\";\n",
       "                var nbb_formatted_code = \"# extracting status counts\\nstatus_counts_df = (\\n    bureau_df.groupby([\\\"SK_ID_CURR\\\", \\\"CREDIT_ACTIVE\\\"]).count().reset_index()\\n)\";\n",
       "                var nbb_cells = Jupyter.notebook.get_cells();\n",
       "                for (var i = 0; i < nbb_cells.length; ++i) {\n",
       "                    if (nbb_cells[i].input_prompt_number == nbb_cell_id) {\n",
       "                        if (nbb_cells[i].get_text() == nbb_unformatted_code) {\n",
       "                             nbb_cells[i].set_text(nbb_formatted_code);\n",
       "                        }\n",
       "                        break;\n",
       "                    }\n",
       "                }\n",
       "            }, 500);\n",
       "            "
      ],
      "text/plain": [
       "<IPython.core.display.Javascript object>"
      ]
     },
     "metadata": {},
     "output_type": "display_data"
    }
   ],
   "source": [
    "# extracting status counts\n",
    "status_counts_df = (\n",
    "    bureau_df.groupby([\"SK_ID_CURR\", \"CREDIT_ACTIVE\"]).count().reset_index()\n",
    ")"
   ]
  },
  {
   "cell_type": "code",
   "execution_count": 28,
   "metadata": {},
   "outputs": [
    {
     "data": {
      "application/javascript": [
       "\n",
       "            setTimeout(function() {\n",
       "                var nbb_cell_id = 28;\n",
       "                var nbb_unformatted_code = \"# making pivot table of status counts\\nstatus_pivot_df = status_counts_df.pivot_table(\\n    \\\"CREDIT_CURRENCY\\\", \\\"SK_ID_CURR\\\", \\\"CREDIT_ACTIVE\\\"\\n)\\n# filling NaN values with 0\\nstatus_pivot_df = status_pivot_df.fillna(0)\";\n",
       "                var nbb_formatted_code = \"# making pivot table of status counts\\nstatus_pivot_df = status_counts_df.pivot_table(\\n    \\\"CREDIT_CURRENCY\\\", \\\"SK_ID_CURR\\\", \\\"CREDIT_ACTIVE\\\"\\n)\\n# filling NaN values with 0\\nstatus_pivot_df = status_pivot_df.fillna(0)\";\n",
       "                var nbb_cells = Jupyter.notebook.get_cells();\n",
       "                for (var i = 0; i < nbb_cells.length; ++i) {\n",
       "                    if (nbb_cells[i].input_prompt_number == nbb_cell_id) {\n",
       "                        if (nbb_cells[i].get_text() == nbb_unformatted_code) {\n",
       "                             nbb_cells[i].set_text(nbb_formatted_code);\n",
       "                        }\n",
       "                        break;\n",
       "                    }\n",
       "                }\n",
       "            }, 500);\n",
       "            "
      ],
      "text/plain": [
       "<IPython.core.display.Javascript object>"
      ]
     },
     "metadata": {},
     "output_type": "display_data"
    }
   ],
   "source": [
    "# making pivot table of status counts\n",
    "status_pivot_df = status_counts_df.pivot_table(\n",
    "    \"CREDIT_CURRENCY\", \"SK_ID_CURR\", \"CREDIT_ACTIVE\"\n",
    ")\n",
    "# filling NaN values with 0\n",
    "status_pivot_df = status_pivot_df.fillna(0)"
   ]
  },
  {
   "cell_type": "code",
   "execution_count": 29,
   "metadata": {},
   "outputs": [
    {
     "data": {
      "application/javascript": [
       "\n",
       "            setTimeout(function() {\n",
       "                var nbb_cell_id = 29;\n",
       "                var nbb_unformatted_code = \"# merging pivot table with export_df\\nexport_df = pd.merge(\\n    export_df, status_pivot_df, left_on=\\\"SK_ID_CURR\\\", right_on=\\\"SK_ID_CURR\\\", how=\\\"left\\\"\\n)\";\n",
       "                var nbb_formatted_code = \"# merging pivot table with export_df\\nexport_df = pd.merge(\\n    export_df, status_pivot_df, left_on=\\\"SK_ID_CURR\\\", right_on=\\\"SK_ID_CURR\\\", how=\\\"left\\\"\\n)\";\n",
       "                var nbb_cells = Jupyter.notebook.get_cells();\n",
       "                for (var i = 0; i < nbb_cells.length; ++i) {\n",
       "                    if (nbb_cells[i].input_prompt_number == nbb_cell_id) {\n",
       "                        if (nbb_cells[i].get_text() == nbb_unformatted_code) {\n",
       "                             nbb_cells[i].set_text(nbb_formatted_code);\n",
       "                        }\n",
       "                        break;\n",
       "                    }\n",
       "                }\n",
       "            }, 500);\n",
       "            "
      ],
      "text/plain": [
       "<IPython.core.display.Javascript object>"
      ]
     },
     "metadata": {},
     "output_type": "display_data"
    }
   ],
   "source": [
    "# merging pivot table with export_df\n",
    "export_df = pd.merge(\n",
    "    export_df, status_pivot_df, left_on=\"SK_ID_CURR\", right_on=\"SK_ID_CURR\", how=\"left\"\n",
    ")"
   ]
  },
  {
   "cell_type": "markdown",
   "metadata": {},
   "source": [
    "Next, adding how many times person took credit in particular currency."
   ]
  },
  {
   "cell_type": "code",
   "execution_count": 30,
   "metadata": {},
   "outputs": [
    {
     "data": {
      "application/javascript": [
       "\n",
       "            setTimeout(function() {\n",
       "                var nbb_cell_id = 30;\n",
       "                var nbb_unformatted_code = \"# extracting currency counts\\ncurrency_counts_df = (\\n    bureau_df.groupby([\\\"SK_ID_CURR\\\", \\\"CREDIT_CURRENCY\\\"]).count().reset_index()\\n)\";\n",
       "                var nbb_formatted_code = \"# extracting currency counts\\ncurrency_counts_df = (\\n    bureau_df.groupby([\\\"SK_ID_CURR\\\", \\\"CREDIT_CURRENCY\\\"]).count().reset_index()\\n)\";\n",
       "                var nbb_cells = Jupyter.notebook.get_cells();\n",
       "                for (var i = 0; i < nbb_cells.length; ++i) {\n",
       "                    if (nbb_cells[i].input_prompt_number == nbb_cell_id) {\n",
       "                        if (nbb_cells[i].get_text() == nbb_unformatted_code) {\n",
       "                             nbb_cells[i].set_text(nbb_formatted_code);\n",
       "                        }\n",
       "                        break;\n",
       "                    }\n",
       "                }\n",
       "            }, 500);\n",
       "            "
      ],
      "text/plain": [
       "<IPython.core.display.Javascript object>"
      ]
     },
     "metadata": {},
     "output_type": "display_data"
    }
   ],
   "source": [
    "# extracting currency counts\n",
    "currency_counts_df = (\n",
    "    bureau_df.groupby([\"SK_ID_CURR\", \"CREDIT_CURRENCY\"]).count().reset_index()\n",
    ")"
   ]
  },
  {
   "cell_type": "code",
   "execution_count": 31,
   "metadata": {},
   "outputs": [
    {
     "data": {
      "application/javascript": [
       "\n",
       "            setTimeout(function() {\n",
       "                var nbb_cell_id = 31;\n",
       "                var nbb_unformatted_code = \"# making pivot table of status counts\\ncurrency_pivot_df = currency_counts_df.pivot_table(\\n    \\\"CREDIT_ACTIVE\\\", \\\"SK_ID_CURR\\\", \\\"CREDIT_CURRENCY\\\"\\n)\\n# filling NaN values with 0\\ncurrency_pivot_df = currency_pivot_df.fillna(0)\";\n",
       "                var nbb_formatted_code = \"# making pivot table of status counts\\ncurrency_pivot_df = currency_counts_df.pivot_table(\\n    \\\"CREDIT_ACTIVE\\\", \\\"SK_ID_CURR\\\", \\\"CREDIT_CURRENCY\\\"\\n)\\n# filling NaN values with 0\\ncurrency_pivot_df = currency_pivot_df.fillna(0)\";\n",
       "                var nbb_cells = Jupyter.notebook.get_cells();\n",
       "                for (var i = 0; i < nbb_cells.length; ++i) {\n",
       "                    if (nbb_cells[i].input_prompt_number == nbb_cell_id) {\n",
       "                        if (nbb_cells[i].get_text() == nbb_unformatted_code) {\n",
       "                             nbb_cells[i].set_text(nbb_formatted_code);\n",
       "                        }\n",
       "                        break;\n",
       "                    }\n",
       "                }\n",
       "            }, 500);\n",
       "            "
      ],
      "text/plain": [
       "<IPython.core.display.Javascript object>"
      ]
     },
     "metadata": {},
     "output_type": "display_data"
    }
   ],
   "source": [
    "# making pivot table of status counts\n",
    "currency_pivot_df = currency_counts_df.pivot_table(\n",
    "    \"CREDIT_ACTIVE\", \"SK_ID_CURR\", \"CREDIT_CURRENCY\"\n",
    ")\n",
    "# filling NaN values with 0\n",
    "currency_pivot_df = currency_pivot_df.fillna(0)"
   ]
  },
  {
   "cell_type": "code",
   "execution_count": 32,
   "metadata": {},
   "outputs": [
    {
     "data": {
      "application/javascript": [
       "\n",
       "            setTimeout(function() {\n",
       "                var nbb_cell_id = 32;\n",
       "                var nbb_unformatted_code = \"# merging pivot table with export_df\\nexport_df = pd.merge(\\n    export_df,\\n    currency_pivot_df,\\n    left_on=\\\"SK_ID_CURR\\\",\\n    right_on=\\\"SK_ID_CURR\\\",\\n    how=\\\"left\\\",\\n)\";\n",
       "                var nbb_formatted_code = \"# merging pivot table with export_df\\nexport_df = pd.merge(\\n    export_df,\\n    currency_pivot_df,\\n    left_on=\\\"SK_ID_CURR\\\",\\n    right_on=\\\"SK_ID_CURR\\\",\\n    how=\\\"left\\\",\\n)\";\n",
       "                var nbb_cells = Jupyter.notebook.get_cells();\n",
       "                for (var i = 0; i < nbb_cells.length; ++i) {\n",
       "                    if (nbb_cells[i].input_prompt_number == nbb_cell_id) {\n",
       "                        if (nbb_cells[i].get_text() == nbb_unformatted_code) {\n",
       "                             nbb_cells[i].set_text(nbb_formatted_code);\n",
       "                        }\n",
       "                        break;\n",
       "                    }\n",
       "                }\n",
       "            }, 500);\n",
       "            "
      ],
      "text/plain": [
       "<IPython.core.display.Javascript object>"
      ]
     },
     "metadata": {},
     "output_type": "display_data"
    }
   ],
   "source": [
    "# merging pivot table with export_df\n",
    "export_df = pd.merge(\n",
    "    export_df,\n",
    "    currency_pivot_df,\n",
    "    left_on=\"SK_ID_CURR\",\n",
    "    right_on=\"SK_ID_CURR\",\n",
    "    how=\"left\",\n",
    ")"
   ]
  },
  {
   "cell_type": "markdown",
   "metadata": {},
   "source": [
    "Most of what is left are numerical, all they will be calculated as averages and added for every applicant."
   ]
  },
  {
   "cell_type": "code",
   "execution_count": 33,
   "metadata": {
    "scrolled": true
   },
   "outputs": [
    {
     "data": {
      "application/javascript": [
       "\n",
       "            setTimeout(function() {\n",
       "                var nbb_cell_id = 33;\n",
       "                var nbb_unformatted_code = \"avg_list = [\\n    \\\"DAYS_CREDIT\\\",\\n    \\\"CREDIT_DAY_OVERDUE\\\",\\n    \\\"DAYS_CREDIT_ENDDATE\\\",\\n    \\\"DAYS_ENDDATE_FACT\\\",\\n    \\\"AMT_CREDIT_MAX_OVERDUE\\\",\\n    \\\"CNT_CREDIT_PROLONG\\\",\\n    \\\"AMT_CREDIT_SUM\\\",\\n    \\\"AMT_CREDIT_SUM_DEBT\\\",\\n    \\\"AMT_CREDIT_SUM_LIMIT\\\",\\n    \\\"AMT_CREDIT_SUM_OVERDUE\\\",\\n    \\\"DAYS_CREDIT_UPDATE\\\",\\n    \\\"AMT_ANNUITY\\\",\\n    \\\"ratio_0\\\",\\n    \\\"ratio_1\\\",\\n    \\\"ratio_2\\\",\\n    \\\"ratio_3\\\",\\n    \\\"ratio_4\\\",\\n    \\\"ratio_5\\\",\\n]\\n\\n# extracting averages\\naverages_df = bureau_df.groupby([\\\"SK_ID_CURR\\\"])[avg_list].mean()\";\n",
       "                var nbb_formatted_code = \"avg_list = [\\n    \\\"DAYS_CREDIT\\\",\\n    \\\"CREDIT_DAY_OVERDUE\\\",\\n    \\\"DAYS_CREDIT_ENDDATE\\\",\\n    \\\"DAYS_ENDDATE_FACT\\\",\\n    \\\"AMT_CREDIT_MAX_OVERDUE\\\",\\n    \\\"CNT_CREDIT_PROLONG\\\",\\n    \\\"AMT_CREDIT_SUM\\\",\\n    \\\"AMT_CREDIT_SUM_DEBT\\\",\\n    \\\"AMT_CREDIT_SUM_LIMIT\\\",\\n    \\\"AMT_CREDIT_SUM_OVERDUE\\\",\\n    \\\"DAYS_CREDIT_UPDATE\\\",\\n    \\\"AMT_ANNUITY\\\",\\n    \\\"ratio_0\\\",\\n    \\\"ratio_1\\\",\\n    \\\"ratio_2\\\",\\n    \\\"ratio_3\\\",\\n    \\\"ratio_4\\\",\\n    \\\"ratio_5\\\",\\n]\\n\\n# extracting averages\\naverages_df = bureau_df.groupby([\\\"SK_ID_CURR\\\"])[avg_list].mean()\";\n",
       "                var nbb_cells = Jupyter.notebook.get_cells();\n",
       "                for (var i = 0; i < nbb_cells.length; ++i) {\n",
       "                    if (nbb_cells[i].input_prompt_number == nbb_cell_id) {\n",
       "                        if (nbb_cells[i].get_text() == nbb_unformatted_code) {\n",
       "                             nbb_cells[i].set_text(nbb_formatted_code);\n",
       "                        }\n",
       "                        break;\n",
       "                    }\n",
       "                }\n",
       "            }, 500);\n",
       "            "
      ],
      "text/plain": [
       "<IPython.core.display.Javascript object>"
      ]
     },
     "metadata": {},
     "output_type": "display_data"
    }
   ],
   "source": [
    "avg_list = [\n",
    "    \"DAYS_CREDIT\",\n",
    "    \"CREDIT_DAY_OVERDUE\",\n",
    "    \"DAYS_CREDIT_ENDDATE\",\n",
    "    \"DAYS_ENDDATE_FACT\",\n",
    "    \"AMT_CREDIT_MAX_OVERDUE\",\n",
    "    \"CNT_CREDIT_PROLONG\",\n",
    "    \"AMT_CREDIT_SUM\",\n",
    "    \"AMT_CREDIT_SUM_DEBT\",\n",
    "    \"AMT_CREDIT_SUM_LIMIT\",\n",
    "    \"AMT_CREDIT_SUM_OVERDUE\",\n",
    "    \"DAYS_CREDIT_UPDATE\",\n",
    "    \"AMT_ANNUITY\",\n",
    "    \"ratio_0\",\n",
    "    \"ratio_1\",\n",
    "    \"ratio_2\",\n",
    "    \"ratio_3\",\n",
    "    \"ratio_4\",\n",
    "    \"ratio_5\",\n",
    "]\n",
    "\n",
    "# extracting averages\n",
    "averages_df = bureau_df.groupby([\"SK_ID_CURR\"])[avg_list].mean()"
   ]
  },
  {
   "cell_type": "code",
   "execution_count": 34,
   "metadata": {},
   "outputs": [
    {
     "data": {
      "application/javascript": [
       "\n",
       "            setTimeout(function() {\n",
       "                var nbb_cell_id = 34;\n",
       "                var nbb_unformatted_code = \"# putting feature into export_df\\nexport_df = pd.merge(\\n    export_df,\\n    averages_df,\\n    left_on=\\\"SK_ID_CURR\\\",\\n    right_on=\\\"SK_ID_CURR\\\",\\n    how=\\\"left\\\",\\n)\";\n",
       "                var nbb_formatted_code = \"# putting feature into export_df\\nexport_df = pd.merge(\\n    export_df,\\n    averages_df,\\n    left_on=\\\"SK_ID_CURR\\\",\\n    right_on=\\\"SK_ID_CURR\\\",\\n    how=\\\"left\\\",\\n)\";\n",
       "                var nbb_cells = Jupyter.notebook.get_cells();\n",
       "                for (var i = 0; i < nbb_cells.length; ++i) {\n",
       "                    if (nbb_cells[i].input_prompt_number == nbb_cell_id) {\n",
       "                        if (nbb_cells[i].get_text() == nbb_unformatted_code) {\n",
       "                             nbb_cells[i].set_text(nbb_formatted_code);\n",
       "                        }\n",
       "                        break;\n",
       "                    }\n",
       "                }\n",
       "            }, 500);\n",
       "            "
      ],
      "text/plain": [
       "<IPython.core.display.Javascript object>"
      ]
     },
     "metadata": {},
     "output_type": "display_data"
    }
   ],
   "source": [
    "# putting feature into export_df\n",
    "export_df = pd.merge(\n",
    "    export_df,\n",
    "    averages_df,\n",
    "    left_on=\"SK_ID_CURR\",\n",
    "    right_on=\"SK_ID_CURR\",\n",
    "    how=\"left\",\n",
    ")"
   ]
  },
  {
   "cell_type": "markdown",
   "metadata": {},
   "source": [
    "Last one left is categorical, for what reason credit is taken. Let's try pivot table approach."
   ]
  },
  {
   "cell_type": "code",
   "execution_count": 35,
   "metadata": {},
   "outputs": [
    {
     "data": {
      "application/javascript": [
       "\n",
       "            setTimeout(function() {\n",
       "                var nbb_cell_id = 35;\n",
       "                var nbb_unformatted_code = \"# extracting type counts\\ntype_counts_df = bureau_df.groupby([\\\"SK_ID_CURR\\\", \\\"CREDIT_TYPE\\\"]).count().reset_index()\";\n",
       "                var nbb_formatted_code = \"# extracting type counts\\ntype_counts_df = bureau_df.groupby([\\\"SK_ID_CURR\\\", \\\"CREDIT_TYPE\\\"]).count().reset_index()\";\n",
       "                var nbb_cells = Jupyter.notebook.get_cells();\n",
       "                for (var i = 0; i < nbb_cells.length; ++i) {\n",
       "                    if (nbb_cells[i].input_prompt_number == nbb_cell_id) {\n",
       "                        if (nbb_cells[i].get_text() == nbb_unformatted_code) {\n",
       "                             nbb_cells[i].set_text(nbb_formatted_code);\n",
       "                        }\n",
       "                        break;\n",
       "                    }\n",
       "                }\n",
       "            }, 500);\n",
       "            "
      ],
      "text/plain": [
       "<IPython.core.display.Javascript object>"
      ]
     },
     "metadata": {},
     "output_type": "display_data"
    }
   ],
   "source": [
    "# extracting type counts\n",
    "type_counts_df = bureau_df.groupby([\"SK_ID_CURR\", \"CREDIT_TYPE\"]).count().reset_index()"
   ]
  },
  {
   "cell_type": "code",
   "execution_count": 36,
   "metadata": {},
   "outputs": [
    {
     "data": {
      "application/javascript": [
       "\n",
       "            setTimeout(function() {\n",
       "                var nbb_cell_id = 36;\n",
       "                var nbb_unformatted_code = \"# making pivot table of status counts\\ntype_pivot_df = type_counts_df.pivot_table(\\\"CREDIT_ACTIVE\\\", \\\"SK_ID_CURR\\\", \\\"CREDIT_TYPE\\\")\\n# filling NaN values with 0\\ntype_pivot_df = type_pivot_df.fillna(0)\";\n",
       "                var nbb_formatted_code = \"# making pivot table of status counts\\ntype_pivot_df = type_counts_df.pivot_table(\\\"CREDIT_ACTIVE\\\", \\\"SK_ID_CURR\\\", \\\"CREDIT_TYPE\\\")\\n# filling NaN values with 0\\ntype_pivot_df = type_pivot_df.fillna(0)\";\n",
       "                var nbb_cells = Jupyter.notebook.get_cells();\n",
       "                for (var i = 0; i < nbb_cells.length; ++i) {\n",
       "                    if (nbb_cells[i].input_prompt_number == nbb_cell_id) {\n",
       "                        if (nbb_cells[i].get_text() == nbb_unformatted_code) {\n",
       "                             nbb_cells[i].set_text(nbb_formatted_code);\n",
       "                        }\n",
       "                        break;\n",
       "                    }\n",
       "                }\n",
       "            }, 500);\n",
       "            "
      ],
      "text/plain": [
       "<IPython.core.display.Javascript object>"
      ]
     },
     "metadata": {},
     "output_type": "display_data"
    }
   ],
   "source": [
    "# making pivot table of status counts\n",
    "type_pivot_df = type_counts_df.pivot_table(\"CREDIT_ACTIVE\", \"SK_ID_CURR\", \"CREDIT_TYPE\")\n",
    "# filling NaN values with 0\n",
    "type_pivot_df = type_pivot_df.fillna(0)"
   ]
  },
  {
   "cell_type": "code",
   "execution_count": 37,
   "metadata": {},
   "outputs": [
    {
     "data": {
      "application/javascript": [
       "\n",
       "            setTimeout(function() {\n",
       "                var nbb_cell_id = 37;\n",
       "                var nbb_unformatted_code = \"# merging pivot table with export_df\\nexport_df = pd.merge(\\n    export_df,\\n    type_pivot_df,\\n    left_on=\\\"SK_ID_CURR\\\",\\n    right_on=\\\"SK_ID_CURR\\\",\\n    how=\\\"left\\\",\\n)\";\n",
       "                var nbb_formatted_code = \"# merging pivot table with export_df\\nexport_df = pd.merge(\\n    export_df,\\n    type_pivot_df,\\n    left_on=\\\"SK_ID_CURR\\\",\\n    right_on=\\\"SK_ID_CURR\\\",\\n    how=\\\"left\\\",\\n)\";\n",
       "                var nbb_cells = Jupyter.notebook.get_cells();\n",
       "                for (var i = 0; i < nbb_cells.length; ++i) {\n",
       "                    if (nbb_cells[i].input_prompt_number == nbb_cell_id) {\n",
       "                        if (nbb_cells[i].get_text() == nbb_unformatted_code) {\n",
       "                             nbb_cells[i].set_text(nbb_formatted_code);\n",
       "                        }\n",
       "                        break;\n",
       "                    }\n",
       "                }\n",
       "            }, 500);\n",
       "            "
      ],
      "text/plain": [
       "<IPython.core.display.Javascript object>"
      ]
     },
     "metadata": {},
     "output_type": "display_data"
    }
   ],
   "source": [
    "# merging pivot table with export_df\n",
    "export_df = pd.merge(\n",
    "    export_df,\n",
    "    type_pivot_df,\n",
    "    left_on=\"SK_ID_CURR\",\n",
    "    right_on=\"SK_ID_CURR\",\n",
    "    how=\"left\",\n",
    ")"
   ]
  },
  {
   "cell_type": "code",
   "execution_count": 38,
   "metadata": {
    "scrolled": true
   },
   "outputs": [
    {
     "data": {
      "application/javascript": [
       "\n",
       "            setTimeout(function() {\n",
       "                var nbb_cell_id = 38;\n",
       "                var nbb_unformatted_code = \"# filling left missing values with 0 (in favor for applicant)\\nexport_df = export_df.fillna(0)\";\n",
       "                var nbb_formatted_code = \"# filling left missing values with 0 (in favor for applicant)\\nexport_df = export_df.fillna(0)\";\n",
       "                var nbb_cells = Jupyter.notebook.get_cells();\n",
       "                for (var i = 0; i < nbb_cells.length; ++i) {\n",
       "                    if (nbb_cells[i].input_prompt_number == nbb_cell_id) {\n",
       "                        if (nbb_cells[i].get_text() == nbb_unformatted_code) {\n",
       "                             nbb_cells[i].set_text(nbb_formatted_code);\n",
       "                        }\n",
       "                        break;\n",
       "                    }\n",
       "                }\n",
       "            }, 500);\n",
       "            "
      ],
      "text/plain": [
       "<IPython.core.display.Javascript object>"
      ]
     },
     "metadata": {},
     "output_type": "display_data"
    }
   ],
   "source": [
    "# filling left missing values with 0 (in favor for applicant)\n",
    "export_df = export_df.fillna(0)"
   ]
  },
  {
   "cell_type": "code",
   "execution_count": 39,
   "metadata": {
    "scrolled": false
   },
   "outputs": [
    {
     "data": {
      "application/javascript": [
       "\n",
       "            setTimeout(function() {\n",
       "                var nbb_cell_id = 39;\n",
       "                var nbb_unformatted_code = \"# renaming cols\\nexport_df.columns = [\\n    \\\"SK_ID_CURR\\\",\\n    \\\"STAT_ACTIVE\\\",\\n    \\\"STAT_BAD_DEPT\\\",\\n    \\\"STAT_CLOSED\\\",\\n    \\\"STAT_SOLD\\\",\\n    \\\"CURR_1\\\",\\n    \\\"CURR_2\\\",\\n    \\\"CURR_3\\\",\\n    \\\"CURR_4\\\",\\n    \\\"DAYS_CREDIT\\\",\\n    \\\"CREDIT_DAY_OVERDUE\\\",\\n    \\\"DAYS_CREDIT_ENDDATE\\\",\\n    \\\"DAYS_ENDDATE_FACT\\\",\\n    \\\"AMT_CREDIT_MAX_OVERDUE\\\",\\n    \\\"CNT_CREDIT_PROLONG\\\",\\n    \\\"AMT_CREDIT_SUM\\\",\\n    \\\"AMT_CREDIT_SUM_DEBT\\\",\\n    \\\"AMT_CREDIT_SUM_LIMIT\\\",\\n    \\\"AMT_CREDIT_SUM_OVERDUE\\\",\\n    \\\"DAYS_CREDIT_UPDATE\\\",\\n    \\\"AMT_ANNUITY\\\",\\n    \\\"OVERDUE_RATIO_0\\\",\\n    \\\"OVERDUE_RATIO_1\\\",\\n    \\\"OVERDUE_RATIO_2\\\",\\n    \\\"OVERDUE_RATIO_3\\\",\\n    \\\"OVERDUE_RATIO_4\\\",\\n    \\\"OVERDUE_RATIO_5\\\",\\n    \\\"TYPE_OTHER\\\",\\n    \\\"TYPE_CAR\\\",\\n    \\\"TYPE_CASH\\\",\\n    \\\"TYPE_CONSUMER\\\",\\n    \\\"TYPE_CREDIT_CARD\\\",\\n    \\\"TYPE_REPAY\\\",\\n    \\\"TYPE_BUSINESS\\\",\\n    \\\"TYPE_SHARES\\\",\\n    \\\"TYPE_EQUIPMENT\\\",\\n    \\\"TYPE_REPLENISHING\\\",\\n    \\\"TYPE_MICRO\\\",\\n    \\\"TYPE_OPERATOR\\\",\\n    \\\"TYPE_MORTGAGE\\\",\\n    \\\"TYPE_REAL_ESTATE\\\",\\n    \\\"TYPE_UNKNOWN\\\",\\n]\";\n",
       "                var nbb_formatted_code = \"# renaming cols\\nexport_df.columns = [\\n    \\\"SK_ID_CURR\\\",\\n    \\\"STAT_ACTIVE\\\",\\n    \\\"STAT_BAD_DEPT\\\",\\n    \\\"STAT_CLOSED\\\",\\n    \\\"STAT_SOLD\\\",\\n    \\\"CURR_1\\\",\\n    \\\"CURR_2\\\",\\n    \\\"CURR_3\\\",\\n    \\\"CURR_4\\\",\\n    \\\"DAYS_CREDIT\\\",\\n    \\\"CREDIT_DAY_OVERDUE\\\",\\n    \\\"DAYS_CREDIT_ENDDATE\\\",\\n    \\\"DAYS_ENDDATE_FACT\\\",\\n    \\\"AMT_CREDIT_MAX_OVERDUE\\\",\\n    \\\"CNT_CREDIT_PROLONG\\\",\\n    \\\"AMT_CREDIT_SUM\\\",\\n    \\\"AMT_CREDIT_SUM_DEBT\\\",\\n    \\\"AMT_CREDIT_SUM_LIMIT\\\",\\n    \\\"AMT_CREDIT_SUM_OVERDUE\\\",\\n    \\\"DAYS_CREDIT_UPDATE\\\",\\n    \\\"AMT_ANNUITY\\\",\\n    \\\"OVERDUE_RATIO_0\\\",\\n    \\\"OVERDUE_RATIO_1\\\",\\n    \\\"OVERDUE_RATIO_2\\\",\\n    \\\"OVERDUE_RATIO_3\\\",\\n    \\\"OVERDUE_RATIO_4\\\",\\n    \\\"OVERDUE_RATIO_5\\\",\\n    \\\"TYPE_OTHER\\\",\\n    \\\"TYPE_CAR\\\",\\n    \\\"TYPE_CASH\\\",\\n    \\\"TYPE_CONSUMER\\\",\\n    \\\"TYPE_CREDIT_CARD\\\",\\n    \\\"TYPE_REPAY\\\",\\n    \\\"TYPE_BUSINESS\\\",\\n    \\\"TYPE_SHARES\\\",\\n    \\\"TYPE_EQUIPMENT\\\",\\n    \\\"TYPE_REPLENISHING\\\",\\n    \\\"TYPE_MICRO\\\",\\n    \\\"TYPE_OPERATOR\\\",\\n    \\\"TYPE_MORTGAGE\\\",\\n    \\\"TYPE_REAL_ESTATE\\\",\\n    \\\"TYPE_UNKNOWN\\\",\\n]\";\n",
       "                var nbb_cells = Jupyter.notebook.get_cells();\n",
       "                for (var i = 0; i < nbb_cells.length; ++i) {\n",
       "                    if (nbb_cells[i].input_prompt_number == nbb_cell_id) {\n",
       "                        if (nbb_cells[i].get_text() == nbb_unformatted_code) {\n",
       "                             nbb_cells[i].set_text(nbb_formatted_code);\n",
       "                        }\n",
       "                        break;\n",
       "                    }\n",
       "                }\n",
       "            }, 500);\n",
       "            "
      ],
      "text/plain": [
       "<IPython.core.display.Javascript object>"
      ]
     },
     "metadata": {},
     "output_type": "display_data"
    }
   ],
   "source": [
    "# renaming cols\n",
    "export_df.columns = [\n",
    "    \"SK_ID_CURR\",\n",
    "    \"STAT_ACTIVE\",\n",
    "    \"STAT_BAD_DEPT\",\n",
    "    \"STAT_CLOSED\",\n",
    "    \"STAT_SOLD\",\n",
    "    \"CURR_1\",\n",
    "    \"CURR_2\",\n",
    "    \"CURR_3\",\n",
    "    \"CURR_4\",\n",
    "    \"DAYS_CREDIT\",\n",
    "    \"CREDIT_DAY_OVERDUE\",\n",
    "    \"DAYS_CREDIT_ENDDATE\",\n",
    "    \"DAYS_ENDDATE_FACT\",\n",
    "    \"AMT_CREDIT_MAX_OVERDUE\",\n",
    "    \"CNT_CREDIT_PROLONG\",\n",
    "    \"AMT_CREDIT_SUM\",\n",
    "    \"AMT_CREDIT_SUM_DEBT\",\n",
    "    \"AMT_CREDIT_SUM_LIMIT\",\n",
    "    \"AMT_CREDIT_SUM_OVERDUE\",\n",
    "    \"DAYS_CREDIT_UPDATE\",\n",
    "    \"AMT_ANNUITY\",\n",
    "    \"OVERDUE_RATIO_0\",\n",
    "    \"OVERDUE_RATIO_1\",\n",
    "    \"OVERDUE_RATIO_2\",\n",
    "    \"OVERDUE_RATIO_3\",\n",
    "    \"OVERDUE_RATIO_4\",\n",
    "    \"OVERDUE_RATIO_5\",\n",
    "    \"TYPE_OTHER\",\n",
    "    \"TYPE_CAR\",\n",
    "    \"TYPE_CASH\",\n",
    "    \"TYPE_CONSUMER\",\n",
    "    \"TYPE_CREDIT_CARD\",\n",
    "    \"TYPE_REPAY\",\n",
    "    \"TYPE_BUSINESS\",\n",
    "    \"TYPE_SHARES\",\n",
    "    \"TYPE_EQUIPMENT\",\n",
    "    \"TYPE_REPLENISHING\",\n",
    "    \"TYPE_MICRO\",\n",
    "    \"TYPE_OPERATOR\",\n",
    "    \"TYPE_MORTGAGE\",\n",
    "    \"TYPE_REAL_ESTATE\",\n",
    "    \"TYPE_UNKNOWN\",\n",
    "]"
   ]
  },
  {
   "cell_type": "code",
   "execution_count": 40,
   "metadata": {},
   "outputs": [
    {
     "data": {
      "application/javascript": [
       "\n",
       "            setTimeout(function() {\n",
       "                var nbb_cell_id = 40;\n",
       "                var nbb_unformatted_code = \"# merging with train_df and test_df\\ntrain_df = pd.merge(\\n    train_df,\\n    export_df,\\n    left_on=\\\"SK_ID_CURR\\\",\\n    right_on=\\\"SK_ID_CURR\\\",\\n    how=\\\"left\\\",\\n)\\n\\ntest_df = pd.merge(\\n    test_df,\\n    export_df,\\n    left_on=\\\"SK_ID_CURR\\\",\\n    right_on=\\\"SK_ID_CURR\\\",\\n    how=\\\"left\\\",\\n)\";\n",
       "                var nbb_formatted_code = \"# merging with train_df and test_df\\ntrain_df = pd.merge(\\n    train_df,\\n    export_df,\\n    left_on=\\\"SK_ID_CURR\\\",\\n    right_on=\\\"SK_ID_CURR\\\",\\n    how=\\\"left\\\",\\n)\\n\\ntest_df = pd.merge(\\n    test_df,\\n    export_df,\\n    left_on=\\\"SK_ID_CURR\\\",\\n    right_on=\\\"SK_ID_CURR\\\",\\n    how=\\\"left\\\",\\n)\";\n",
       "                var nbb_cells = Jupyter.notebook.get_cells();\n",
       "                for (var i = 0; i < nbb_cells.length; ++i) {\n",
       "                    if (nbb_cells[i].input_prompt_number == nbb_cell_id) {\n",
       "                        if (nbb_cells[i].get_text() == nbb_unformatted_code) {\n",
       "                             nbb_cells[i].set_text(nbb_formatted_code);\n",
       "                        }\n",
       "                        break;\n",
       "                    }\n",
       "                }\n",
       "            }, 500);\n",
       "            "
      ],
      "text/plain": [
       "<IPython.core.display.Javascript object>"
      ]
     },
     "metadata": {},
     "output_type": "display_data"
    }
   ],
   "source": [
    "# merging with train_df and test_df\n",
    "train_df = pd.merge(\n",
    "    train_df,\n",
    "    export_df,\n",
    "    left_on=\"SK_ID_CURR\",\n",
    "    right_on=\"SK_ID_CURR\",\n",
    "    how=\"left\",\n",
    ")\n",
    "\n",
    "test_df = pd.merge(\n",
    "    test_df,\n",
    "    export_df,\n",
    "    left_on=\"SK_ID_CURR\",\n",
    "    right_on=\"SK_ID_CURR\",\n",
    "    how=\"left\",\n",
    ")"
   ]
  },
  {
   "cell_type": "markdown",
   "metadata": {},
   "source": [
    "**2-1-3**. Digging into POS_CASH_balance.csv and its relations to previous_applications.csv. Relevant things will be exported to previous_applications df."
   ]
  },
  {
   "cell_type": "code",
   "execution_count": 41,
   "metadata": {
    "scrolled": false
   },
   "outputs": [
    {
     "name": "stdout",
     "output_type": "stream",
     "text": [
      "<class 'pandas.core.frame.DataFrame'>\n",
      "RangeIndex: 10001358 entries, 0 to 10001357\n",
      "Data columns (total 8 columns):\n",
      " #   Column                 Dtype  \n",
      "---  ------                 -----  \n",
      " 0   SK_ID_PREV             int64  \n",
      " 1   SK_ID_CURR             int64  \n",
      " 2   MONTHS_BALANCE         int64  \n",
      " 3   CNT_INSTALMENT         float64\n",
      " 4   CNT_INSTALMENT_FUTURE  float64\n",
      " 5   NAME_CONTRACT_STATUS   object \n",
      " 6   SK_DPD                 int64  \n",
      " 7   SK_DPD_DEF             int64  \n",
      "dtypes: float64(2), int64(5), object(1)\n",
      "memory usage: 610.4+ MB\n"
     ]
    },
    {
     "data": {
      "application/javascript": [
       "\n",
       "            setTimeout(function() {\n",
       "                var nbb_cell_id = 41;\n",
       "                var nbb_unformatted_code = \"pos_cash_balance_df.info()\";\n",
       "                var nbb_formatted_code = \"pos_cash_balance_df.info()\";\n",
       "                var nbb_cells = Jupyter.notebook.get_cells();\n",
       "                for (var i = 0; i < nbb_cells.length; ++i) {\n",
       "                    if (nbb_cells[i].input_prompt_number == nbb_cell_id) {\n",
       "                        if (nbb_cells[i].get_text() == nbb_unformatted_code) {\n",
       "                             nbb_cells[i].set_text(nbb_formatted_code);\n",
       "                        }\n",
       "                        break;\n",
       "                    }\n",
       "                }\n",
       "            }, 500);\n",
       "            "
      ],
      "text/plain": [
       "<IPython.core.display.Javascript object>"
      ]
     },
     "metadata": {},
     "output_type": "display_data"
    }
   ],
   "source": [
    "pos_cash_balance_df.info()"
   ]
  },
  {
   "cell_type": "markdown",
   "metadata": {},
   "source": [
    "For all numerical features, we will extract averages."
   ]
  },
  {
   "cell_type": "code",
   "execution_count": 42,
   "metadata": {},
   "outputs": [
    {
     "data": {
      "application/javascript": [
       "\n",
       "            setTimeout(function() {\n",
       "                var nbb_cell_id = 42;\n",
       "                var nbb_unformatted_code = \"avg_list = [\\n    \\\"MONTHS_BALANCE\\\",\\n    \\\"CNT_INSTALMENT\\\",\\n    \\\"CNT_INSTALMENT_FUTURE\\\",\\n    \\\"SK_DPD\\\",\\n    \\\"SK_DPD_DEF\\\",\\n]\\n\\n# extracting averages\\naverages_df = pos_cash_balance_df.groupby([\\\"SK_ID_PREV\\\"])[avg_list].mean()\";\n",
       "                var nbb_formatted_code = \"avg_list = [\\n    \\\"MONTHS_BALANCE\\\",\\n    \\\"CNT_INSTALMENT\\\",\\n    \\\"CNT_INSTALMENT_FUTURE\\\",\\n    \\\"SK_DPD\\\",\\n    \\\"SK_DPD_DEF\\\",\\n]\\n\\n# extracting averages\\naverages_df = pos_cash_balance_df.groupby([\\\"SK_ID_PREV\\\"])[avg_list].mean()\";\n",
       "                var nbb_cells = Jupyter.notebook.get_cells();\n",
       "                for (var i = 0; i < nbb_cells.length; ++i) {\n",
       "                    if (nbb_cells[i].input_prompt_number == nbb_cell_id) {\n",
       "                        if (nbb_cells[i].get_text() == nbb_unformatted_code) {\n",
       "                             nbb_cells[i].set_text(nbb_formatted_code);\n",
       "                        }\n",
       "                        break;\n",
       "                    }\n",
       "                }\n",
       "            }, 500);\n",
       "            "
      ],
      "text/plain": [
       "<IPython.core.display.Javascript object>"
      ]
     },
     "metadata": {},
     "output_type": "display_data"
    }
   ],
   "source": [
    "avg_list = [\n",
    "    \"MONTHS_BALANCE\",\n",
    "    \"CNT_INSTALMENT\",\n",
    "    \"CNT_INSTALMENT_FUTURE\",\n",
    "    \"SK_DPD\",\n",
    "    \"SK_DPD_DEF\",\n",
    "]\n",
    "\n",
    "# extracting averages\n",
    "averages_df = pos_cash_balance_df.groupby([\"SK_ID_PREV\"])[avg_list].mean()"
   ]
  },
  {
   "cell_type": "code",
   "execution_count": 43,
   "metadata": {},
   "outputs": [
    {
     "data": {
      "application/javascript": [
       "\n",
       "            setTimeout(function() {\n",
       "                var nbb_cell_id = 43;\n",
       "                var nbb_unformatted_code = \"# creating export df\\nexport_df = pd.DataFrame()\\n\\nexport_df[\\\"SK_ID_PREV\\\"] = previous_application_df.SK_ID_PREV.unique()\\n\\n# assigning averages to export df\\nexport_df = pd.merge(\\n    export_df,\\n    averages_df,\\n    left_on=\\\"SK_ID_PREV\\\",\\n    right_on=\\\"SK_ID_PREV\\\",\\n    how=\\\"left\\\",\\n)\";\n",
       "                var nbb_formatted_code = \"# creating export df\\nexport_df = pd.DataFrame()\\n\\nexport_df[\\\"SK_ID_PREV\\\"] = previous_application_df.SK_ID_PREV.unique()\\n\\n# assigning averages to export df\\nexport_df = pd.merge(\\n    export_df,\\n    averages_df,\\n    left_on=\\\"SK_ID_PREV\\\",\\n    right_on=\\\"SK_ID_PREV\\\",\\n    how=\\\"left\\\",\\n)\";\n",
       "                var nbb_cells = Jupyter.notebook.get_cells();\n",
       "                for (var i = 0; i < nbb_cells.length; ++i) {\n",
       "                    if (nbb_cells[i].input_prompt_number == nbb_cell_id) {\n",
       "                        if (nbb_cells[i].get_text() == nbb_unformatted_code) {\n",
       "                             nbb_cells[i].set_text(nbb_formatted_code);\n",
       "                        }\n",
       "                        break;\n",
       "                    }\n",
       "                }\n",
       "            }, 500);\n",
       "            "
      ],
      "text/plain": [
       "<IPython.core.display.Javascript object>"
      ]
     },
     "metadata": {},
     "output_type": "display_data"
    }
   ],
   "source": [
    "# creating export df\n",
    "export_df = pd.DataFrame()\n",
    "\n",
    "export_df[\"SK_ID_PREV\"] = previous_application_df.SK_ID_PREV.unique()\n",
    "\n",
    "# assigning averages to export df\n",
    "export_df = pd.merge(\n",
    "    export_df,\n",
    "    averages_df,\n",
    "    left_on=\"SK_ID_PREV\",\n",
    "    right_on=\"SK_ID_PREV\",\n",
    "    how=\"left\",\n",
    ")"
   ]
  },
  {
   "cell_type": "markdown",
   "metadata": {},
   "source": [
    "Categorical feature NAME_CONTRACT_STATUS was already covered in the previous csv file, so will not be added to export_df."
   ]
  },
  {
   "cell_type": "code",
   "execution_count": 44,
   "metadata": {},
   "outputs": [
    {
     "data": {
      "application/javascript": [
       "\n",
       "            setTimeout(function() {\n",
       "                var nbb_cell_id = 44;\n",
       "                var nbb_unformatted_code = \"# merging export_df with previous_application_df\\nprevious_application_df = pd.merge(\\n    previous_application_df,\\n    export_df,\\n    left_on=\\\"SK_ID_PREV\\\",\\n    right_on=\\\"SK_ID_PREV\\\",\\n    how=\\\"left\\\",\\n)\";\n",
       "                var nbb_formatted_code = \"# merging export_df with previous_application_df\\nprevious_application_df = pd.merge(\\n    previous_application_df,\\n    export_df,\\n    left_on=\\\"SK_ID_PREV\\\",\\n    right_on=\\\"SK_ID_PREV\\\",\\n    how=\\\"left\\\",\\n)\";\n",
       "                var nbb_cells = Jupyter.notebook.get_cells();\n",
       "                for (var i = 0; i < nbb_cells.length; ++i) {\n",
       "                    if (nbb_cells[i].input_prompt_number == nbb_cell_id) {\n",
       "                        if (nbb_cells[i].get_text() == nbb_unformatted_code) {\n",
       "                             nbb_cells[i].set_text(nbb_formatted_code);\n",
       "                        }\n",
       "                        break;\n",
       "                    }\n",
       "                }\n",
       "            }, 500);\n",
       "            "
      ],
      "text/plain": [
       "<IPython.core.display.Javascript object>"
      ]
     },
     "metadata": {},
     "output_type": "display_data"
    }
   ],
   "source": [
    "# merging export_df with previous_application_df\n",
    "previous_application_df = pd.merge(\n",
    "    previous_application_df,\n",
    "    export_df,\n",
    "    left_on=\"SK_ID_PREV\",\n",
    "    right_on=\"SK_ID_PREV\",\n",
    "    how=\"left\",\n",
    ")"
   ]
  },
  {
   "cell_type": "markdown",
   "metadata": {},
   "source": [
    "**2-1-4**. Exploring instalments_payments csv and exporting significant features to previous_application_df."
   ]
  },
  {
   "cell_type": "markdown",
   "metadata": {},
   "source": [
    "All features in instalments_payments_df are numerical, so averages will be extracted and inserted into previous_application_df."
   ]
  },
  {
   "cell_type": "code",
   "execution_count": 45,
   "metadata": {},
   "outputs": [
    {
     "data": {
      "application/javascript": [
       "\n",
       "            setTimeout(function() {\n",
       "                var nbb_cell_id = 45;\n",
       "                var nbb_unformatted_code = \"avg_list = [\\n    \\\"NUM_INSTALMENT_VERSION\\\",\\n    \\\"NUM_INSTALMENT_NUMBER\\\",\\n    \\\"DAYS_INSTALMENT\\\",\\n    \\\"DAYS_ENTRY_PAYMENT\\\",\\n    \\\"AMT_INSTALMENT\\\",\\n    \\\"AMT_PAYMENT\\\",\\n]\\n\\n# extracting averages\\naverages_df = instalments_payments_df.groupby([\\\"SK_ID_PREV\\\"])[avg_list].mean()\";\n",
       "                var nbb_formatted_code = \"avg_list = [\\n    \\\"NUM_INSTALMENT_VERSION\\\",\\n    \\\"NUM_INSTALMENT_NUMBER\\\",\\n    \\\"DAYS_INSTALMENT\\\",\\n    \\\"DAYS_ENTRY_PAYMENT\\\",\\n    \\\"AMT_INSTALMENT\\\",\\n    \\\"AMT_PAYMENT\\\",\\n]\\n\\n# extracting averages\\naverages_df = instalments_payments_df.groupby([\\\"SK_ID_PREV\\\"])[avg_list].mean()\";\n",
       "                var nbb_cells = Jupyter.notebook.get_cells();\n",
       "                for (var i = 0; i < nbb_cells.length; ++i) {\n",
       "                    if (nbb_cells[i].input_prompt_number == nbb_cell_id) {\n",
       "                        if (nbb_cells[i].get_text() == nbb_unformatted_code) {\n",
       "                             nbb_cells[i].set_text(nbb_formatted_code);\n",
       "                        }\n",
       "                        break;\n",
       "                    }\n",
       "                }\n",
       "            }, 500);\n",
       "            "
      ],
      "text/plain": [
       "<IPython.core.display.Javascript object>"
      ]
     },
     "metadata": {},
     "output_type": "display_data"
    }
   ],
   "source": [
    "avg_list = [\n",
    "    \"NUM_INSTALMENT_VERSION\",\n",
    "    \"NUM_INSTALMENT_NUMBER\",\n",
    "    \"DAYS_INSTALMENT\",\n",
    "    \"DAYS_ENTRY_PAYMENT\",\n",
    "    \"AMT_INSTALMENT\",\n",
    "    \"AMT_PAYMENT\",\n",
    "]\n",
    "\n",
    "# extracting averages\n",
    "averages_df = instalments_payments_df.groupby([\"SK_ID_PREV\"])[avg_list].mean()"
   ]
  },
  {
   "cell_type": "code",
   "execution_count": 46,
   "metadata": {},
   "outputs": [
    {
     "data": {
      "application/javascript": [
       "\n",
       "            setTimeout(function() {\n",
       "                var nbb_cell_id = 46;\n",
       "                var nbb_unformatted_code = \"# creating export df\\nexport_df = pd.DataFrame()\\n\\nexport_df[\\\"SK_ID_PREV\\\"] = previous_application_df.SK_ID_PREV.unique()\";\n",
       "                var nbb_formatted_code = \"# creating export df\\nexport_df = pd.DataFrame()\\n\\nexport_df[\\\"SK_ID_PREV\\\"] = previous_application_df.SK_ID_PREV.unique()\";\n",
       "                var nbb_cells = Jupyter.notebook.get_cells();\n",
       "                for (var i = 0; i < nbb_cells.length; ++i) {\n",
       "                    if (nbb_cells[i].input_prompt_number == nbb_cell_id) {\n",
       "                        if (nbb_cells[i].get_text() == nbb_unformatted_code) {\n",
       "                             nbb_cells[i].set_text(nbb_formatted_code);\n",
       "                        }\n",
       "                        break;\n",
       "                    }\n",
       "                }\n",
       "            }, 500);\n",
       "            "
      ],
      "text/plain": [
       "<IPython.core.display.Javascript object>"
      ]
     },
     "metadata": {},
     "output_type": "display_data"
    }
   ],
   "source": [
    "# creating export df\n",
    "export_df = pd.DataFrame()\n",
    "\n",
    "export_df[\"SK_ID_PREV\"] = previous_application_df.SK_ID_PREV.unique()"
   ]
  },
  {
   "cell_type": "code",
   "execution_count": 47,
   "metadata": {},
   "outputs": [
    {
     "data": {
      "application/javascript": [
       "\n",
       "            setTimeout(function() {\n",
       "                var nbb_cell_id = 47;\n",
       "                var nbb_unformatted_code = \"# assigning averages to export df\\nexport_df = pd.merge(\\n    export_df,\\n    averages_df,\\n    left_on=\\\"SK_ID_PREV\\\",\\n    right_on=\\\"SK_ID_PREV\\\",\\n    how=\\\"left\\\",\\n)\\n\\nexport_df = export_df.fillna(0)\";\n",
       "                var nbb_formatted_code = \"# assigning averages to export df\\nexport_df = pd.merge(\\n    export_df,\\n    averages_df,\\n    left_on=\\\"SK_ID_PREV\\\",\\n    right_on=\\\"SK_ID_PREV\\\",\\n    how=\\\"left\\\",\\n)\\n\\nexport_df = export_df.fillna(0)\";\n",
       "                var nbb_cells = Jupyter.notebook.get_cells();\n",
       "                for (var i = 0; i < nbb_cells.length; ++i) {\n",
       "                    if (nbb_cells[i].input_prompt_number == nbb_cell_id) {\n",
       "                        if (nbb_cells[i].get_text() == nbb_unformatted_code) {\n",
       "                             nbb_cells[i].set_text(nbb_formatted_code);\n",
       "                        }\n",
       "                        break;\n",
       "                    }\n",
       "                }\n",
       "            }, 500);\n",
       "            "
      ],
      "text/plain": [
       "<IPython.core.display.Javascript object>"
      ]
     },
     "metadata": {},
     "output_type": "display_data"
    }
   ],
   "source": [
    "# assigning averages to export df\n",
    "export_df = pd.merge(\n",
    "    export_df,\n",
    "    averages_df,\n",
    "    left_on=\"SK_ID_PREV\",\n",
    "    right_on=\"SK_ID_PREV\",\n",
    "    how=\"left\",\n",
    ")\n",
    "\n",
    "export_df = export_df.fillna(0)"
   ]
  },
  {
   "cell_type": "code",
   "execution_count": 48,
   "metadata": {},
   "outputs": [
    {
     "data": {
      "application/javascript": [
       "\n",
       "            setTimeout(function() {\n",
       "                var nbb_cell_id = 48;\n",
       "                var nbb_unformatted_code = \"# merging export_df with previous_application_df\\nprevious_application_df = pd.merge(\\n    previous_application_df,\\n    export_df,\\n    left_on=\\\"SK_ID_PREV\\\",\\n    right_on=\\\"SK_ID_PREV\\\",\\n    how=\\\"left\\\",\\n)\";\n",
       "                var nbb_formatted_code = \"# merging export_df with previous_application_df\\nprevious_application_df = pd.merge(\\n    previous_application_df,\\n    export_df,\\n    left_on=\\\"SK_ID_PREV\\\",\\n    right_on=\\\"SK_ID_PREV\\\",\\n    how=\\\"left\\\",\\n)\";\n",
       "                var nbb_cells = Jupyter.notebook.get_cells();\n",
       "                for (var i = 0; i < nbb_cells.length; ++i) {\n",
       "                    if (nbb_cells[i].input_prompt_number == nbb_cell_id) {\n",
       "                        if (nbb_cells[i].get_text() == nbb_unformatted_code) {\n",
       "                             nbb_cells[i].set_text(nbb_formatted_code);\n",
       "                        }\n",
       "                        break;\n",
       "                    }\n",
       "                }\n",
       "            }, 500);\n",
       "            "
      ],
      "text/plain": [
       "<IPython.core.display.Javascript object>"
      ]
     },
     "metadata": {},
     "output_type": "display_data"
    }
   ],
   "source": [
    "# merging export_df with previous_application_df\n",
    "previous_application_df = pd.merge(\n",
    "    previous_application_df,\n",
    "    export_df,\n",
    "    left_on=\"SK_ID_PREV\",\n",
    "    right_on=\"SK_ID_PREV\",\n",
    "    how=\"left\",\n",
    ")"
   ]
  },
  {
   "cell_type": "markdown",
   "metadata": {},
   "source": [
    "**2-1-5**. Exploring credit_card_balance csv and exporting significant features to previous_application_df."
   ]
  },
  {
   "cell_type": "code",
   "execution_count": 49,
   "metadata": {
    "scrolled": false
   },
   "outputs": [
    {
     "name": "stdout",
     "output_type": "stream",
     "text": [
      "<class 'pandas.core.frame.DataFrame'>\n",
      "RangeIndex: 3840312 entries, 0 to 3840311\n",
      "Data columns (total 23 columns):\n",
      " #   Column                      Dtype  \n",
      "---  ------                      -----  \n",
      " 0   SK_ID_PREV                  int64  \n",
      " 1   SK_ID_CURR                  int64  \n",
      " 2   MONTHS_BALANCE              int64  \n",
      " 3   AMT_BALANCE                 float64\n",
      " 4   AMT_CREDIT_LIMIT_ACTUAL     int64  \n",
      " 5   AMT_DRAWINGS_ATM_CURRENT    float64\n",
      " 6   AMT_DRAWINGS_CURRENT        float64\n",
      " 7   AMT_DRAWINGS_OTHER_CURRENT  float64\n",
      " 8   AMT_DRAWINGS_POS_CURRENT    float64\n",
      " 9   AMT_INST_MIN_REGULARITY     float64\n",
      " 10  AMT_PAYMENT_CURRENT         float64\n",
      " 11  AMT_PAYMENT_TOTAL_CURRENT   float64\n",
      " 12  AMT_RECEIVABLE_PRINCIPAL    float64\n",
      " 13  AMT_RECIVABLE               float64\n",
      " 14  AMT_TOTAL_RECEIVABLE        float64\n",
      " 15  CNT_DRAWINGS_ATM_CURRENT    float64\n",
      " 16  CNT_DRAWINGS_CURRENT        int64  \n",
      " 17  CNT_DRAWINGS_OTHER_CURRENT  float64\n",
      " 18  CNT_DRAWINGS_POS_CURRENT    float64\n",
      " 19  CNT_INSTALMENT_MATURE_CUM   float64\n",
      " 20  NAME_CONTRACT_STATUS        object \n",
      " 21  SK_DPD                      int64  \n",
      " 22  SK_DPD_DEF                  int64  \n",
      "dtypes: float64(15), int64(7), object(1)\n",
      "memory usage: 673.9+ MB\n"
     ]
    },
    {
     "data": {
      "application/javascript": [
       "\n",
       "            setTimeout(function() {\n",
       "                var nbb_cell_id = 49;\n",
       "                var nbb_unformatted_code = \"credit_card_balance_df.info()\";\n",
       "                var nbb_formatted_code = \"credit_card_balance_df.info()\";\n",
       "                var nbb_cells = Jupyter.notebook.get_cells();\n",
       "                for (var i = 0; i < nbb_cells.length; ++i) {\n",
       "                    if (nbb_cells[i].input_prompt_number == nbb_cell_id) {\n",
       "                        if (nbb_cells[i].get_text() == nbb_unformatted_code) {\n",
       "                             nbb_cells[i].set_text(nbb_formatted_code);\n",
       "                        }\n",
       "                        break;\n",
       "                    }\n",
       "                }\n",
       "            }, 500);\n",
       "            "
      ],
      "text/plain": [
       "<IPython.core.display.Javascript object>"
      ]
     },
     "metadata": {},
     "output_type": "display_data"
    }
   ],
   "source": [
    "credit_card_balance_df.info()"
   ]
  },
  {
   "cell_type": "markdown",
   "metadata": {},
   "source": [
    "Most of credit_card_balance features are numerical, averages will be extracted from them."
   ]
  },
  {
   "cell_type": "code",
   "execution_count": 50,
   "metadata": {},
   "outputs": [
    {
     "data": {
      "application/javascript": [
       "\n",
       "            setTimeout(function() {\n",
       "                var nbb_cell_id = 50;\n",
       "                var nbb_unformatted_code = \"avg_list = [\\n    \\\"MONTHS_BALANCE\\\",\\n    \\\"AMT_BALANCE\\\",\\n    \\\"AMT_CREDIT_LIMIT_ACTUAL\\\",\\n    \\\"AMT_DRAWINGS_ATM_CURRENT\\\",\\n    \\\"AMT_DRAWINGS_CURRENT\\\",\\n    \\\"AMT_DRAWINGS_OTHER_CURRENT\\\",\\n    \\\"AMT_DRAWINGS_POS_CURRENT\\\",\\n    \\\"AMT_INST_MIN_REGULARITY\\\",\\n    \\\"AMT_PAYMENT_CURRENT\\\",\\n    \\\"AMT_PAYMENT_TOTAL_CURRENT\\\",\\n    \\\"AMT_RECEIVABLE_PRINCIPAL\\\",\\n    \\\"AMT_RECIVABLE\\\",\\n    \\\"AMT_TOTAL_RECEIVABLE\\\",\\n    \\\"CNT_DRAWINGS_ATM_CURRENT\\\",\\n    \\\"CNT_DRAWINGS_CURRENT\\\",\\n    \\\"CNT_DRAWINGS_OTHER_CURRENT\\\",\\n    \\\"CNT_DRAWINGS_POS_CURRENT\\\",\\n    \\\"CNT_INSTALMENT_MATURE_CUM\\\",\\n    \\\"SK_DPD\\\",\\n    \\\"SK_DPD_DEF\\\",\\n]\\n\\n# extracting averages\\naverages_df = credit_card_balance_df.groupby([\\\"SK_ID_PREV\\\"])[avg_list].mean()\";\n",
       "                var nbb_formatted_code = \"avg_list = [\\n    \\\"MONTHS_BALANCE\\\",\\n    \\\"AMT_BALANCE\\\",\\n    \\\"AMT_CREDIT_LIMIT_ACTUAL\\\",\\n    \\\"AMT_DRAWINGS_ATM_CURRENT\\\",\\n    \\\"AMT_DRAWINGS_CURRENT\\\",\\n    \\\"AMT_DRAWINGS_OTHER_CURRENT\\\",\\n    \\\"AMT_DRAWINGS_POS_CURRENT\\\",\\n    \\\"AMT_INST_MIN_REGULARITY\\\",\\n    \\\"AMT_PAYMENT_CURRENT\\\",\\n    \\\"AMT_PAYMENT_TOTAL_CURRENT\\\",\\n    \\\"AMT_RECEIVABLE_PRINCIPAL\\\",\\n    \\\"AMT_RECIVABLE\\\",\\n    \\\"AMT_TOTAL_RECEIVABLE\\\",\\n    \\\"CNT_DRAWINGS_ATM_CURRENT\\\",\\n    \\\"CNT_DRAWINGS_CURRENT\\\",\\n    \\\"CNT_DRAWINGS_OTHER_CURRENT\\\",\\n    \\\"CNT_DRAWINGS_POS_CURRENT\\\",\\n    \\\"CNT_INSTALMENT_MATURE_CUM\\\",\\n    \\\"SK_DPD\\\",\\n    \\\"SK_DPD_DEF\\\",\\n]\\n\\n# extracting averages\\naverages_df = credit_card_balance_df.groupby([\\\"SK_ID_PREV\\\"])[avg_list].mean()\";\n",
       "                var nbb_cells = Jupyter.notebook.get_cells();\n",
       "                for (var i = 0; i < nbb_cells.length; ++i) {\n",
       "                    if (nbb_cells[i].input_prompt_number == nbb_cell_id) {\n",
       "                        if (nbb_cells[i].get_text() == nbb_unformatted_code) {\n",
       "                             nbb_cells[i].set_text(nbb_formatted_code);\n",
       "                        }\n",
       "                        break;\n",
       "                    }\n",
       "                }\n",
       "            }, 500);\n",
       "            "
      ],
      "text/plain": [
       "<IPython.core.display.Javascript object>"
      ]
     },
     "metadata": {},
     "output_type": "display_data"
    }
   ],
   "source": [
    "avg_list = [\n",
    "    \"MONTHS_BALANCE\",\n",
    "    \"AMT_BALANCE\",\n",
    "    \"AMT_CREDIT_LIMIT_ACTUAL\",\n",
    "    \"AMT_DRAWINGS_ATM_CURRENT\",\n",
    "    \"AMT_DRAWINGS_CURRENT\",\n",
    "    \"AMT_DRAWINGS_OTHER_CURRENT\",\n",
    "    \"AMT_DRAWINGS_POS_CURRENT\",\n",
    "    \"AMT_INST_MIN_REGULARITY\",\n",
    "    \"AMT_PAYMENT_CURRENT\",\n",
    "    \"AMT_PAYMENT_TOTAL_CURRENT\",\n",
    "    \"AMT_RECEIVABLE_PRINCIPAL\",\n",
    "    \"AMT_RECIVABLE\",\n",
    "    \"AMT_TOTAL_RECEIVABLE\",\n",
    "    \"CNT_DRAWINGS_ATM_CURRENT\",\n",
    "    \"CNT_DRAWINGS_CURRENT\",\n",
    "    \"CNT_DRAWINGS_OTHER_CURRENT\",\n",
    "    \"CNT_DRAWINGS_POS_CURRENT\",\n",
    "    \"CNT_INSTALMENT_MATURE_CUM\",\n",
    "    \"SK_DPD\",\n",
    "    \"SK_DPD_DEF\",\n",
    "]\n",
    "\n",
    "# extracting averages\n",
    "averages_df = credit_card_balance_df.groupby([\"SK_ID_PREV\"])[avg_list].mean()"
   ]
  },
  {
   "cell_type": "code",
   "execution_count": 51,
   "metadata": {},
   "outputs": [
    {
     "data": {
      "application/javascript": [
       "\n",
       "            setTimeout(function() {\n",
       "                var nbb_cell_id = 51;\n",
       "                var nbb_unformatted_code = \"# creating export df\\nexport_df = pd.DataFrame()\\n\\nexport_df[\\\"SK_ID_PREV\\\"] = previous_application_df.SK_ID_PREV.unique()\";\n",
       "                var nbb_formatted_code = \"# creating export df\\nexport_df = pd.DataFrame()\\n\\nexport_df[\\\"SK_ID_PREV\\\"] = previous_application_df.SK_ID_PREV.unique()\";\n",
       "                var nbb_cells = Jupyter.notebook.get_cells();\n",
       "                for (var i = 0; i < nbb_cells.length; ++i) {\n",
       "                    if (nbb_cells[i].input_prompt_number == nbb_cell_id) {\n",
       "                        if (nbb_cells[i].get_text() == nbb_unformatted_code) {\n",
       "                             nbb_cells[i].set_text(nbb_formatted_code);\n",
       "                        }\n",
       "                        break;\n",
       "                    }\n",
       "                }\n",
       "            }, 500);\n",
       "            "
      ],
      "text/plain": [
       "<IPython.core.display.Javascript object>"
      ]
     },
     "metadata": {},
     "output_type": "display_data"
    }
   ],
   "source": [
    "# creating export df\n",
    "export_df = pd.DataFrame()\n",
    "\n",
    "export_df[\"SK_ID_PREV\"] = previous_application_df.SK_ID_PREV.unique()"
   ]
  },
  {
   "cell_type": "code",
   "execution_count": 52,
   "metadata": {},
   "outputs": [
    {
     "data": {
      "application/javascript": [
       "\n",
       "            setTimeout(function() {\n",
       "                var nbb_cell_id = 52;\n",
       "                var nbb_unformatted_code = \"# assigning averages to export df\\nexport_df = pd.merge(\\n    export_df,\\n    averages_df,\\n    left_on=\\\"SK_ID_PREV\\\",\\n    right_on=\\\"SK_ID_PREV\\\",\\n    how=\\\"left\\\",\\n)\";\n",
       "                var nbb_formatted_code = \"# assigning averages to export df\\nexport_df = pd.merge(\\n    export_df,\\n    averages_df,\\n    left_on=\\\"SK_ID_PREV\\\",\\n    right_on=\\\"SK_ID_PREV\\\",\\n    how=\\\"left\\\",\\n)\";\n",
       "                var nbb_cells = Jupyter.notebook.get_cells();\n",
       "                for (var i = 0; i < nbb_cells.length; ++i) {\n",
       "                    if (nbb_cells[i].input_prompt_number == nbb_cell_id) {\n",
       "                        if (nbb_cells[i].get_text() == nbb_unformatted_code) {\n",
       "                             nbb_cells[i].set_text(nbb_formatted_code);\n",
       "                        }\n",
       "                        break;\n",
       "                    }\n",
       "                }\n",
       "            }, 500);\n",
       "            "
      ],
      "text/plain": [
       "<IPython.core.display.Javascript object>"
      ]
     },
     "metadata": {},
     "output_type": "display_data"
    }
   ],
   "source": [
    "# assigning averages to export df\n",
    "export_df = pd.merge(\n",
    "    export_df,\n",
    "    averages_df,\n",
    "    left_on=\"SK_ID_PREV\",\n",
    "    right_on=\"SK_ID_PREV\",\n",
    "    how=\"left\",\n",
    ")"
   ]
  },
  {
   "cell_type": "markdown",
   "metadata": {},
   "source": [
    "Extracting categorical feature NAME_CONTRACT_STATUS with pivot table."
   ]
  },
  {
   "cell_type": "code",
   "execution_count": 53,
   "metadata": {},
   "outputs": [
    {
     "data": {
      "application/javascript": [
       "\n",
       "            setTimeout(function() {\n",
       "                var nbb_cell_id = 53;\n",
       "                var nbb_unformatted_code = \"# extracting status counts\\nstatus_counts_df = (\\n    credit_card_balance_df.groupby([\\\"SK_ID_PREV\\\", \\\"NAME_CONTRACT_STATUS\\\"])\\n    .count()\\n    .reset_index()\\n)\";\n",
       "                var nbb_formatted_code = \"# extracting status counts\\nstatus_counts_df = (\\n    credit_card_balance_df.groupby([\\\"SK_ID_PREV\\\", \\\"NAME_CONTRACT_STATUS\\\"])\\n    .count()\\n    .reset_index()\\n)\";\n",
       "                var nbb_cells = Jupyter.notebook.get_cells();\n",
       "                for (var i = 0; i < nbb_cells.length; ++i) {\n",
       "                    if (nbb_cells[i].input_prompt_number == nbb_cell_id) {\n",
       "                        if (nbb_cells[i].get_text() == nbb_unformatted_code) {\n",
       "                             nbb_cells[i].set_text(nbb_formatted_code);\n",
       "                        }\n",
       "                        break;\n",
       "                    }\n",
       "                }\n",
       "            }, 500);\n",
       "            "
      ],
      "text/plain": [
       "<IPython.core.display.Javascript object>"
      ]
     },
     "metadata": {},
     "output_type": "display_data"
    }
   ],
   "source": [
    "# extracting status counts\n",
    "status_counts_df = (\n",
    "    credit_card_balance_df.groupby([\"SK_ID_PREV\", \"NAME_CONTRACT_STATUS\"])\n",
    "    .count()\n",
    "    .reset_index()\n",
    ")"
   ]
  },
  {
   "cell_type": "code",
   "execution_count": 54,
   "metadata": {},
   "outputs": [
    {
     "data": {
      "application/javascript": [
       "\n",
       "            setTimeout(function() {\n",
       "                var nbb_cell_id = 54;\n",
       "                var nbb_unformatted_code = \"# making pivot table of status counts\\nstatus_pivot_df = status_counts_df.pivot_table(\\n    \\\"MONTHS_BALANCE\\\", \\\"SK_ID_PREV\\\", \\\"NAME_CONTRACT_STATUS\\\"\\n)\";\n",
       "                var nbb_formatted_code = \"# making pivot table of status counts\\nstatus_pivot_df = status_counts_df.pivot_table(\\n    \\\"MONTHS_BALANCE\\\", \\\"SK_ID_PREV\\\", \\\"NAME_CONTRACT_STATUS\\\"\\n)\";\n",
       "                var nbb_cells = Jupyter.notebook.get_cells();\n",
       "                for (var i = 0; i < nbb_cells.length; ++i) {\n",
       "                    if (nbb_cells[i].input_prompt_number == nbb_cell_id) {\n",
       "                        if (nbb_cells[i].get_text() == nbb_unformatted_code) {\n",
       "                             nbb_cells[i].set_text(nbb_formatted_code);\n",
       "                        }\n",
       "                        break;\n",
       "                    }\n",
       "                }\n",
       "            }, 500);\n",
       "            "
      ],
      "text/plain": [
       "<IPython.core.display.Javascript object>"
      ]
     },
     "metadata": {},
     "output_type": "display_data"
    }
   ],
   "source": [
    "# making pivot table of status counts\n",
    "status_pivot_df = status_counts_df.pivot_table(\n",
    "    \"MONTHS_BALANCE\", \"SK_ID_PREV\", \"NAME_CONTRACT_STATUS\"\n",
    ")"
   ]
  },
  {
   "cell_type": "code",
   "execution_count": 55,
   "metadata": {},
   "outputs": [
    {
     "data": {
      "application/javascript": [
       "\n",
       "            setTimeout(function() {\n",
       "                var nbb_cell_id = 55;\n",
       "                var nbb_unformatted_code = \"# assigning pivot table to export df\\nexport_df = pd.merge(\\n    export_df,\\n    status_pivot_df,\\n    left_on=\\\"SK_ID_PREV\\\",\\n    right_on=\\\"SK_ID_PREV\\\",\\n    how=\\\"left\\\",\\n)\";\n",
       "                var nbb_formatted_code = \"# assigning pivot table to export df\\nexport_df = pd.merge(\\n    export_df,\\n    status_pivot_df,\\n    left_on=\\\"SK_ID_PREV\\\",\\n    right_on=\\\"SK_ID_PREV\\\",\\n    how=\\\"left\\\",\\n)\";\n",
       "                var nbb_cells = Jupyter.notebook.get_cells();\n",
       "                for (var i = 0; i < nbb_cells.length; ++i) {\n",
       "                    if (nbb_cells[i].input_prompt_number == nbb_cell_id) {\n",
       "                        if (nbb_cells[i].get_text() == nbb_unformatted_code) {\n",
       "                             nbb_cells[i].set_text(nbb_formatted_code);\n",
       "                        }\n",
       "                        break;\n",
       "                    }\n",
       "                }\n",
       "            }, 500);\n",
       "            "
      ],
      "text/plain": [
       "<IPython.core.display.Javascript object>"
      ]
     },
     "metadata": {},
     "output_type": "display_data"
    }
   ],
   "source": [
    "# assigning pivot table to export df\n",
    "export_df = pd.merge(\n",
    "    export_df,\n",
    "    status_pivot_df,\n",
    "    left_on=\"SK_ID_PREV\",\n",
    "    right_on=\"SK_ID_PREV\",\n",
    "    how=\"left\",\n",
    ")"
   ]
  },
  {
   "cell_type": "code",
   "execution_count": 56,
   "metadata": {},
   "outputs": [
    {
     "data": {
      "application/javascript": [
       "\n",
       "            setTimeout(function() {\n",
       "                var nbb_cell_id = 56;\n",
       "                var nbb_unformatted_code = \"export_df = export_df.fillna(0)\";\n",
       "                var nbb_formatted_code = \"export_df = export_df.fillna(0)\";\n",
       "                var nbb_cells = Jupyter.notebook.get_cells();\n",
       "                for (var i = 0; i < nbb_cells.length; ++i) {\n",
       "                    if (nbb_cells[i].input_prompt_number == nbb_cell_id) {\n",
       "                        if (nbb_cells[i].get_text() == nbb_unformatted_code) {\n",
       "                             nbb_cells[i].set_text(nbb_formatted_code);\n",
       "                        }\n",
       "                        break;\n",
       "                    }\n",
       "                }\n",
       "            }, 500);\n",
       "            "
      ],
      "text/plain": [
       "<IPython.core.display.Javascript object>"
      ]
     },
     "metadata": {},
     "output_type": "display_data"
    }
   ],
   "source": [
    "export_df = export_df.fillna(0)"
   ]
  },
  {
   "cell_type": "code",
   "execution_count": 57,
   "metadata": {},
   "outputs": [
    {
     "data": {
      "application/javascript": [
       "\n",
       "            setTimeout(function() {\n",
       "                var nbb_cell_id = 57;\n",
       "                var nbb_unformatted_code = \"# merging export_df with previous_application_df\\nprevious_application_df = pd.merge(\\n    previous_application_df,\\n    export_df,\\n    left_on=\\\"SK_ID_PREV\\\",\\n    right_on=\\\"SK_ID_PREV\\\",\\n    how=\\\"left\\\",\\n)\";\n",
       "                var nbb_formatted_code = \"# merging export_df with previous_application_df\\nprevious_application_df = pd.merge(\\n    previous_application_df,\\n    export_df,\\n    left_on=\\\"SK_ID_PREV\\\",\\n    right_on=\\\"SK_ID_PREV\\\",\\n    how=\\\"left\\\",\\n)\";\n",
       "                var nbb_cells = Jupyter.notebook.get_cells();\n",
       "                for (var i = 0; i < nbb_cells.length; ++i) {\n",
       "                    if (nbb_cells[i].input_prompt_number == nbb_cell_id) {\n",
       "                        if (nbb_cells[i].get_text() == nbb_unformatted_code) {\n",
       "                             nbb_cells[i].set_text(nbb_formatted_code);\n",
       "                        }\n",
       "                        break;\n",
       "                    }\n",
       "                }\n",
       "            }, 500);\n",
       "            "
      ],
      "text/plain": [
       "<IPython.core.display.Javascript object>"
      ]
     },
     "metadata": {},
     "output_type": "display_data"
    }
   ],
   "source": [
    "# merging export_df with previous_application_df\n",
    "previous_application_df = pd.merge(\n",
    "    previous_application_df,\n",
    "    export_df,\n",
    "    left_on=\"SK_ID_PREV\",\n",
    "    right_on=\"SK_ID_PREV\",\n",
    "    how=\"left\",\n",
    ")"
   ]
  },
  {
   "cell_type": "markdown",
   "metadata": {},
   "source": [
    "**2-1-6**. Exploring previous_application_df and extract relevant features. Based on SK_ID_CURR these features will be assigned to train_df and test_df."
   ]
  },
  {
   "cell_type": "code",
   "execution_count": 58,
   "metadata": {
    "scrolled": false
   },
   "outputs": [
    {
     "data": {
      "text/html": [
       "<div>\n",
       "<style scoped>\n",
       "    .dataframe tbody tr th:only-of-type {\n",
       "        vertical-align: middle;\n",
       "    }\n",
       "\n",
       "    .dataframe tbody tr th {\n",
       "        vertical-align: top;\n",
       "    }\n",
       "\n",
       "    .dataframe thead th {\n",
       "        text-align: right;\n",
       "    }\n",
       "</style>\n",
       "<table border=\"1\" class=\"dataframe\">\n",
       "  <thead>\n",
       "    <tr style=\"text-align: right;\">\n",
       "      <th></th>\n",
       "      <th>SK_ID_PREV</th>\n",
       "      <th>SK_ID_CURR</th>\n",
       "      <th>NAME_CONTRACT_TYPE</th>\n",
       "      <th>AMT_ANNUITY</th>\n",
       "      <th>AMT_APPLICATION</th>\n",
       "      <th>AMT_CREDIT</th>\n",
       "      <th>AMT_DOWN_PAYMENT</th>\n",
       "      <th>AMT_GOODS_PRICE</th>\n",
       "      <th>WEEKDAY_APPR_PROCESS_START</th>\n",
       "      <th>HOUR_APPR_PROCESS_START</th>\n",
       "      <th>...</th>\n",
       "      <th>CNT_INSTALMENT_MATURE_CUM</th>\n",
       "      <th>SK_DPD_y</th>\n",
       "      <th>SK_DPD_DEF_y</th>\n",
       "      <th>Active</th>\n",
       "      <th>Approved</th>\n",
       "      <th>Completed</th>\n",
       "      <th>Demand</th>\n",
       "      <th>Refused</th>\n",
       "      <th>Sent proposal</th>\n",
       "      <th>Signed</th>\n",
       "    </tr>\n",
       "  </thead>\n",
       "  <tbody>\n",
       "    <tr>\n",
       "      <th>0</th>\n",
       "      <td>2030495</td>\n",
       "      <td>271877</td>\n",
       "      <td>Consumer loans</td>\n",
       "      <td>1730.430</td>\n",
       "      <td>17145.0</td>\n",
       "      <td>17145.0</td>\n",
       "      <td>0.0</td>\n",
       "      <td>17145.0</td>\n",
       "      <td>SATURDAY</td>\n",
       "      <td>15</td>\n",
       "      <td>...</td>\n",
       "      <td>0.0</td>\n",
       "      <td>0.0</td>\n",
       "      <td>0.0</td>\n",
       "      <td>0.0</td>\n",
       "      <td>0.0</td>\n",
       "      <td>0.0</td>\n",
       "      <td>0.0</td>\n",
       "      <td>0.0</td>\n",
       "      <td>0.0</td>\n",
       "      <td>0.0</td>\n",
       "    </tr>\n",
       "    <tr>\n",
       "      <th>1</th>\n",
       "      <td>2802425</td>\n",
       "      <td>108129</td>\n",
       "      <td>Cash loans</td>\n",
       "      <td>25188.615</td>\n",
       "      <td>607500.0</td>\n",
       "      <td>679671.0</td>\n",
       "      <td>NaN</td>\n",
       "      <td>607500.0</td>\n",
       "      <td>THURSDAY</td>\n",
       "      <td>11</td>\n",
       "      <td>...</td>\n",
       "      <td>0.0</td>\n",
       "      <td>0.0</td>\n",
       "      <td>0.0</td>\n",
       "      <td>0.0</td>\n",
       "      <td>0.0</td>\n",
       "      <td>0.0</td>\n",
       "      <td>0.0</td>\n",
       "      <td>0.0</td>\n",
       "      <td>0.0</td>\n",
       "      <td>0.0</td>\n",
       "    </tr>\n",
       "    <tr>\n",
       "      <th>2</th>\n",
       "      <td>2523466</td>\n",
       "      <td>122040</td>\n",
       "      <td>Cash loans</td>\n",
       "      <td>15060.735</td>\n",
       "      <td>112500.0</td>\n",
       "      <td>136444.5</td>\n",
       "      <td>NaN</td>\n",
       "      <td>112500.0</td>\n",
       "      <td>TUESDAY</td>\n",
       "      <td>11</td>\n",
       "      <td>...</td>\n",
       "      <td>0.0</td>\n",
       "      <td>0.0</td>\n",
       "      <td>0.0</td>\n",
       "      <td>0.0</td>\n",
       "      <td>0.0</td>\n",
       "      <td>0.0</td>\n",
       "      <td>0.0</td>\n",
       "      <td>0.0</td>\n",
       "      <td>0.0</td>\n",
       "      <td>0.0</td>\n",
       "    </tr>\n",
       "    <tr>\n",
       "      <th>3</th>\n",
       "      <td>2819243</td>\n",
       "      <td>176158</td>\n",
       "      <td>Cash loans</td>\n",
       "      <td>47041.335</td>\n",
       "      <td>450000.0</td>\n",
       "      <td>470790.0</td>\n",
       "      <td>NaN</td>\n",
       "      <td>450000.0</td>\n",
       "      <td>MONDAY</td>\n",
       "      <td>7</td>\n",
       "      <td>...</td>\n",
       "      <td>0.0</td>\n",
       "      <td>0.0</td>\n",
       "      <td>0.0</td>\n",
       "      <td>0.0</td>\n",
       "      <td>0.0</td>\n",
       "      <td>0.0</td>\n",
       "      <td>0.0</td>\n",
       "      <td>0.0</td>\n",
       "      <td>0.0</td>\n",
       "      <td>0.0</td>\n",
       "    </tr>\n",
       "    <tr>\n",
       "      <th>4</th>\n",
       "      <td>1784265</td>\n",
       "      <td>202054</td>\n",
       "      <td>Cash loans</td>\n",
       "      <td>31924.395</td>\n",
       "      <td>337500.0</td>\n",
       "      <td>404055.0</td>\n",
       "      <td>NaN</td>\n",
       "      <td>337500.0</td>\n",
       "      <td>THURSDAY</td>\n",
       "      <td>9</td>\n",
       "      <td>...</td>\n",
       "      <td>0.0</td>\n",
       "      <td>0.0</td>\n",
       "      <td>0.0</td>\n",
       "      <td>0.0</td>\n",
       "      <td>0.0</td>\n",
       "      <td>0.0</td>\n",
       "      <td>0.0</td>\n",
       "      <td>0.0</td>\n",
       "      <td>0.0</td>\n",
       "      <td>0.0</td>\n",
       "    </tr>\n",
       "  </tbody>\n",
       "</table>\n",
       "<p>5 rows × 75 columns</p>\n",
       "</div>"
      ],
      "text/plain": [
       "   SK_ID_PREV  SK_ID_CURR NAME_CONTRACT_TYPE  AMT_ANNUITY  AMT_APPLICATION  \\\n",
       "0     2030495      271877     Consumer loans     1730.430          17145.0   \n",
       "1     2802425      108129         Cash loans    25188.615         607500.0   \n",
       "2     2523466      122040         Cash loans    15060.735         112500.0   \n",
       "3     2819243      176158         Cash loans    47041.335         450000.0   \n",
       "4     1784265      202054         Cash loans    31924.395         337500.0   \n",
       "\n",
       "   AMT_CREDIT  AMT_DOWN_PAYMENT  AMT_GOODS_PRICE WEEKDAY_APPR_PROCESS_START  \\\n",
       "0     17145.0               0.0          17145.0                   SATURDAY   \n",
       "1    679671.0               NaN         607500.0                   THURSDAY   \n",
       "2    136444.5               NaN         112500.0                    TUESDAY   \n",
       "3    470790.0               NaN         450000.0                     MONDAY   \n",
       "4    404055.0               NaN         337500.0                   THURSDAY   \n",
       "\n",
       "   HOUR_APPR_PROCESS_START  ... CNT_INSTALMENT_MATURE_CUM  SK_DPD_y  \\\n",
       "0                       15  ...                       0.0       0.0   \n",
       "1                       11  ...                       0.0       0.0   \n",
       "2                       11  ...                       0.0       0.0   \n",
       "3                        7  ...                       0.0       0.0   \n",
       "4                        9  ...                       0.0       0.0   \n",
       "\n",
       "   SK_DPD_DEF_y  Active  Approved Completed Demand  Refused Sent proposal  \\\n",
       "0           0.0     0.0       0.0       0.0    0.0      0.0           0.0   \n",
       "1           0.0     0.0       0.0       0.0    0.0      0.0           0.0   \n",
       "2           0.0     0.0       0.0       0.0    0.0      0.0           0.0   \n",
       "3           0.0     0.0       0.0       0.0    0.0      0.0           0.0   \n",
       "4           0.0     0.0       0.0       0.0    0.0      0.0           0.0   \n",
       "\n",
       "  Signed  \n",
       "0    0.0  \n",
       "1    0.0  \n",
       "2    0.0  \n",
       "3    0.0  \n",
       "4    0.0  \n",
       "\n",
       "[5 rows x 75 columns]"
      ]
     },
     "execution_count": 58,
     "metadata": {},
     "output_type": "execute_result"
    },
    {
     "data": {
      "application/javascript": [
       "\n",
       "            setTimeout(function() {\n",
       "                var nbb_cell_id = 58;\n",
       "                var nbb_unformatted_code = \"previous_application_df.head(5)\";\n",
       "                var nbb_formatted_code = \"previous_application_df.head(5)\";\n",
       "                var nbb_cells = Jupyter.notebook.get_cells();\n",
       "                for (var i = 0; i < nbb_cells.length; ++i) {\n",
       "                    if (nbb_cells[i].input_prompt_number == nbb_cell_id) {\n",
       "                        if (nbb_cells[i].get_text() == nbb_unformatted_code) {\n",
       "                             nbb_cells[i].set_text(nbb_formatted_code);\n",
       "                        }\n",
       "                        break;\n",
       "                    }\n",
       "                }\n",
       "            }, 500);\n",
       "            "
      ],
      "text/plain": [
       "<IPython.core.display.Javascript object>"
      ]
     },
     "metadata": {},
     "output_type": "display_data"
    }
   ],
   "source": [
    "previous_application_df.head(5)"
   ]
  },
  {
   "cell_type": "markdown",
   "metadata": {},
   "source": [
    "Categorical features from this database already exist in train ant test df. Only numerical features will be exported."
   ]
  },
  {
   "cell_type": "code",
   "execution_count": 59,
   "metadata": {},
   "outputs": [
    {
     "data": {
      "application/javascript": [
       "\n",
       "            setTimeout(function() {\n",
       "                var nbb_cell_id = 59;\n",
       "                var nbb_unformatted_code = \"# filling missing values\\nprevious_application_df = previous_application_df.fillna(0)\";\n",
       "                var nbb_formatted_code = \"# filling missing values\\nprevious_application_df = previous_application_df.fillna(0)\";\n",
       "                var nbb_cells = Jupyter.notebook.get_cells();\n",
       "                for (var i = 0; i < nbb_cells.length; ++i) {\n",
       "                    if (nbb_cells[i].input_prompt_number == nbb_cell_id) {\n",
       "                        if (nbb_cells[i].get_text() == nbb_unformatted_code) {\n",
       "                             nbb_cells[i].set_text(nbb_formatted_code);\n",
       "                        }\n",
       "                        break;\n",
       "                    }\n",
       "                }\n",
       "            }, 500);\n",
       "            "
      ],
      "text/plain": [
       "<IPython.core.display.Javascript object>"
      ]
     },
     "metadata": {},
     "output_type": "display_data"
    }
   ],
   "source": [
    "# filling missing values\n",
    "previous_application_df = previous_application_df.fillna(0)"
   ]
  },
  {
   "cell_type": "code",
   "execution_count": 60,
   "metadata": {},
   "outputs": [
    {
     "data": {
      "application/javascript": [
       "\n",
       "            setTimeout(function() {\n",
       "                var nbb_cell_id = 60;\n",
       "                var nbb_unformatted_code = \"# extracting average list\\navg_list = previous_application_df.select_dtypes(include=np.number).iloc[:, 2:].columns\";\n",
       "                var nbb_formatted_code = \"# extracting average list\\navg_list = previous_application_df.select_dtypes(include=np.number).iloc[:, 2:].columns\";\n",
       "                var nbb_cells = Jupyter.notebook.get_cells();\n",
       "                for (var i = 0; i < nbb_cells.length; ++i) {\n",
       "                    if (nbb_cells[i].input_prompt_number == nbb_cell_id) {\n",
       "                        if (nbb_cells[i].get_text() == nbb_unformatted_code) {\n",
       "                             nbb_cells[i].set_text(nbb_formatted_code);\n",
       "                        }\n",
       "                        break;\n",
       "                    }\n",
       "                }\n",
       "            }, 500);\n",
       "            "
      ],
      "text/plain": [
       "<IPython.core.display.Javascript object>"
      ]
     },
     "metadata": {},
     "output_type": "display_data"
    }
   ],
   "source": [
    "# extracting average list\n",
    "avg_list = previous_application_df.select_dtypes(include=np.number).iloc[:, 2:].columns"
   ]
  },
  {
   "cell_type": "code",
   "execution_count": 61,
   "metadata": {},
   "outputs": [
    {
     "data": {
      "application/javascript": [
       "\n",
       "            setTimeout(function() {\n",
       "                var nbb_cell_id = 61;\n",
       "                var nbb_unformatted_code = \"# extracting averages\\naverages_df = previous_application_df.groupby([\\\"SK_ID_CURR\\\"])[avg_list].mean()\";\n",
       "                var nbb_formatted_code = \"# extracting averages\\naverages_df = previous_application_df.groupby([\\\"SK_ID_CURR\\\"])[avg_list].mean()\";\n",
       "                var nbb_cells = Jupyter.notebook.get_cells();\n",
       "                for (var i = 0; i < nbb_cells.length; ++i) {\n",
       "                    if (nbb_cells[i].input_prompt_number == nbb_cell_id) {\n",
       "                        if (nbb_cells[i].get_text() == nbb_unformatted_code) {\n",
       "                             nbb_cells[i].set_text(nbb_formatted_code);\n",
       "                        }\n",
       "                        break;\n",
       "                    }\n",
       "                }\n",
       "            }, 500);\n",
       "            "
      ],
      "text/plain": [
       "<IPython.core.display.Javascript object>"
      ]
     },
     "metadata": {},
     "output_type": "display_data"
    }
   ],
   "source": [
    "# extracting averages\n",
    "averages_df = previous_application_df.groupby([\"SK_ID_CURR\"])[avg_list].mean()"
   ]
  },
  {
   "cell_type": "code",
   "execution_count": 62,
   "metadata": {},
   "outputs": [
    {
     "data": {
      "application/javascript": [
       "\n",
       "            setTimeout(function() {\n",
       "                var nbb_cell_id = 62;\n",
       "                var nbb_unformatted_code = \"# creating export df\\nexport_df = pd.DataFrame()\\n\\nexport_df[\\\"SK_ID_CURR\\\"] = previous_application_df.SK_ID_CURR.unique()\";\n",
       "                var nbb_formatted_code = \"# creating export df\\nexport_df = pd.DataFrame()\\n\\nexport_df[\\\"SK_ID_CURR\\\"] = previous_application_df.SK_ID_CURR.unique()\";\n",
       "                var nbb_cells = Jupyter.notebook.get_cells();\n",
       "                for (var i = 0; i < nbb_cells.length; ++i) {\n",
       "                    if (nbb_cells[i].input_prompt_number == nbb_cell_id) {\n",
       "                        if (nbb_cells[i].get_text() == nbb_unformatted_code) {\n",
       "                             nbb_cells[i].set_text(nbb_formatted_code);\n",
       "                        }\n",
       "                        break;\n",
       "                    }\n",
       "                }\n",
       "            }, 500);\n",
       "            "
      ],
      "text/plain": [
       "<IPython.core.display.Javascript object>"
      ]
     },
     "metadata": {},
     "output_type": "display_data"
    }
   ],
   "source": [
    "# creating export df\n",
    "export_df = pd.DataFrame()\n",
    "\n",
    "export_df[\"SK_ID_CURR\"] = previous_application_df.SK_ID_CURR.unique()"
   ]
  },
  {
   "cell_type": "code",
   "execution_count": 63,
   "metadata": {},
   "outputs": [
    {
     "data": {
      "application/javascript": [
       "\n",
       "            setTimeout(function() {\n",
       "                var nbb_cell_id = 63;\n",
       "                var nbb_unformatted_code = \"# assigning averages to export df\\nexport_df = pd.merge(\\n    export_df,\\n    averages_df,\\n    left_on=\\\"SK_ID_CURR\\\",\\n    right_on=\\\"SK_ID_CURR\\\",\\n    how=\\\"left\\\",\\n)\";\n",
       "                var nbb_formatted_code = \"# assigning averages to export df\\nexport_df = pd.merge(\\n    export_df,\\n    averages_df,\\n    left_on=\\\"SK_ID_CURR\\\",\\n    right_on=\\\"SK_ID_CURR\\\",\\n    how=\\\"left\\\",\\n)\";\n",
       "                var nbb_cells = Jupyter.notebook.get_cells();\n",
       "                for (var i = 0; i < nbb_cells.length; ++i) {\n",
       "                    if (nbb_cells[i].input_prompt_number == nbb_cell_id) {\n",
       "                        if (nbb_cells[i].get_text() == nbb_unformatted_code) {\n",
       "                             nbb_cells[i].set_text(nbb_formatted_code);\n",
       "                        }\n",
       "                        break;\n",
       "                    }\n",
       "                }\n",
       "            }, 500);\n",
       "            "
      ],
      "text/plain": [
       "<IPython.core.display.Javascript object>"
      ]
     },
     "metadata": {},
     "output_type": "display_data"
    }
   ],
   "source": [
    "# assigning averages to export df\n",
    "export_df = pd.merge(\n",
    "    export_df,\n",
    "    averages_df,\n",
    "    left_on=\"SK_ID_CURR\",\n",
    "    right_on=\"SK_ID_CURR\",\n",
    "    how=\"left\",\n",
    ")"
   ]
  },
  {
   "cell_type": "markdown",
   "metadata": {},
   "source": [
    "Inserting previous applications count."
   ]
  },
  {
   "cell_type": "code",
   "execution_count": 64,
   "metadata": {},
   "outputs": [
    {
     "data": {
      "application/javascript": [
       "\n",
       "            setTimeout(function() {\n",
       "                var nbb_cell_id = 64;\n",
       "                var nbb_unformatted_code = \"# extracting counts\\ncounts_df = (\\n    previous_application_df.groupby(\\\"SK_ID_CURR\\\").count().reset_index().iloc[:, :2]\\n)\";\n",
       "                var nbb_formatted_code = \"# extracting counts\\ncounts_df = (\\n    previous_application_df.groupby(\\\"SK_ID_CURR\\\").count().reset_index().iloc[:, :2]\\n)\";\n",
       "                var nbb_cells = Jupyter.notebook.get_cells();\n",
       "                for (var i = 0; i < nbb_cells.length; ++i) {\n",
       "                    if (nbb_cells[i].input_prompt_number == nbb_cell_id) {\n",
       "                        if (nbb_cells[i].get_text() == nbb_unformatted_code) {\n",
       "                             nbb_cells[i].set_text(nbb_formatted_code);\n",
       "                        }\n",
       "                        break;\n",
       "                    }\n",
       "                }\n",
       "            }, 500);\n",
       "            "
      ],
      "text/plain": [
       "<IPython.core.display.Javascript object>"
      ]
     },
     "metadata": {},
     "output_type": "display_data"
    }
   ],
   "source": [
    "# extracting counts\n",
    "counts_df = (\n",
    "    previous_application_df.groupby(\"SK_ID_CURR\").count().reset_index().iloc[:, :2]\n",
    ")"
   ]
  },
  {
   "cell_type": "code",
   "execution_count": 65,
   "metadata": {},
   "outputs": [
    {
     "data": {
      "application/javascript": [
       "\n",
       "            setTimeout(function() {\n",
       "                var nbb_cell_id = 65;\n",
       "                var nbb_unformatted_code = \"# renaming columns\\ncounts_df.columns = [\\\"SK_ID_CURR\\\", \\\"PREV_COUNTS\\\"]\";\n",
       "                var nbb_formatted_code = \"# renaming columns\\ncounts_df.columns = [\\\"SK_ID_CURR\\\", \\\"PREV_COUNTS\\\"]\";\n",
       "                var nbb_cells = Jupyter.notebook.get_cells();\n",
       "                for (var i = 0; i < nbb_cells.length; ++i) {\n",
       "                    if (nbb_cells[i].input_prompt_number == nbb_cell_id) {\n",
       "                        if (nbb_cells[i].get_text() == nbb_unformatted_code) {\n",
       "                             nbb_cells[i].set_text(nbb_formatted_code);\n",
       "                        }\n",
       "                        break;\n",
       "                    }\n",
       "                }\n",
       "            }, 500);\n",
       "            "
      ],
      "text/plain": [
       "<IPython.core.display.Javascript object>"
      ]
     },
     "metadata": {},
     "output_type": "display_data"
    }
   ],
   "source": [
    "# renaming columns\n",
    "counts_df.columns = [\"SK_ID_CURR\", \"PREV_COUNTS\"]"
   ]
  },
  {
   "cell_type": "code",
   "execution_count": 66,
   "metadata": {},
   "outputs": [
    {
     "data": {
      "application/javascript": [
       "\n",
       "            setTimeout(function() {\n",
       "                var nbb_cell_id = 66;\n",
       "                var nbb_unformatted_code = \"# assigning counts to export df\\nexport_df = pd.merge(\\n    export_df,\\n    counts_df,\\n    left_on=\\\"SK_ID_CURR\\\",\\n    right_on=\\\"SK_ID_CURR\\\",\\n    how=\\\"left\\\",\\n)\\n\\n# filling missing values\\nexport_df = export_df.fillna(0)\";\n",
       "                var nbb_formatted_code = \"# assigning counts to export df\\nexport_df = pd.merge(\\n    export_df,\\n    counts_df,\\n    left_on=\\\"SK_ID_CURR\\\",\\n    right_on=\\\"SK_ID_CURR\\\",\\n    how=\\\"left\\\",\\n)\\n\\n# filling missing values\\nexport_df = export_df.fillna(0)\";\n",
       "                var nbb_cells = Jupyter.notebook.get_cells();\n",
       "                for (var i = 0; i < nbb_cells.length; ++i) {\n",
       "                    if (nbb_cells[i].input_prompt_number == nbb_cell_id) {\n",
       "                        if (nbb_cells[i].get_text() == nbb_unformatted_code) {\n",
       "                             nbb_cells[i].set_text(nbb_formatted_code);\n",
       "                        }\n",
       "                        break;\n",
       "                    }\n",
       "                }\n",
       "            }, 500);\n",
       "            "
      ],
      "text/plain": [
       "<IPython.core.display.Javascript object>"
      ]
     },
     "metadata": {},
     "output_type": "display_data"
    }
   ],
   "source": [
    "# assigning counts to export df\n",
    "export_df = pd.merge(\n",
    "    export_df,\n",
    "    counts_df,\n",
    "    left_on=\"SK_ID_CURR\",\n",
    "    right_on=\"SK_ID_CURR\",\n",
    "    how=\"left\",\n",
    ")\n",
    "\n",
    "# filling missing values\n",
    "export_df = export_df.fillna(0)"
   ]
  },
  {
   "cell_type": "code",
   "execution_count": 67,
   "metadata": {},
   "outputs": [
    {
     "data": {
      "application/javascript": [
       "\n",
       "            setTimeout(function() {\n",
       "                var nbb_cell_id = 67;\n",
       "                var nbb_unformatted_code = \"# merging with train_df and test_df\\ntrain_df = pd.merge(\\n    train_df,\\n    export_df,\\n    left_on=\\\"SK_ID_CURR\\\",\\n    right_on=\\\"SK_ID_CURR\\\",\\n    how=\\\"left\\\",\\n)\\n\\ntest_df = pd.merge(\\n    test_df,\\n    export_df,\\n    left_on=\\\"SK_ID_CURR\\\",\\n    right_on=\\\"SK_ID_CURR\\\",\\n    how=\\\"left\\\",\\n)\";\n",
       "                var nbb_formatted_code = \"# merging with train_df and test_df\\ntrain_df = pd.merge(\\n    train_df,\\n    export_df,\\n    left_on=\\\"SK_ID_CURR\\\",\\n    right_on=\\\"SK_ID_CURR\\\",\\n    how=\\\"left\\\",\\n)\\n\\ntest_df = pd.merge(\\n    test_df,\\n    export_df,\\n    left_on=\\\"SK_ID_CURR\\\",\\n    right_on=\\\"SK_ID_CURR\\\",\\n    how=\\\"left\\\",\\n)\";\n",
       "                var nbb_cells = Jupyter.notebook.get_cells();\n",
       "                for (var i = 0; i < nbb_cells.length; ++i) {\n",
       "                    if (nbb_cells[i].input_prompt_number == nbb_cell_id) {\n",
       "                        if (nbb_cells[i].get_text() == nbb_unformatted_code) {\n",
       "                             nbb_cells[i].set_text(nbb_formatted_code);\n",
       "                        }\n",
       "                        break;\n",
       "                    }\n",
       "                }\n",
       "            }, 500);\n",
       "            "
      ],
      "text/plain": [
       "<IPython.core.display.Javascript object>"
      ]
     },
     "metadata": {},
     "output_type": "display_data"
    }
   ],
   "source": [
    "# merging with train_df and test_df\n",
    "train_df = pd.merge(\n",
    "    train_df,\n",
    "    export_df,\n",
    "    left_on=\"SK_ID_CURR\",\n",
    "    right_on=\"SK_ID_CURR\",\n",
    "    how=\"left\",\n",
    ")\n",
    "\n",
    "test_df = pd.merge(\n",
    "    test_df,\n",
    "    export_df,\n",
    "    left_on=\"SK_ID_CURR\",\n",
    "    right_on=\"SK_ID_CURR\",\n",
    "    how=\"left\",\n",
    ")"
   ]
  },
  {
   "cell_type": "markdown",
   "metadata": {},
   "source": [
    "**2-1-8** Saving merged train and test dataframes."
   ]
  },
  {
   "cell_type": "code",
   "execution_count": 68,
   "metadata": {},
   "outputs": [
    {
     "data": {
      "application/javascript": [
       "\n",
       "            setTimeout(function() {\n",
       "                var nbb_cell_id = 68;\n",
       "                var nbb_unformatted_code = \"train_df.to_csv('merged_train.csv', index=False)\\ntest_df.to_csv('merged_test.csv', index=False)\";\n",
       "                var nbb_formatted_code = \"train_df.to_csv(\\\"merged_train.csv\\\", index=False)\\ntest_df.to_csv(\\\"merged_test.csv\\\", index=False)\";\n",
       "                var nbb_cells = Jupyter.notebook.get_cells();\n",
       "                for (var i = 0; i < nbb_cells.length; ++i) {\n",
       "                    if (nbb_cells[i].input_prompt_number == nbb_cell_id) {\n",
       "                        if (nbb_cells[i].get_text() == nbb_unformatted_code) {\n",
       "                             nbb_cells[i].set_text(nbb_formatted_code);\n",
       "                        }\n",
       "                        break;\n",
       "                    }\n",
       "                }\n",
       "            }, 500);\n",
       "            "
      ],
      "text/plain": [
       "<IPython.core.display.Javascript object>"
      ]
     },
     "metadata": {},
     "output_type": "display_data"
    }
   ],
   "source": [
    "train_df.to_csv(\"merged_train.csv\", index=False)\n",
    "test_df.to_csv(\"merged_test.csv\", index=False)"
   ]
  }
 ],
 "metadata": {
  "kernelspec": {
   "display_name": "Python 3",
   "language": "python",
   "name": "python3"
  },
  "language_info": {
   "codemirror_mode": {
    "name": "ipython",
    "version": 3
   },
   "file_extension": ".py",
   "mimetype": "text/x-python",
   "name": "python",
   "nbconvert_exporter": "python",
   "pygments_lexer": "ipython3",
   "version": "3.8.3"
  }
 },
 "nbformat": 4,
 "nbformat_minor": 4
}
