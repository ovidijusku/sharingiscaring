{
 "cells": [
  {
   "cell_type": "markdown",
   "metadata": {},
   "source": [
    "## Project description:\n",
    "\n",
    "Online shops have exact same items that are sold by multiple people. ML could help in order to group them.\n",
    "\n",
    "In Kaggle competition [Shopee - Price Match Guarantee](https://www.kaggle.com/c/shopee-product-matching/overview) there are two item features provided: image and description.\n",
    "\n",
    "Submission file has to include up to 50 best matches from train dataset for every test item.\n",
    "\n",
    "Evaluation: mean F1\n",
    "\n",
    "-----------\n",
    "\n",
    "#### Planned approach in general\n",
    "\n",
    "1. With pre-trained NLP model extract probabilities of described items\n",
    "2. With pre-trained NN model extract probabilities of shown items\n",
    "3. Build AND gate that include both models threshold"
   ]
  },
  {
   "cell_type": "code",
   "execution_count": 1,
   "metadata": {
    "scrolled": false
   },
   "outputs": [
    {
     "data": {
      "application/javascript": [
       "\n",
       "            setTimeout(function() {\n",
       "                var nbb_cell_id = 1;\n",
       "                var nbb_unformatted_code = \"import numpy as np\\nimport pandas as pd\\nimport seaborn as sns\\n\\nimport torch  # 1.4.0\\nimport torch.nn as nn\\nfrom torch.utils.data import TensorDataset, DataLoader, RandomSampler, SequentialSampler\\nimport torchvision  # 0.5.0\\n\\nimport transformers  # 3.5.1\\nfrom transformers import AutoModel, BertTokenizerFast, AdamW\\n\\nfrom sklearn.preprocessing import LabelEncoder\\nfrom sklearn.metrics import classification_report\\nfrom sklearn.utils.class_weight import compute_class_weight\\nfrom sklearn.model_selection import train_test_split\\n\\nfrom imblearn.over_sampling import RandomOverSampler\\n\\nfrom functools import partial\\n\\nimport time\\n\\nimport io\\nimport os\\n\\nRANDOM = 777\\n\\n%load_ext nb_black\\n\\ndevice = torch.device(\\\"cuda\\\")\";\n",
       "                var nbb_formatted_code = \"import numpy as np\\nimport pandas as pd\\nimport seaborn as sns\\n\\nimport torch  # 1.4.0\\nimport torch.nn as nn\\nfrom torch.utils.data import TensorDataset, DataLoader, RandomSampler, SequentialSampler\\nimport torchvision  # 0.5.0\\n\\nimport transformers  # 3.5.1\\nfrom transformers import AutoModel, BertTokenizerFast, AdamW\\n\\nfrom sklearn.preprocessing import LabelEncoder\\nfrom sklearn.metrics import classification_report\\nfrom sklearn.utils.class_weight import compute_class_weight\\nfrom sklearn.model_selection import train_test_split\\n\\nfrom imblearn.over_sampling import RandomOverSampler\\n\\nfrom functools import partial\\n\\nimport time\\n\\nimport io\\nimport os\\n\\nRANDOM = 777\\n\\n%load_ext nb_black\\n\\ndevice = torch.device(\\\"cuda\\\")\";\n",
       "                var nbb_cells = Jupyter.notebook.get_cells();\n",
       "                for (var i = 0; i < nbb_cells.length; ++i) {\n",
       "                    if (nbb_cells[i].input_prompt_number == nbb_cell_id) {\n",
       "                        if (nbb_cells[i].get_text() == nbb_unformatted_code) {\n",
       "                             nbb_cells[i].set_text(nbb_formatted_code);\n",
       "                        }\n",
       "                        break;\n",
       "                    }\n",
       "                }\n",
       "            }, 500);\n",
       "            "
      ],
      "text/plain": [
       "<IPython.core.display.Javascript object>"
      ]
     },
     "metadata": {},
     "output_type": "display_data"
    }
   ],
   "source": [
    "import numpy as np\n",
    "import pandas as pd\n",
    "import seaborn as sns\n",
    "\n",
    "import torch  # 1.4.0\n",
    "import torch.nn as nn\n",
    "from torch.utils.data import TensorDataset, DataLoader, RandomSampler, SequentialSampler\n",
    "import torchvision  # 0.5.0\n",
    "\n",
    "import transformers  # 3.5.1\n",
    "from transformers import AutoModel, BertTokenizerFast, AdamW\n",
    "\n",
    "from sklearn.preprocessing import LabelEncoder\n",
    "from sklearn.metrics import classification_report\n",
    "from sklearn.utils.class_weight import compute_class_weight\n",
    "from sklearn.model_selection import train_test_split\n",
    "\n",
    "from imblearn.over_sampling import RandomOverSampler\n",
    "\n",
    "from functools import partial\n",
    "\n",
    "import time\n",
    "\n",
    "import io\n",
    "import os\n",
    "\n",
    "RANDOM = 777\n",
    "\n",
    "%load_ext nb_black\n",
    "\n",
    "device = torch.device(\"cuda\")"
   ]
  },
  {
   "cell_type": "code",
   "execution_count": 2,
   "metadata": {},
   "outputs": [
    {
     "data": {
      "application/javascript": [
       "\n",
       "            setTimeout(function() {\n",
       "                var nbb_cell_id = 2;\n",
       "                var nbb_unformatted_code = \"train_df = pd.read_csv(\\\"train.csv\\\")\\ntest_df = pd.read_csv(\\\"test.csv\\\")\";\n",
       "                var nbb_formatted_code = \"train_df = pd.read_csv(\\\"train.csv\\\")\\ntest_df = pd.read_csv(\\\"test.csv\\\")\";\n",
       "                var nbb_cells = Jupyter.notebook.get_cells();\n",
       "                for (var i = 0; i < nbb_cells.length; ++i) {\n",
       "                    if (nbb_cells[i].input_prompt_number == nbb_cell_id) {\n",
       "                        if (nbb_cells[i].get_text() == nbb_unformatted_code) {\n",
       "                             nbb_cells[i].set_text(nbb_formatted_code);\n",
       "                        }\n",
       "                        break;\n",
       "                    }\n",
       "                }\n",
       "            }, 500);\n",
       "            "
      ],
      "text/plain": [
       "<IPython.core.display.Javascript object>"
      ]
     },
     "metadata": {},
     "output_type": "display_data"
    }
   ],
   "source": [
    "train_df = pd.read_csv(\"train.csv\")\n",
    "test_df = pd.read_csv(\"test.csv\")"
   ]
  },
  {
   "cell_type": "markdown",
   "metadata": {},
   "source": [
    "## EDA"
   ]
  },
  {
   "cell_type": "markdown",
   "metadata": {},
   "source": [
    "**General info**"
   ]
  },
  {
   "cell_type": "code",
   "execution_count": 3,
   "metadata": {},
   "outputs": [
    {
     "data": {
      "text/html": [
       "<div>\n",
       "<style scoped>\n",
       "    .dataframe tbody tr th:only-of-type {\n",
       "        vertical-align: middle;\n",
       "    }\n",
       "\n",
       "    .dataframe tbody tr th {\n",
       "        vertical-align: top;\n",
       "    }\n",
       "\n",
       "    .dataframe thead th {\n",
       "        text-align: right;\n",
       "    }\n",
       "</style>\n",
       "<table border=\"1\" class=\"dataframe\">\n",
       "  <thead>\n",
       "    <tr style=\"text-align: right;\">\n",
       "      <th></th>\n",
       "      <th>posting_id</th>\n",
       "      <th>image</th>\n",
       "      <th>image_phash</th>\n",
       "      <th>title</th>\n",
       "      <th>label_group</th>\n",
       "    </tr>\n",
       "  </thead>\n",
       "  <tbody>\n",
       "    <tr>\n",
       "      <th>0</th>\n",
       "      <td>train_129225211</td>\n",
       "      <td>0000a68812bc7e98c42888dfb1c07da0.jpg</td>\n",
       "      <td>94974f937d4c2433</td>\n",
       "      <td>Paper Bag Victoria Secret</td>\n",
       "      <td>249114794</td>\n",
       "    </tr>\n",
       "    <tr>\n",
       "      <th>1</th>\n",
       "      <td>train_3386243561</td>\n",
       "      <td>00039780dfc94d01db8676fe789ecd05.jpg</td>\n",
       "      <td>af3f9460c2838f0f</td>\n",
       "      <td>Double Tape 3M VHB 12 mm x 4,5 m ORIGINAL / DO...</td>\n",
       "      <td>2937985045</td>\n",
       "    </tr>\n",
       "    <tr>\n",
       "      <th>2</th>\n",
       "      <td>train_2288590299</td>\n",
       "      <td>000a190fdd715a2a36faed16e2c65df7.jpg</td>\n",
       "      <td>b94cb00ed3e50f78</td>\n",
       "      <td>Maling TTS Canned Pork Luncheon Meat 397 gr</td>\n",
       "      <td>2395904891</td>\n",
       "    </tr>\n",
       "    <tr>\n",
       "      <th>3</th>\n",
       "      <td>train_2406599165</td>\n",
       "      <td>00117e4fc239b1b641ff08340b429633.jpg</td>\n",
       "      <td>8514fc58eafea283</td>\n",
       "      <td>Daster Batik Lengan pendek - Motif Acak / Camp...</td>\n",
       "      <td>4093212188</td>\n",
       "    </tr>\n",
       "    <tr>\n",
       "      <th>4</th>\n",
       "      <td>train_3369186413</td>\n",
       "      <td>00136d1cf4edede0203f32f05f660588.jpg</td>\n",
       "      <td>a6f319f924ad708c</td>\n",
       "      <td>Nescafe \\xc3\\x89clair Latte 220ml</td>\n",
       "      <td>3648931069</td>\n",
       "    </tr>\n",
       "  </tbody>\n",
       "</table>\n",
       "</div>"
      ],
      "text/plain": [
       "         posting_id                                 image       image_phash  \\\n",
       "0   train_129225211  0000a68812bc7e98c42888dfb1c07da0.jpg  94974f937d4c2433   \n",
       "1  train_3386243561  00039780dfc94d01db8676fe789ecd05.jpg  af3f9460c2838f0f   \n",
       "2  train_2288590299  000a190fdd715a2a36faed16e2c65df7.jpg  b94cb00ed3e50f78   \n",
       "3  train_2406599165  00117e4fc239b1b641ff08340b429633.jpg  8514fc58eafea283   \n",
       "4  train_3369186413  00136d1cf4edede0203f32f05f660588.jpg  a6f319f924ad708c   \n",
       "\n",
       "                                               title  label_group  \n",
       "0                          Paper Bag Victoria Secret    249114794  \n",
       "1  Double Tape 3M VHB 12 mm x 4,5 m ORIGINAL / DO...   2937985045  \n",
       "2        Maling TTS Canned Pork Luncheon Meat 397 gr   2395904891  \n",
       "3  Daster Batik Lengan pendek - Motif Acak / Camp...   4093212188  \n",
       "4                  Nescafe \\xc3\\x89clair Latte 220ml   3648931069  "
      ]
     },
     "execution_count": 3,
     "metadata": {},
     "output_type": "execute_result"
    },
    {
     "data": {
      "application/javascript": [
       "\n",
       "            setTimeout(function() {\n",
       "                var nbb_cell_id = 3;\n",
       "                var nbb_unformatted_code = \"train_df.head()\";\n",
       "                var nbb_formatted_code = \"train_df.head()\";\n",
       "                var nbb_cells = Jupyter.notebook.get_cells();\n",
       "                for (var i = 0; i < nbb_cells.length; ++i) {\n",
       "                    if (nbb_cells[i].input_prompt_number == nbb_cell_id) {\n",
       "                        if (nbb_cells[i].get_text() == nbb_unformatted_code) {\n",
       "                             nbb_cells[i].set_text(nbb_formatted_code);\n",
       "                        }\n",
       "                        break;\n",
       "                    }\n",
       "                }\n",
       "            }, 500);\n",
       "            "
      ],
      "text/plain": [
       "<IPython.core.display.Javascript object>"
      ]
     },
     "metadata": {},
     "output_type": "display_data"
    }
   ],
   "source": [
    "train_df.head()"
   ]
  },
  {
   "cell_type": "code",
   "execution_count": 4,
   "metadata": {},
   "outputs": [
    {
     "data": {
      "text/plain": [
       "(34250, 5)"
      ]
     },
     "execution_count": 4,
     "metadata": {},
     "output_type": "execute_result"
    },
    {
     "data": {
      "application/javascript": [
       "\n",
       "            setTimeout(function() {\n",
       "                var nbb_cell_id = 4;\n",
       "                var nbb_unformatted_code = \"train_df.shape\";\n",
       "                var nbb_formatted_code = \"train_df.shape\";\n",
       "                var nbb_cells = Jupyter.notebook.get_cells();\n",
       "                for (var i = 0; i < nbb_cells.length; ++i) {\n",
       "                    if (nbb_cells[i].input_prompt_number == nbb_cell_id) {\n",
       "                        if (nbb_cells[i].get_text() == nbb_unformatted_code) {\n",
       "                             nbb_cells[i].set_text(nbb_formatted_code);\n",
       "                        }\n",
       "                        break;\n",
       "                    }\n",
       "                }\n",
       "            }, 500);\n",
       "            "
      ],
      "text/plain": [
       "<IPython.core.display.Javascript object>"
      ]
     },
     "metadata": {},
     "output_type": "display_data"
    }
   ],
   "source": [
    "train_df.shape"
   ]
  },
  {
   "cell_type": "code",
   "execution_count": 5,
   "metadata": {
    "scrolled": true
   },
   "outputs": [
    {
     "data": {
      "text/html": [
       "<div>\n",
       "<style scoped>\n",
       "    .dataframe tbody tr th:only-of-type {\n",
       "        vertical-align: middle;\n",
       "    }\n",
       "\n",
       "    .dataframe tbody tr th {\n",
       "        vertical-align: top;\n",
       "    }\n",
       "\n",
       "    .dataframe thead th {\n",
       "        text-align: right;\n",
       "    }\n",
       "</style>\n",
       "<table border=\"1\" class=\"dataframe\">\n",
       "  <thead>\n",
       "    <tr style=\"text-align: right;\">\n",
       "      <th></th>\n",
       "      <th>posting_id</th>\n",
       "      <th>image</th>\n",
       "      <th>image_phash</th>\n",
       "      <th>title</th>\n",
       "    </tr>\n",
       "  </thead>\n",
       "  <tbody>\n",
       "    <tr>\n",
       "      <th>0</th>\n",
       "      <td>test_2255846744</td>\n",
       "      <td>0006c8e5462ae52167402bac1c2e916e.jpg</td>\n",
       "      <td>ecc292392dc7687a</td>\n",
       "      <td>Edufuntoys - CHARACTER PHONE ada lampu dan mus...</td>\n",
       "    </tr>\n",
       "    <tr>\n",
       "      <th>1</th>\n",
       "      <td>test_3588702337</td>\n",
       "      <td>0007585c4d0f932859339129f709bfdc.jpg</td>\n",
       "      <td>e9968f60d2699e2c</td>\n",
       "      <td>(Beli 1 Free Spatula) Masker Komedo | Blackhea...</td>\n",
       "    </tr>\n",
       "    <tr>\n",
       "      <th>2</th>\n",
       "      <td>test_4015706929</td>\n",
       "      <td>0008377d3662e83ef44e1881af38b879.jpg</td>\n",
       "      <td>ba81c17e3581cabe</td>\n",
       "      <td>READY Lemonilo Mie instant sehat kuah dan goreng</td>\n",
       "    </tr>\n",
       "  </tbody>\n",
       "</table>\n",
       "</div>"
      ],
      "text/plain": [
       "        posting_id                                 image       image_phash  \\\n",
       "0  test_2255846744  0006c8e5462ae52167402bac1c2e916e.jpg  ecc292392dc7687a   \n",
       "1  test_3588702337  0007585c4d0f932859339129f709bfdc.jpg  e9968f60d2699e2c   \n",
       "2  test_4015706929  0008377d3662e83ef44e1881af38b879.jpg  ba81c17e3581cabe   \n",
       "\n",
       "                                               title  \n",
       "0  Edufuntoys - CHARACTER PHONE ada lampu dan mus...  \n",
       "1  (Beli 1 Free Spatula) Masker Komedo | Blackhea...  \n",
       "2   READY Lemonilo Mie instant sehat kuah dan goreng  "
      ]
     },
     "execution_count": 5,
     "metadata": {},
     "output_type": "execute_result"
    },
    {
     "data": {
      "application/javascript": [
       "\n",
       "            setTimeout(function() {\n",
       "                var nbb_cell_id = 5;\n",
       "                var nbb_unformatted_code = \"test_df.head()\";\n",
       "                var nbb_formatted_code = \"test_df.head()\";\n",
       "                var nbb_cells = Jupyter.notebook.get_cells();\n",
       "                for (var i = 0; i < nbb_cells.length; ++i) {\n",
       "                    if (nbb_cells[i].input_prompt_number == nbb_cell_id) {\n",
       "                        if (nbb_cells[i].get_text() == nbb_unformatted_code) {\n",
       "                             nbb_cells[i].set_text(nbb_formatted_code);\n",
       "                        }\n",
       "                        break;\n",
       "                    }\n",
       "                }\n",
       "            }, 500);\n",
       "            "
      ],
      "text/plain": [
       "<IPython.core.display.Javascript object>"
      ]
     },
     "metadata": {},
     "output_type": "display_data"
    }
   ],
   "source": [
    "test_df.head()"
   ]
  },
  {
   "cell_type": "markdown",
   "metadata": {},
   "source": [
    "**Label distribution**"
   ]
  },
  {
   "cell_type": "code",
   "execution_count": 6,
   "metadata": {},
   "outputs": [
    {
     "data": {
      "text/plain": [
       "11014"
      ]
     },
     "execution_count": 6,
     "metadata": {},
     "output_type": "execute_result"
    },
    {
     "data": {
      "application/javascript": [
       "\n",
       "            setTimeout(function() {\n",
       "                var nbb_cell_id = 6;\n",
       "                var nbb_unformatted_code = \"train_df.label_group.nunique()\";\n",
       "                var nbb_formatted_code = \"train_df.label_group.nunique()\";\n",
       "                var nbb_cells = Jupyter.notebook.get_cells();\n",
       "                for (var i = 0; i < nbb_cells.length; ++i) {\n",
       "                    if (nbb_cells[i].input_prompt_number == nbb_cell_id) {\n",
       "                        if (nbb_cells[i].get_text() == nbb_unformatted_code) {\n",
       "                             nbb_cells[i].set_text(nbb_formatted_code);\n",
       "                        }\n",
       "                        break;\n",
       "                    }\n",
       "                }\n",
       "            }, 500);\n",
       "            "
      ],
      "text/plain": [
       "<IPython.core.display.Javascript object>"
      ]
     },
     "metadata": {},
     "output_type": "display_data"
    }
   ],
   "source": [
    "train_df.label_group.nunique()"
   ]
  },
  {
   "cell_type": "code",
   "execution_count": 7,
   "metadata": {},
   "outputs": [
    {
     "data": {
      "text/plain": [
       "<AxesSubplot:xlabel='label_group'>"
      ]
     },
     "execution_count": 7,
     "metadata": {},
     "output_type": "execute_result"
    },
    {
     "data": {
      "image/png": "[encoded data removed]",
      "text/plain": [
       "<Figure size 432x288 with 1 Axes>"
      ]
     },
     "metadata": {
      "needs_background": "light"
     },
     "output_type": "display_data"
    },
    {
     "data": {
      "application/javascript": [
       "\n",
       "            setTimeout(function() {\n",
       "                var nbb_cell_id = 7;\n",
       "                var nbb_unformatted_code = \"val_counts = train_df.label_group.value_counts()\\nvalue_df = pd.DataFrame(val_counts)\\nvalue_df[\\\"count\\\"] = 1\\nvalue_df.groupby(\\\"label_group\\\").sum().plot(kind=\\\"bar\\\")\";\n",
       "                var nbb_formatted_code = \"val_counts = train_df.label_group.value_counts()\\nvalue_df = pd.DataFrame(val_counts)\\nvalue_df[\\\"count\\\"] = 1\\nvalue_df.groupby(\\\"label_group\\\").sum().plot(kind=\\\"bar\\\")\";\n",
       "                var nbb_cells = Jupyter.notebook.get_cells();\n",
       "                for (var i = 0; i < nbb_cells.length; ++i) {\n",
       "                    if (nbb_cells[i].input_prompt_number == nbb_cell_id) {\n",
       "                        if (nbb_cells[i].get_text() == nbb_unformatted_code) {\n",
       "                             nbb_cells[i].set_text(nbb_formatted_code);\n",
       "                        }\n",
       "                        break;\n",
       "                    }\n",
       "                }\n",
       "            }, 500);\n",
       "            "
      ],
      "text/plain": [
       "<IPython.core.display.Javascript object>"
      ]
     },
     "metadata": {},
     "output_type": "display_data"
    }
   ],
   "source": [
    "val_counts = train_df.label_group.value_counts()\n",
    "value_df = pd.DataFrame(val_counts)\n",
    "value_df[\"count\"] = 1\n",
    "value_df.groupby(\"label_group\").sum().plot(kind=\"bar\")"
   ]
  },
  {
   "cell_type": "markdown",
   "metadata": {},
   "source": [
    "The vast majority of products have only 2 representatives of them in train dataset."
   ]
  },
  {
   "cell_type": "markdown",
   "metadata": {},
   "source": [
    "## NLP approach"
   ]
  },
  {
   "cell_type": "markdown",
   "metadata": {},
   "source": [
    "**Preprocessing**"
   ]
  },
  {
   "cell_type": "code",
   "execution_count": 8,
   "metadata": {},
   "outputs": [
    {
     "data": {
      "application/javascript": [
       "\n",
       "            setTimeout(function() {\n",
       "                var nbb_cell_id = 8;\n",
       "                var nbb_unformatted_code = \"# extracting text and labels for train and test datasets\\ntrain_text = train_df.title.values\\ntest_text = test_df.title.values\\ntrain_labels = train_df.label_group.values\";\n",
       "                var nbb_formatted_code = \"# extracting text and labels for train and test datasets\\ntrain_text = train_df.title.values\\ntest_text = test_df.title.values\\ntrain_labels = train_df.label_group.values\";\n",
       "                var nbb_cells = Jupyter.notebook.get_cells();\n",
       "                for (var i = 0; i < nbb_cells.length; ++i) {\n",
       "                    if (nbb_cells[i].input_prompt_number == nbb_cell_id) {\n",
       "                        if (nbb_cells[i].get_text() == nbb_unformatted_code) {\n",
       "                             nbb_cells[i].set_text(nbb_formatted_code);\n",
       "                        }\n",
       "                        break;\n",
       "                    }\n",
       "                }\n",
       "            }, 500);\n",
       "            "
      ],
      "text/plain": [
       "<IPython.core.display.Javascript object>"
      ]
     },
     "metadata": {},
     "output_type": "display_data"
    }
   ],
   "source": [
    "# extracting text and labels for train and test datasets\n",
    "train_text = train_df.title.values\n",
    "test_text = test_df.title.values\n",
    "train_labels = train_df.label_group.values"
   ]
  },
  {
   "cell_type": "code",
   "execution_count": 9,
   "metadata": {},
   "outputs": [
    {
     "data": {
      "application/javascript": [
       "\n",
       "            setTimeout(function() {\n",
       "                var nbb_cell_id = 9;\n",
       "                var nbb_unformatted_code = \"# label encoding\\nle = LabelEncoder()\\ntrain_labels = le.fit_transform(train_labels)\";\n",
       "                var nbb_formatted_code = \"# label encoding\\nle = LabelEncoder()\\ntrain_labels = le.fit_transform(train_labels)\";\n",
       "                var nbb_cells = Jupyter.notebook.get_cells();\n",
       "                for (var i = 0; i < nbb_cells.length; ++i) {\n",
       "                    if (nbb_cells[i].input_prompt_number == nbb_cell_id) {\n",
       "                        if (nbb_cells[i].get_text() == nbb_unformatted_code) {\n",
       "                             nbb_cells[i].set_text(nbb_formatted_code);\n",
       "                        }\n",
       "                        break;\n",
       "                    }\n",
       "                }\n",
       "            }, 500);\n",
       "            "
      ],
      "text/plain": [
       "<IPython.core.display.Javascript object>"
      ]
     },
     "metadata": {},
     "output_type": "display_data"
    }
   ],
   "source": [
    "# label encoding\n",
    "le = LabelEncoder()\n",
    "train_labels = le.fit_transform(train_labels)"
   ]
  },
  {
   "cell_type": "code",
   "execution_count": 10,
   "metadata": {},
   "outputs": [
    {
     "data": {
      "application/javascript": [
       "\n",
       "            setTimeout(function() {\n",
       "                var nbb_cell_id = 10;\n",
       "                var nbb_unformatted_code = \"# balancing dataset\\noversample = RandomOverSampler(sampling_strategy=\\\"not majority\\\")\\ntrain_text, train_labels = oversample.fit_resample(\\n    train_text.reshape(-1, 1), train_labels\\n)\";\n",
       "                var nbb_formatted_code = \"# balancing dataset\\noversample = RandomOverSampler(sampling_strategy=\\\"not majority\\\")\\ntrain_text, train_labels = oversample.fit_resample(\\n    train_text.reshape(-1, 1), train_labels\\n)\";\n",
       "                var nbb_cells = Jupyter.notebook.get_cells();\n",
       "                for (var i = 0; i < nbb_cells.length; ++i) {\n",
       "                    if (nbb_cells[i].input_prompt_number == nbb_cell_id) {\n",
       "                        if (nbb_cells[i].get_text() == nbb_unformatted_code) {\n",
       "                             nbb_cells[i].set_text(nbb_formatted_code);\n",
       "                        }\n",
       "                        break;\n",
       "                    }\n",
       "                }\n",
       "            }, 500);\n",
       "            "
      ],
      "text/plain": [
       "<IPython.core.display.Javascript object>"
      ]
     },
     "metadata": {},
     "output_type": "display_data"
    }
   ],
   "source": [
    "# balancing dataset\n",
    "oversample = RandomOverSampler(sampling_strategy=\"not majority\")\n",
    "train_text, train_labels = oversample.fit_resample(\n",
    "    train_text.reshape(-1, 1), train_labels\n",
    ")"
   ]
  },
  {
   "cell_type": "code",
   "execution_count": 11,
   "metadata": {},
   "outputs": [
    {
     "data": {
      "application/javascript": [
       "\n",
       "            setTimeout(function() {\n",
       "                var nbb_cell_id = 11;\n",
       "                var nbb_unformatted_code = \"train_text = train_text.reshape(-1)\";\n",
       "                var nbb_formatted_code = \"train_text = train_text.reshape(-1)\";\n",
       "                var nbb_cells = Jupyter.notebook.get_cells();\n",
       "                for (var i = 0; i < nbb_cells.length; ++i) {\n",
       "                    if (nbb_cells[i].input_prompt_number == nbb_cell_id) {\n",
       "                        if (nbb_cells[i].get_text() == nbb_unformatted_code) {\n",
       "                             nbb_cells[i].set_text(nbb_formatted_code);\n",
       "                        }\n",
       "                        break;\n",
       "                    }\n",
       "                }\n",
       "            }, 500);\n",
       "            "
      ],
      "text/plain": [
       "<IPython.core.display.Javascript object>"
      ]
     },
     "metadata": {},
     "output_type": "display_data"
    }
   ],
   "source": [
    "train_text = train_text.reshape(-1)"
   ]
  },
  {
   "cell_type": "code",
   "execution_count": 12,
   "metadata": {},
   "outputs": [
    {
     "data": {
      "application/javascript": [
       "\n",
       "            setTimeout(function() {\n",
       "                var nbb_cell_id = 12;\n",
       "                var nbb_unformatted_code = \"train_text, val_text, train_labels, val_labels = train_test_split(\\n    train_text, train_labels, random_state=RANDOM, test_size=0.5\\n)\";\n",
       "                var nbb_formatted_code = \"train_text, val_text, train_labels, val_labels = train_test_split(\\n    train_text, train_labels, random_state=RANDOM, test_size=0.5\\n)\";\n",
       "                var nbb_cells = Jupyter.notebook.get_cells();\n",
       "                for (var i = 0; i < nbb_cells.length; ++i) {\n",
       "                    if (nbb_cells[i].input_prompt_number == nbb_cell_id) {\n",
       "                        if (nbb_cells[i].get_text() == nbb_unformatted_code) {\n",
       "                             nbb_cells[i].set_text(nbb_formatted_code);\n",
       "                        }\n",
       "                        break;\n",
       "                    }\n",
       "                }\n",
       "            }, 500);\n",
       "            "
      ],
      "text/plain": [
       "<IPython.core.display.Javascript object>"
      ]
     },
     "metadata": {},
     "output_type": "display_data"
    }
   ],
   "source": [
    "train_text, val_text, train_labels, val_labels = train_test_split(\n",
    "    train_text, train_labels, random_state=RANDOM, test_size=0.5\n",
    ")"
   ]
  },
  {
   "cell_type": "markdown",
   "metadata": {},
   "source": [
    "**Modeling**"
   ]
  },
  {
   "cell_type": "code",
   "execution_count": 13,
   "metadata": {},
   "outputs": [
    {
     "data": {
      "application/javascript": [
       "\n",
       "            setTimeout(function() {\n",
       "                var nbb_cell_id = 13;\n",
       "                var nbb_unformatted_code = \"# import BERT-base pretrained model\\nbert = AutoModel.from_pretrained(\\\"bert-base-uncased\\\")\\n\\n# Load the BERT tokenizer\\ntokenizer = BertTokenizerFast.from_pretrained(\\\"bert-base-uncased\\\")\";\n",
       "                var nbb_formatted_code = \"# import BERT-base pretrained model\\nbert = AutoModel.from_pretrained(\\\"bert-base-uncased\\\")\\n\\n# Load the BERT tokenizer\\ntokenizer = BertTokenizerFast.from_pretrained(\\\"bert-base-uncased\\\")\";\n",
       "                var nbb_cells = Jupyter.notebook.get_cells();\n",
       "                for (var i = 0; i < nbb_cells.length; ++i) {\n",
       "                    if (nbb_cells[i].input_prompt_number == nbb_cell_id) {\n",
       "                        if (nbb_cells[i].get_text() == nbb_unformatted_code) {\n",
       "                             nbb_cells[i].set_text(nbb_formatted_code);\n",
       "                        }\n",
       "                        break;\n",
       "                    }\n",
       "                }\n",
       "            }, 500);\n",
       "            "
      ],
      "text/plain": [
       "<IPython.core.display.Javascript object>"
      ]
     },
     "metadata": {},
     "output_type": "display_data"
    }
   ],
   "source": [
    "# import BERT-base pretrained model\n",
    "bert = AutoModel.from_pretrained(\"bert-base-uncased\")\n",
    "\n",
    "# Load the BERT tokenizer\n",
    "tokenizer = BertTokenizerFast.from_pretrained(\"bert-base-uncased\")"
   ]
  },
  {
   "cell_type": "code",
   "execution_count": 14,
   "metadata": {},
   "outputs": [
    {
     "data": {
      "text/plain": [
       "<AxesSubplot:>"
      ]
     },
     "execution_count": 14,
     "metadata": {},
     "output_type": "execute_result"
    },
    {
     "data": {
      "image/png": "[encoded data removed]",
      "text/plain": [
       "<Figure size 432x288 with 1 Axes>"
      ]
     },
     "metadata": {
      "needs_background": "light"
     },
     "output_type": "display_data"
    },
    {
     "data": {
      "application/javascript": [
       "\n",
       "            setTimeout(function() {\n",
       "                var nbb_cell_id = 14;\n",
       "                var nbb_unformatted_code = \"# get length of all the messages in the train set\\nseq_len = [len(i.split()) for i in train_text]\\n\\npd.Series(seq_len).hist(bins=30)\";\n",
       "                var nbb_formatted_code = \"# get length of all the messages in the train set\\nseq_len = [len(i.split()) for i in train_text]\\n\\npd.Series(seq_len).hist(bins=30)\";\n",
       "                var nbb_cells = Jupyter.notebook.get_cells();\n",
       "                for (var i = 0; i < nbb_cells.length; ++i) {\n",
       "                    if (nbb_cells[i].input_prompt_number == nbb_cell_id) {\n",
       "                        if (nbb_cells[i].get_text() == nbb_unformatted_code) {\n",
       "                             nbb_cells[i].set_text(nbb_formatted_code);\n",
       "                        }\n",
       "                        break;\n",
       "                    }\n",
       "                }\n",
       "            }, 500);\n",
       "            "
      ],
      "text/plain": [
       "<IPython.core.display.Javascript object>"
      ]
     },
     "metadata": {},
     "output_type": "display_data"
    }
   ],
   "source": [
    "# get length of all the messages in the train set\n",
    "seq_len = [len(i.split()) for i in train_text]\n",
    "\n",
    "pd.Series(seq_len).hist(bins=30)"
   ]
  },
  {
   "cell_type": "markdown",
   "metadata": {},
   "source": [
    "**20** is the optimal number for padding lenght, while majority of sentences fit into it."
   ]
  },
  {
   "cell_type": "code",
   "execution_count": 15,
   "metadata": {},
   "outputs": [
    {
     "name": "stderr",
     "output_type": "stream",
     "text": [
      "C:\\Users\\ovidi\\anaconda3\\envs\\berta\\lib\\site-packages\\transformers\\tokenization_utils_base.py:2016: FutureWarning: The `pad_to_max_length` argument is deprecated and will be removed in a future version, use `padding=True` or `padding='longest'` to pad to the longest sequence in the batch, or use `padding='max_length'` to pad to a max length. In this case, you can give a specific length with `max_length` (e.g. `max_length=45`) or leave max_length to None to pad to the maximal input size of the model (e.g. 512 for Bert).\n",
      "  warnings.warn(\n"
     ]
    },
    {
     "data": {
      "application/javascript": [
       "\n",
       "            setTimeout(function() {\n",
       "                var nbb_cell_id = 15;\n",
       "                var nbb_unformatted_code = \"# tokenize and encode sequences in the training set\\ntokens_train = tokenizer.batch_encode_plus(\\n    train_text.tolist(), max_length=20, pad_to_max_length=True, truncation=True\\n)\\n\\n# tokenize and encode sequences in the validation set\\ntokens_val = tokenizer.batch_encode_plus(\\n    val_text.tolist(), max_length=20, pad_to_max_length=True, truncation=True\\n)\\n\\n# tokenize and encode sequences in the test set\\ntokens_test = tokenizer.batch_encode_plus(\\n    test_text.tolist(), max_length=20, pad_to_max_length=True, truncation=True\\n)\";\n",
       "                var nbb_formatted_code = \"# tokenize and encode sequences in the training set\\ntokens_train = tokenizer.batch_encode_plus(\\n    train_text.tolist(), max_length=20, pad_to_max_length=True, truncation=True\\n)\\n\\n# tokenize and encode sequences in the validation set\\ntokens_val = tokenizer.batch_encode_plus(\\n    val_text.tolist(), max_length=20, pad_to_max_length=True, truncation=True\\n)\\n\\n# tokenize and encode sequences in the test set\\ntokens_test = tokenizer.batch_encode_plus(\\n    test_text.tolist(), max_length=20, pad_to_max_length=True, truncation=True\\n)\";\n",
       "                var nbb_cells = Jupyter.notebook.get_cells();\n",
       "                for (var i = 0; i < nbb_cells.length; ++i) {\n",
       "                    if (nbb_cells[i].input_prompt_number == nbb_cell_id) {\n",
       "                        if (nbb_cells[i].get_text() == nbb_unformatted_code) {\n",
       "                             nbb_cells[i].set_text(nbb_formatted_code);\n",
       "                        }\n",
       "                        break;\n",
       "                    }\n",
       "                }\n",
       "            }, 500);\n",
       "            "
      ],
      "text/plain": [
       "<IPython.core.display.Javascript object>"
      ]
     },
     "metadata": {},
     "output_type": "display_data"
    }
   ],
   "source": [
    "# tokenize and encode sequences in the training set\n",
    "tokens_train = tokenizer.batch_encode_plus(\n",
    "    train_text.tolist(), max_length=20, pad_to_max_length=True, truncation=True\n",
    ")\n",
    "\n",
    "# tokenize and encode sequences in the validation set\n",
    "tokens_val = tokenizer.batch_encode_plus(\n",
    "    val_text.tolist(), max_length=20, pad_to_max_length=True, truncation=True\n",
    ")\n",
    "\n",
    "# tokenize and encode sequences in the test set\n",
    "tokens_test = tokenizer.batch_encode_plus(\n",
    "    test_text.tolist(), max_length=20, pad_to_max_length=True, truncation=True\n",
    ")"
   ]
  },
  {
   "cell_type": "code",
   "execution_count": 16,
   "metadata": {},
   "outputs": [
    {
     "data": {
      "application/javascript": [
       "\n",
       "            setTimeout(function() {\n",
       "                var nbb_cell_id = 16;\n",
       "                var nbb_unformatted_code = \"## convert lists to tensors\\n\\ntrain_seq = torch.tensor(tokens_train[\\\"input_ids\\\"])\\ntrain_mask = torch.tensor(tokens_train[\\\"attention_mask\\\"])\\ntrain_y = torch.tensor(train_labels.tolist())\\n\\nval_seq = torch.tensor(tokens_val[\\\"input_ids\\\"])\\nval_mask = torch.tensor(tokens_val[\\\"attention_mask\\\"])\\nval_y = torch.tensor(val_labels.tolist())\\n\\ntest_seq = torch.tensor(tokens_test[\\\"input_ids\\\"])\\ntest_mask = torch.tensor(tokens_test[\\\"attention_mask\\\"])\";\n",
       "                var nbb_formatted_code = \"## convert lists to tensors\\n\\ntrain_seq = torch.tensor(tokens_train[\\\"input_ids\\\"])\\ntrain_mask = torch.tensor(tokens_train[\\\"attention_mask\\\"])\\ntrain_y = torch.tensor(train_labels.tolist())\\n\\nval_seq = torch.tensor(tokens_val[\\\"input_ids\\\"])\\nval_mask = torch.tensor(tokens_val[\\\"attention_mask\\\"])\\nval_y = torch.tensor(val_labels.tolist())\\n\\ntest_seq = torch.tensor(tokens_test[\\\"input_ids\\\"])\\ntest_mask = torch.tensor(tokens_test[\\\"attention_mask\\\"])\";\n",
       "                var nbb_cells = Jupyter.notebook.get_cells();\n",
       "                for (var i = 0; i < nbb_cells.length; ++i) {\n",
       "                    if (nbb_cells[i].input_prompt_number == nbb_cell_id) {\n",
       "                        if (nbb_cells[i].get_text() == nbb_unformatted_code) {\n",
       "                             nbb_cells[i].set_text(nbb_formatted_code);\n",
       "                        }\n",
       "                        break;\n",
       "                    }\n",
       "                }\n",
       "            }, 500);\n",
       "            "
      ],
      "text/plain": [
       "<IPython.core.display.Javascript object>"
      ]
     },
     "metadata": {},
     "output_type": "display_data"
    }
   ],
   "source": [
    "## convert lists to tensors\n",
    "\n",
    "train_seq = torch.tensor(tokens_train[\"input_ids\"])\n",
    "train_mask = torch.tensor(tokens_train[\"attention_mask\"])\n",
    "train_y = torch.tensor(train_labels.tolist())\n",
    "\n",
    "val_seq = torch.tensor(tokens_val[\"input_ids\"])\n",
    "val_mask = torch.tensor(tokens_val[\"attention_mask\"])\n",
    "val_y = torch.tensor(val_labels.tolist())\n",
    "\n",
    "test_seq = torch.tensor(tokens_test[\"input_ids\"])\n",
    "test_mask = torch.tensor(tokens_test[\"attention_mask\"])"
   ]
  },
  {
   "cell_type": "code",
   "execution_count": 17,
   "metadata": {},
   "outputs": [
    {
     "data": {
      "application/javascript": [
       "\n",
       "            setTimeout(function() {\n",
       "                var nbb_cell_id = 17;\n",
       "                var nbb_unformatted_code = \"# define a batch size\\nbatch_size = 32\\n\\n# wrap tensors\\ntrain_data = TensorDataset(train_seq, train_mask, train_y)\\n\\n# sampler for sampling the data during training\\ntrain_sampler = RandomSampler(train_data)\\n\\n# dataLoader for train set\\ntrain_dataloader = DataLoader(train_data, sampler=train_sampler, batch_size=batch_size)\\n\\n# wrap tensors\\nval_data = TensorDataset(val_seq, val_mask, val_y)\\n\\n# sampler for sampling the data during training\\nval_sampler = SequentialSampler(val_data)\\n\\n# dataLoader for validation set\\nval_dataloader = DataLoader(val_data, sampler=val_sampler, batch_size=batch_size)\";\n",
       "                var nbb_formatted_code = \"# define a batch size\\nbatch_size = 32\\n\\n# wrap tensors\\ntrain_data = TensorDataset(train_seq, train_mask, train_y)\\n\\n# sampler for sampling the data during training\\ntrain_sampler = RandomSampler(train_data)\\n\\n# dataLoader for train set\\ntrain_dataloader = DataLoader(train_data, sampler=train_sampler, batch_size=batch_size)\\n\\n# wrap tensors\\nval_data = TensorDataset(val_seq, val_mask, val_y)\\n\\n# sampler for sampling the data during training\\nval_sampler = SequentialSampler(val_data)\\n\\n# dataLoader for validation set\\nval_dataloader = DataLoader(val_data, sampler=val_sampler, batch_size=batch_size)\";\n",
       "                var nbb_cells = Jupyter.notebook.get_cells();\n",
       "                for (var i = 0; i < nbb_cells.length; ++i) {\n",
       "                    if (nbb_cells[i].input_prompt_number == nbb_cell_id) {\n",
       "                        if (nbb_cells[i].get_text() == nbb_unformatted_code) {\n",
       "                             nbb_cells[i].set_text(nbb_formatted_code);\n",
       "                        }\n",
       "                        break;\n",
       "                    }\n",
       "                }\n",
       "            }, 500);\n",
       "            "
      ],
      "text/plain": [
       "<IPython.core.display.Javascript object>"
      ]
     },
     "metadata": {},
     "output_type": "display_data"
    }
   ],
   "source": [
    "# define a batch size\n",
    "batch_size = 32\n",
    "\n",
    "# wrap tensors\n",
    "train_data = TensorDataset(train_seq, train_mask, train_y)\n",
    "\n",
    "# sampler for sampling the data during training\n",
    "train_sampler = RandomSampler(train_data)\n",
    "\n",
    "# dataLoader for train set\n",
    "train_dataloader = DataLoader(train_data, sampler=train_sampler, batch_size=batch_size)\n",
    "\n",
    "# wrap tensors\n",
    "val_data = TensorDataset(val_seq, val_mask, val_y)\n",
    "\n",
    "# sampler for sampling the data during training\n",
    "val_sampler = SequentialSampler(val_data)\n",
    "\n",
    "# dataLoader for validation set\n",
    "val_dataloader = DataLoader(val_data, sampler=val_sampler, batch_size=batch_size)"
   ]
  },
  {
   "cell_type": "code",
   "execution_count": 18,
   "metadata": {},
   "outputs": [
    {
     "data": {
      "application/javascript": [
       "\n",
       "            setTimeout(function() {\n",
       "                var nbb_cell_id = 18;\n",
       "                var nbb_unformatted_code = \"# freeze all the parameters\\nfor param in bert.parameters():\\n    param.requires_grad = False\";\n",
       "                var nbb_formatted_code = \"# freeze all the parameters\\nfor param in bert.parameters():\\n    param.requires_grad = False\";\n",
       "                var nbb_cells = Jupyter.notebook.get_cells();\n",
       "                for (var i = 0; i < nbb_cells.length; ++i) {\n",
       "                    if (nbb_cells[i].input_prompt_number == nbb_cell_id) {\n",
       "                        if (nbb_cells[i].get_text() == nbb_unformatted_code) {\n",
       "                             nbb_cells[i].set_text(nbb_formatted_code);\n",
       "                        }\n",
       "                        break;\n",
       "                    }\n",
       "                }\n",
       "            }, 500);\n",
       "            "
      ],
      "text/plain": [
       "<IPython.core.display.Javascript object>"
      ]
     },
     "metadata": {},
     "output_type": "display_data"
    }
   ],
   "source": [
    "# freeze all the parameters\n",
    "for param in bert.parameters():\n",
    "    param.requires_grad = False"
   ]
  },
  {
   "cell_type": "code",
   "execution_count": 19,
   "metadata": {},
   "outputs": [
    {
     "data": {
      "application/javascript": [
       "\n",
       "            setTimeout(function() {\n",
       "                var nbb_cell_id = 19;\n",
       "                var nbb_unformatted_code = \"class BERT_Arch(nn.Module):\\n    def __init__(self, bert):\\n\\n        super(BERT_Arch, self).__init__()\\n\\n        self.bert = bert\\n\\n        # relu activation function\\n        self.relu = nn.ReLU()\\n\\n        # dense layer 1\\n        self.fc1 = nn.Linear(768, train_df.label_group.nunique())\\n\\n        # softmax activation function\\n        self.softmax = nn.LogSoftmax(dim=1)\\n\\n    # define the forward pass\\n    def forward(self, sent_id, mask):\\n\\n        # pass the inputs to the model\\n        _, cls_hs = self.bert(sent_id, attention_mask=mask)\\n\\n        x = self.fc1(cls_hs)\\n\\n        x = self.relu(x)\\n\\n        # apply softmax activation\\n        x = self.softmax(x)\\n\\n        return x\";\n",
       "                var nbb_formatted_code = \"class BERT_Arch(nn.Module):\\n    def __init__(self, bert):\\n\\n        super(BERT_Arch, self).__init__()\\n\\n        self.bert = bert\\n\\n        # relu activation function\\n        self.relu = nn.ReLU()\\n\\n        # dense layer 1\\n        self.fc1 = nn.Linear(768, train_df.label_group.nunique())\\n\\n        # softmax activation function\\n        self.softmax = nn.LogSoftmax(dim=1)\\n\\n    # define the forward pass\\n    def forward(self, sent_id, mask):\\n\\n        # pass the inputs to the model\\n        _, cls_hs = self.bert(sent_id, attention_mask=mask)\\n\\n        x = self.fc1(cls_hs)\\n\\n        x = self.relu(x)\\n\\n        # apply softmax activation\\n        x = self.softmax(x)\\n\\n        return x\";\n",
       "                var nbb_cells = Jupyter.notebook.get_cells();\n",
       "                for (var i = 0; i < nbb_cells.length; ++i) {\n",
       "                    if (nbb_cells[i].input_prompt_number == nbb_cell_id) {\n",
       "                        if (nbb_cells[i].get_text() == nbb_unformatted_code) {\n",
       "                             nbb_cells[i].set_text(nbb_formatted_code);\n",
       "                        }\n",
       "                        break;\n",
       "                    }\n",
       "                }\n",
       "            }, 500);\n",
       "            "
      ],
      "text/plain": [
       "<IPython.core.display.Javascript object>"
      ]
     },
     "metadata": {},
     "output_type": "display_data"
    }
   ],
   "source": [
    "class BERT_Arch(nn.Module):\n",
    "    def __init__(self, bert):\n",
    "\n",
    "        super(BERT_Arch, self).__init__()\n",
    "\n",
    "        self.bert = bert\n",
    "\n",
    "        # relu activation function\n",
    "        self.relu = nn.ReLU()\n",
    "\n",
    "        # dense layer 1\n",
    "        self.fc1 = nn.Linear(768, train_df.label_group.nunique())\n",
    "\n",
    "        # softmax activation function\n",
    "        self.softmax = nn.LogSoftmax(dim=1)\n",
    "\n",
    "    # define the forward pass\n",
    "    def forward(self, sent_id, mask):\n",
    "\n",
    "        # pass the inputs to the model\n",
    "        _, cls_hs = self.bert(sent_id, attention_mask=mask)\n",
    "\n",
    "        x = self.fc1(cls_hs)\n",
    "\n",
    "        x = self.relu(x)\n",
    "\n",
    "        # apply softmax activation\n",
    "        x = self.softmax(x)\n",
    "\n",
    "        return x"
   ]
  },
  {
   "cell_type": "code",
   "execution_count": 20,
   "metadata": {},
   "outputs": [
    {
     "data": {
      "application/javascript": [
       "\n",
       "            setTimeout(function() {\n",
       "                var nbb_cell_id = 20;\n",
       "                var nbb_unformatted_code = \"# pass the pre-trained BERT to our define architecture\\nmodel = BERT_Arch(bert)\\n\\n# push the model to GPU\\nmodel = model.to(device)\";\n",
       "                var nbb_formatted_code = \"# pass the pre-trained BERT to our define architecture\\nmodel = BERT_Arch(bert)\\n\\n# push the model to GPU\\nmodel = model.to(device)\";\n",
       "                var nbb_cells = Jupyter.notebook.get_cells();\n",
       "                for (var i = 0; i < nbb_cells.length; ++i) {\n",
       "                    if (nbb_cells[i].input_prompt_number == nbb_cell_id) {\n",
       "                        if (nbb_cells[i].get_text() == nbb_unformatted_code) {\n",
       "                             nbb_cells[i].set_text(nbb_formatted_code);\n",
       "                        }\n",
       "                        break;\n",
       "                    }\n",
       "                }\n",
       "            }, 500);\n",
       "            "
      ],
      "text/plain": [
       "<IPython.core.display.Javascript object>"
      ]
     },
     "metadata": {},
     "output_type": "display_data"
    }
   ],
   "source": [
    "# pass the pre-trained BERT to our define architecture\n",
    "model = BERT_Arch(bert)\n",
    "\n",
    "# push the model to GPU\n",
    "model = model.to(device)"
   ]
  },
  {
   "cell_type": "code",
   "execution_count": 21,
   "metadata": {},
   "outputs": [
    {
     "data": {
      "application/javascript": [
       "\n",
       "            setTimeout(function() {\n",
       "                var nbb_cell_id = 21;\n",
       "                var nbb_unformatted_code = \"# define the optimizer\\noptimizer = AdamW(model.parameters(), lr=1e-3)\";\n",
       "                var nbb_formatted_code = \"# define the optimizer\\noptimizer = AdamW(model.parameters(), lr=1e-3)\";\n",
       "                var nbb_cells = Jupyter.notebook.get_cells();\n",
       "                for (var i = 0; i < nbb_cells.length; ++i) {\n",
       "                    if (nbb_cells[i].input_prompt_number == nbb_cell_id) {\n",
       "                        if (nbb_cells[i].get_text() == nbb_unformatted_code) {\n",
       "                             nbb_cells[i].set_text(nbb_formatted_code);\n",
       "                        }\n",
       "                        break;\n",
       "                    }\n",
       "                }\n",
       "            }, 500);\n",
       "            "
      ],
      "text/plain": [
       "<IPython.core.display.Javascript object>"
      ]
     },
     "metadata": {},
     "output_type": "display_data"
    }
   ],
   "source": [
    "# define the optimizer\n",
    "optimizer = AdamW(model.parameters(), lr=1e-3)"
   ]
  },
  {
   "cell_type": "code",
   "execution_count": 22,
   "metadata": {},
   "outputs": [
    {
     "data": {
      "application/javascript": [
       "\n",
       "            setTimeout(function() {\n",
       "                var nbb_cell_id = 22;\n",
       "                var nbb_unformatted_code = \"# defining loss metric\\ncross_entropy = nn.CrossEntropyLoss()\";\n",
       "                var nbb_formatted_code = \"# defining loss metric\\ncross_entropy = nn.CrossEntropyLoss()\";\n",
       "                var nbb_cells = Jupyter.notebook.get_cells();\n",
       "                for (var i = 0; i < nbb_cells.length; ++i) {\n",
       "                    if (nbb_cells[i].input_prompt_number == nbb_cell_id) {\n",
       "                        if (nbb_cells[i].get_text() == nbb_unformatted_code) {\n",
       "                             nbb_cells[i].set_text(nbb_formatted_code);\n",
       "                        }\n",
       "                        break;\n",
       "                    }\n",
       "                }\n",
       "            }, 500);\n",
       "            "
      ],
      "text/plain": [
       "<IPython.core.display.Javascript object>"
      ]
     },
     "metadata": {},
     "output_type": "display_data"
    }
   ],
   "source": [
    "# defining loss metric\n",
    "cross_entropy = nn.CrossEntropyLoss()"
   ]
  },
  {
   "cell_type": "code",
   "execution_count": 23,
   "metadata": {},
   "outputs": [
    {
     "data": {
      "application/javascript": [
       "\n",
       "            setTimeout(function() {\n",
       "                var nbb_cell_id = 23;\n",
       "                var nbb_unformatted_code = \"# function to train the model\\ndef train():\\n\\n    model.train()\\n\\n    total_loss, total_accuracy = 0, 0\\n\\n    # empty list to save model predictions\\n    total_preds = []\\n\\n    # iterate over batches\\n    for step, batch in enumerate(train_dataloader):\\n\\n        # progress update after every 50 batches.\\n        if step % 50 == 0 and not step == 0:\\n            print(\\\"  Batch {:>5,}  of  {:>5,}.\\\".format(step, len(train_dataloader)))\\n\\n        # push the batch to gpu\\n        batch = [r.to(device) for r in batch]\\n\\n        sent_id, mask, labels = batch\\n\\n        # clear previously calculated gradients\\n        model.zero_grad()\\n\\n        # get model predictions for the current batch\\n        preds = model(sent_id, mask)\\n\\n        # compute the loss between actual and predicted values\\n        loss = cross_entropy(preds, labels)\\n\\n        # add on to the total loss\\n        total_loss = total_loss + loss.item()\\n\\n        # backward pass to calculate the gradients\\n        loss.backward()\\n\\n        # clip the the gradients to 1.0. It helps in preventing the exploding gradient problem\\n        torch.nn.utils.clip_grad_norm_(model.parameters(), 1.0)\\n\\n        # update parameters\\n        optimizer.step()\\n\\n        # model predictions are stored on GPU. So, push it to CPU\\n        preds = preds.detach().cpu().numpy()\\n\\n        # append the model predictions\\n        total_preds.append(preds)\\n\\n    # compute the training loss of the epoch\\n    avg_loss = total_loss / len(train_dataloader)\\n\\n    # returns the loss and predictions\\n    return avg_loss, total_preds\";\n",
       "                var nbb_formatted_code = \"# function to train the model\\ndef train():\\n\\n    model.train()\\n\\n    total_loss, total_accuracy = 0, 0\\n\\n    # empty list to save model predictions\\n    total_preds = []\\n\\n    # iterate over batches\\n    for step, batch in enumerate(train_dataloader):\\n\\n        # progress update after every 50 batches.\\n        if step % 50 == 0 and not step == 0:\\n            print(\\\"  Batch {:>5,}  of  {:>5,}.\\\".format(step, len(train_dataloader)))\\n\\n        # push the batch to gpu\\n        batch = [r.to(device) for r in batch]\\n\\n        sent_id, mask, labels = batch\\n\\n        # clear previously calculated gradients\\n        model.zero_grad()\\n\\n        # get model predictions for the current batch\\n        preds = model(sent_id, mask)\\n\\n        # compute the loss between actual and predicted values\\n        loss = cross_entropy(preds, labels)\\n\\n        # add on to the total loss\\n        total_loss = total_loss + loss.item()\\n\\n        # backward pass to calculate the gradients\\n        loss.backward()\\n\\n        # clip the the gradients to 1.0. It helps in preventing the exploding gradient problem\\n        torch.nn.utils.clip_grad_norm_(model.parameters(), 1.0)\\n\\n        # update parameters\\n        optimizer.step()\\n\\n        # model predictions are stored on GPU. So, push it to CPU\\n        preds = preds.detach().cpu().numpy()\\n\\n        # append the model predictions\\n        total_preds.append(preds)\\n\\n    # compute the training loss of the epoch\\n    avg_loss = total_loss / len(train_dataloader)\\n\\n    # returns the loss and predictions\\n    return avg_loss, total_preds\";\n",
       "                var nbb_cells = Jupyter.notebook.get_cells();\n",
       "                for (var i = 0; i < nbb_cells.length; ++i) {\n",
       "                    if (nbb_cells[i].input_prompt_number == nbb_cell_id) {\n",
       "                        if (nbb_cells[i].get_text() == nbb_unformatted_code) {\n",
       "                             nbb_cells[i].set_text(nbb_formatted_code);\n",
       "                        }\n",
       "                        break;\n",
       "                    }\n",
       "                }\n",
       "            }, 500);\n",
       "            "
      ],
      "text/plain": [
       "<IPython.core.display.Javascript object>"
      ]
     },
     "metadata": {},
     "output_type": "display_data"
    }
   ],
   "source": [
    "# function to train the model\n",
    "def train():\n",
    "\n",
    "    model.train()\n",
    "\n",
    "    total_loss, total_accuracy = 0, 0\n",
    "\n",
    "    # empty list to save model predictions\n",
    "    total_preds = []\n",
    "\n",
    "    # iterate over batches\n",
    "    for step, batch in enumerate(train_dataloader):\n",
    "\n",
    "        # progress update after every 50 batches.\n",
    "        if step % 50 == 0 and not step == 0:\n",
    "            print(\"  Batch {:>5,}  of  {:>5,}.\".format(step, len(train_dataloader)))\n",
    "\n",
    "        # push the batch to gpu\n",
    "        batch = [r.to(device) for r in batch]\n",
    "\n",
    "        sent_id, mask, labels = batch\n",
    "\n",
    "        # clear previously calculated gradients\n",
    "        model.zero_grad()\n",
    "\n",
    "        # get model predictions for the current batch\n",
    "        preds = model(sent_id, mask)\n",
    "\n",
    "        # compute the loss between actual and predicted values\n",
    "        loss = cross_entropy(preds, labels)\n",
    "\n",
    "        # add on to the total loss\n",
    "        total_loss = total_loss + loss.item()\n",
    "\n",
    "        # backward pass to calculate the gradients\n",
    "        loss.backward()\n",
    "\n",
    "        # clip the the gradients to 1.0. It helps in preventing the exploding gradient problem\n",
    "        torch.nn.utils.clip_grad_norm_(model.parameters(), 1.0)\n",
    "\n",
    "        # update parameters\n",
    "        optimizer.step()\n",
    "\n",
    "        # model predictions are stored on GPU. So, push it to CPU\n",
    "        preds = preds.detach().cpu().numpy()\n",
    "\n",
    "        # append the model predictions\n",
    "        total_preds.append(preds)\n",
    "\n",
    "    # compute the training loss of the epoch\n",
    "    avg_loss = total_loss / len(train_dataloader)\n",
    "\n",
    "    # returns the loss and predictions\n",
    "    return avg_loss, total_preds"
   ]
  },
  {
   "cell_type": "code",
   "execution_count": 24,
   "metadata": {},
   "outputs": [
    {
     "data": {
      "application/javascript": [
       "\n",
       "            setTimeout(function() {\n",
       "                var nbb_cell_id = 24;\n",
       "                var nbb_unformatted_code = \"# function for evaluating the model\\ndef evaluate():\\n\\n    print(\\\"\\\\nEvaluating...\\\")\\n\\n    # deactivate dropout layers\\n    model.eval()\\n\\n    total_loss, total_accuracy = 0, 0\\n\\n    # empty list to save the model predictions\\n    total_preds = []\\n\\n    # iterate over batches\\n    for step, batch in enumerate(val_dataloader):\\n\\n        # Progress update every 50 batches.\\n        if step % 50 == 0 and not step == 0:\\n\\n            # Report progress.\\n            print(\\\"  Batch {:>5,}  of  {:>5,}.\\\".format(step, len(val_dataloader)))\\n\\n        # push the batch to gpu\\n        batch = [t.to(device) for t in batch]\\n\\n        sent_id, mask, labels = batch\\n\\n        # deactivate autograd\\n        with torch.no_grad():\\n\\n            # model predictions\\n            preds = model(sent_id, mask)\\n\\n            # compute the validation loss between actual and predicted values\\n            loss = cross_entropy(preds, labels)\\n\\n            total_loss = total_loss + loss.item()\\n\\n            preds = preds.detach().cpu().numpy()\\n\\n            total_preds.append(preds)\\n\\n    # compute the validation loss of the epoch\\n    avg_loss = total_loss / len(val_dataloader)\\n\\n    return avg_loss, total_preds\";\n",
       "                var nbb_formatted_code = \"# function for evaluating the model\\ndef evaluate():\\n\\n    print(\\\"\\\\nEvaluating...\\\")\\n\\n    # deactivate dropout layers\\n    model.eval()\\n\\n    total_loss, total_accuracy = 0, 0\\n\\n    # empty list to save the model predictions\\n    total_preds = []\\n\\n    # iterate over batches\\n    for step, batch in enumerate(val_dataloader):\\n\\n        # Progress update every 50 batches.\\n        if step % 50 == 0 and not step == 0:\\n\\n            # Report progress.\\n            print(\\\"  Batch {:>5,}  of  {:>5,}.\\\".format(step, len(val_dataloader)))\\n\\n        # push the batch to gpu\\n        batch = [t.to(device) for t in batch]\\n\\n        sent_id, mask, labels = batch\\n\\n        # deactivate autograd\\n        with torch.no_grad():\\n\\n            # model predictions\\n            preds = model(sent_id, mask)\\n\\n            # compute the validation loss between actual and predicted values\\n            loss = cross_entropy(preds, labels)\\n\\n            total_loss = total_loss + loss.item()\\n\\n            preds = preds.detach().cpu().numpy()\\n\\n            total_preds.append(preds)\\n\\n    # compute the validation loss of the epoch\\n    avg_loss = total_loss / len(val_dataloader)\\n\\n    return avg_loss, total_preds\";\n",
       "                var nbb_cells = Jupyter.notebook.get_cells();\n",
       "                for (var i = 0; i < nbb_cells.length; ++i) {\n",
       "                    if (nbb_cells[i].input_prompt_number == nbb_cell_id) {\n",
       "                        if (nbb_cells[i].get_text() == nbb_unformatted_code) {\n",
       "                             nbb_cells[i].set_text(nbb_formatted_code);\n",
       "                        }\n",
       "                        break;\n",
       "                    }\n",
       "                }\n",
       "            }, 500);\n",
       "            "
      ],
      "text/plain": [
       "<IPython.core.display.Javascript object>"
      ]
     },
     "metadata": {},
     "output_type": "display_data"
    }
   ],
   "source": [
    "# function for evaluating the model\n",
    "def evaluate():\n",
    "\n",
    "    print(\"\\nEvaluating...\")\n",
    "\n",
    "    # deactivate dropout layers\n",
    "    model.eval()\n",
    "\n",
    "    total_loss, total_accuracy = 0, 0\n",
    "\n",
    "    # empty list to save the model predictions\n",
    "    total_preds = []\n",
    "\n",
    "    # iterate over batches\n",
    "    for step, batch in enumerate(val_dataloader):\n",
    "\n",
    "        # Progress update every 50 batches.\n",
    "        if step % 50 == 0 and not step == 0:\n",
    "\n",
    "            # Report progress.\n",
    "            print(\"  Batch {:>5,}  of  {:>5,}.\".format(step, len(val_dataloader)))\n",
    "\n",
    "        # push the batch to gpu\n",
    "        batch = [t.to(device) for t in batch]\n",
    "\n",
    "        sent_id, mask, labels = batch\n",
    "\n",
    "        # deactivate autograd\n",
    "        with torch.no_grad():\n",
    "\n",
    "            # model predictions\n",
    "            preds = model(sent_id, mask)\n",
    "\n",
    "            # compute the validation loss between actual and predicted values\n",
    "            loss = cross_entropy(preds, labels)\n",
    "\n",
    "            total_loss = total_loss + loss.item()\n",
    "\n",
    "            preds = preds.detach().cpu().numpy()\n",
    "\n",
    "            total_preds.append(preds)\n",
    "\n",
    "    # compute the validation loss of the epoch\n",
    "    avg_loss = total_loss / len(val_dataloader)\n",
    "\n",
    "    return avg_loss, total_preds"
   ]
  },
  {
   "cell_type": "code",
   "execution_count": 25,
   "metadata": {},
   "outputs": [
    {
     "name": "stdout",
     "output_type": "stream",
     "text": [
      "\n",
      " Epoch 1 / 1\n",
      "  Batch    50  of  8,777.\n",
      "  Batch   100  of  8,777.\n",
      "  Batch   150  of  8,777.\n",
      "  Batch   200  of  8,777.\n",
      "  Batch   250  of  8,777.\n",
      "  Batch   300  of  8,777.\n",
      "  Batch   350  of  8,777.\n",
      "  Batch   400  of  8,777.\n",
      "  Batch   450  of  8,777.\n",
      "  Batch   500  of  8,777.\n",
      "  Batch   550  of  8,777.\n",
      "  Batch   600  of  8,777.\n",
      "  Batch   650  of  8,777.\n",
      "  Batch   700  of  8,777.\n",
      "  Batch   750  of  8,777.\n",
      "  Batch   800  of  8,777.\n",
      "  Batch   850  of  8,777.\n",
      "  Batch   900  of  8,777.\n",
      "  Batch   950  of  8,777.\n",
      "  Batch 1,000  of  8,777.\n",
      "  Batch 1,050  of  8,777.\n",
      "  Batch 1,100  of  8,777.\n",
      "  Batch 1,150  of  8,777.\n",
      "  Batch 1,200  of  8,777.\n",
      "  Batch 1,250  of  8,777.\n",
      "  Batch 1,300  of  8,777.\n",
      "  Batch 1,350  of  8,777.\n",
      "  Batch 1,400  of  8,777.\n",
      "  Batch 1,450  of  8,777.\n",
      "  Batch 1,500  of  8,777.\n",
      "  Batch 1,550  of  8,777.\n",
      "  Batch 1,600  of  8,777.\n",
      "  Batch 1,650  of  8,777.\n",
      "  Batch 1,700  of  8,777.\n",
      "  Batch 1,750  of  8,777.\n",
      "  Batch 1,800  of  8,777.\n",
      "  Batch 1,850  of  8,777.\n",
      "  Batch 1,900  of  8,777.\n",
      "  Batch 1,950  of  8,777.\n",
      "  Batch 2,000  of  8,777.\n",
      "  Batch 2,050  of  8,777.\n",
      "  Batch 2,100  of  8,777.\n",
      "  Batch 2,150  of  8,777.\n",
      "  Batch 2,200  of  8,777.\n",
      "  Batch 2,250  of  8,777.\n",
      "  Batch 2,300  of  8,777.\n",
      "  Batch 2,350  of  8,777.\n",
      "  Batch 2,400  of  8,777.\n",
      "  Batch 2,450  of  8,777.\n",
      "  Batch 2,500  of  8,777.\n",
      "  Batch 2,550  of  8,777.\n",
      "  Batch 2,600  of  8,777.\n",
      "  Batch 2,650  of  8,777.\n",
      "  Batch 2,700  of  8,777.\n",
      "  Batch 2,750  of  8,777.\n",
      "  Batch 2,800  of  8,777.\n",
      "  Batch 2,850  of  8,777.\n",
      "  Batch 2,900  of  8,777.\n",
      "  Batch 2,950  of  8,777.\n",
      "  Batch 3,000  of  8,777.\n",
      "  Batch 3,050  of  8,777.\n",
      "  Batch 3,100  of  8,777.\n",
      "  Batch 3,150  of  8,777.\n",
      "  Batch 3,200  of  8,777.\n",
      "  Batch 3,250  of  8,777.\n",
      "  Batch 3,300  of  8,777.\n",
      "  Batch 3,350  of  8,777.\n",
      "  Batch 3,400  of  8,777.\n",
      "  Batch 3,450  of  8,777.\n",
      "  Batch 3,500  of  8,777.\n",
      "  Batch 3,550  of  8,777.\n",
      "  Batch 3,600  of  8,777.\n",
      "  Batch 3,650  of  8,777.\n",
      "  Batch 3,700  of  8,777.\n",
      "  Batch 3,750  of  8,777.\n",
      "  Batch 3,800  of  8,777.\n",
      "  Batch 3,850  of  8,777.\n",
      "  Batch 3,900  of  8,777.\n",
      "  Batch 3,950  of  8,777.\n",
      "  Batch 4,000  of  8,777.\n",
      "  Batch 4,050  of  8,777.\n",
      "  Batch 4,100  of  8,777.\n",
      "  Batch 4,150  of  8,777.\n",
      "  Batch 4,200  of  8,777.\n",
      "  Batch 4,250  of  8,777.\n",
      "  Batch 4,300  of  8,777.\n",
      "  Batch 4,350  of  8,777.\n",
      "  Batch 4,400  of  8,777.\n",
      "  Batch 4,450  of  8,777.\n",
      "  Batch 4,500  of  8,777.\n",
      "  Batch 4,550  of  8,777.\n",
      "  Batch 4,600  of  8,777.\n",
      "  Batch 4,650  of  8,777.\n",
      "  Batch 4,700  of  8,777.\n",
      "  Batch 4,750  of  8,777.\n",
      "  Batch 4,800  of  8,777.\n",
      "  Batch 4,850  of  8,777.\n",
      "  Batch 4,900  of  8,777.\n",
      "  Batch 4,950  of  8,777.\n",
      "  Batch 5,000  of  8,777.\n",
      "  Batch 5,050  of  8,777.\n",
      "  Batch 5,100  of  8,777.\n",
      "  Batch 5,150  of  8,777.\n",
      "  Batch 5,200  of  8,777.\n",
      "  Batch 5,250  of  8,777.\n",
      "  Batch 5,300  of  8,777.\n",
      "  Batch 5,350  of  8,777.\n",
      "  Batch 5,400  of  8,777.\n",
      "  Batch 5,450  of  8,777.\n",
      "  Batch 5,500  of  8,777.\n",
      "  Batch 5,550  of  8,777.\n",
      "  Batch 5,600  of  8,777.\n",
      "  Batch 5,650  of  8,777.\n",
      "  Batch 5,700  of  8,777.\n",
      "  Batch 5,750  of  8,777.\n",
      "  Batch 5,800  of  8,777.\n",
      "  Batch 5,850  of  8,777.\n",
      "  Batch 5,900  of  8,777.\n",
      "  Batch 5,950  of  8,777.\n",
      "  Batch 6,000  of  8,777.\n",
      "  Batch 6,050  of  8,777.\n",
      "  Batch 6,100  of  8,777.\n",
      "  Batch 6,150  of  8,777.\n",
      "  Batch 6,200  of  8,777.\n",
      "  Batch 6,250  of  8,777.\n",
      "  Batch 6,300  of  8,777.\n",
      "  Batch 6,350  of  8,777.\n",
      "  Batch 6,400  of  8,777.\n",
      "  Batch 6,450  of  8,777.\n",
      "  Batch 6,500  of  8,777.\n",
      "  Batch 6,550  of  8,777.\n",
      "  Batch 6,600  of  8,777.\n",
      "  Batch 6,650  of  8,777.\n",
      "  Batch 6,700  of  8,777.\n",
      "  Batch 6,750  of  8,777.\n",
      "  Batch 6,800  of  8,777.\n",
      "  Batch 6,850  of  8,777.\n",
      "  Batch 6,900  of  8,777.\n",
      "  Batch 6,950  of  8,777.\n",
      "  Batch 7,000  of  8,777.\n",
      "  Batch 7,050  of  8,777.\n",
      "  Batch 7,100  of  8,777.\n",
      "  Batch 7,150  of  8,777.\n",
      "  Batch 7,200  of  8,777.\n",
      "  Batch 7,250  of  8,777.\n",
      "  Batch 7,300  of  8,777.\n",
      "  Batch 7,350  of  8,777.\n",
      "  Batch 7,400  of  8,777.\n",
      "  Batch 7,450  of  8,777.\n",
      "  Batch 7,500  of  8,777.\n",
      "  Batch 7,550  of  8,777.\n",
      "  Batch 7,600  of  8,777.\n",
      "  Batch 7,650  of  8,777.\n",
      "  Batch 7,700  of  8,777.\n",
      "  Batch 7,750  of  8,777.\n",
      "  Batch 7,800  of  8,777.\n",
      "  Batch 7,850  of  8,777.\n",
      "  Batch 7,900  of  8,777.\n",
      "  Batch 7,950  of  8,777.\n",
      "  Batch 8,000  of  8,777.\n",
      "  Batch 8,050  of  8,777.\n",
      "  Batch 8,100  of  8,777.\n",
      "  Batch 8,150  of  8,777.\n",
      "  Batch 8,200  of  8,777.\n",
      "  Batch 8,250  of  8,777.\n",
      "  Batch 8,300  of  8,777.\n",
      "  Batch 8,350  of  8,777.\n",
      "  Batch 8,400  of  8,777.\n",
      "  Batch 8,450  of  8,777.\n",
      "  Batch 8,500  of  8,777.\n",
      "  Batch 8,550  of  8,777.\n",
      "  Batch 8,600  of  8,777.\n",
      "  Batch 8,650  of  8,777.\n",
      "  Batch 8,700  of  8,777.\n",
      "  Batch 8,750  of  8,777.\n",
      "\n",
      "Evaluating...\n",
      "  Batch    50  of  8,777.\n",
      "  Batch   100  of  8,777.\n",
      "  Batch   150  of  8,777.\n",
      "  Batch   200  of  8,777.\n",
      "  Batch   250  of  8,777.\n",
      "  Batch   300  of  8,777.\n",
      "  Batch   350  of  8,777.\n",
      "  Batch   400  of  8,777.\n",
      "  Batch   450  of  8,777.\n",
      "  Batch   500  of  8,777.\n",
      "  Batch   550  of  8,777.\n",
      "  Batch   600  of  8,777.\n",
      "  Batch   650  of  8,777.\n",
      "  Batch   700  of  8,777.\n",
      "  Batch   750  of  8,777.\n",
      "  Batch   800  of  8,777.\n",
      "  Batch   850  of  8,777.\n",
      "  Batch   900  of  8,777.\n",
      "  Batch   950  of  8,777.\n",
      "  Batch 1,000  of  8,777.\n",
      "  Batch 1,050  of  8,777.\n",
      "  Batch 1,100  of  8,777.\n",
      "  Batch 1,150  of  8,777.\n",
      "  Batch 1,200  of  8,777.\n",
      "  Batch 1,250  of  8,777.\n",
      "  Batch 1,300  of  8,777.\n",
      "  Batch 1,350  of  8,777.\n",
      "  Batch 1,400  of  8,777.\n",
      "  Batch 1,450  of  8,777.\n",
      "  Batch 1,500  of  8,777.\n",
      "  Batch 1,550  of  8,777.\n",
      "  Batch 1,600  of  8,777.\n",
      "  Batch 1,650  of  8,777.\n",
      "  Batch 1,700  of  8,777.\n",
      "  Batch 1,750  of  8,777.\n",
      "  Batch 1,800  of  8,777.\n",
      "  Batch 1,850  of  8,777.\n",
      "  Batch 1,900  of  8,777.\n",
      "  Batch 1,950  of  8,777.\n",
      "  Batch 2,000  of  8,777.\n",
      "  Batch 2,050  of  8,777.\n",
      "  Batch 2,100  of  8,777.\n",
      "  Batch 2,150  of  8,777.\n",
      "  Batch 2,200  of  8,777.\n",
      "  Batch 2,250  of  8,777.\n",
      "  Batch 2,300  of  8,777.\n",
      "  Batch 2,350  of  8,777.\n",
      "  Batch 2,400  of  8,777.\n",
      "  Batch 2,450  of  8,777.\n",
      "  Batch 2,500  of  8,777.\n",
      "  Batch 2,550  of  8,777.\n",
      "  Batch 2,600  of  8,777.\n",
      "  Batch 2,650  of  8,777.\n",
      "  Batch 2,700  of  8,777.\n",
      "  Batch 2,750  of  8,777.\n",
      "  Batch 2,800  of  8,777.\n",
      "  Batch 2,850  of  8,777.\n",
      "  Batch 2,900  of  8,777.\n",
      "  Batch 2,950  of  8,777.\n",
      "  Batch 3,000  of  8,777.\n",
      "  Batch 3,050  of  8,777.\n",
      "  Batch 3,100  of  8,777.\n",
      "  Batch 3,150  of  8,777.\n",
      "  Batch 3,200  of  8,777.\n",
      "  Batch 3,250  of  8,777.\n",
      "  Batch 3,300  of  8,777.\n",
      "  Batch 3,350  of  8,777.\n",
      "  Batch 3,400  of  8,777.\n",
      "  Batch 3,450  of  8,777.\n",
      "  Batch 3,500  of  8,777.\n",
      "  Batch 3,550  of  8,777.\n",
      "  Batch 3,600  of  8,777.\n",
      "  Batch 3,650  of  8,777.\n",
      "  Batch 3,700  of  8,777.\n",
      "  Batch 3,750  of  8,777.\n",
      "  Batch 3,800  of  8,777.\n",
      "  Batch 3,850  of  8,777.\n",
      "  Batch 3,900  of  8,777.\n",
      "  Batch 3,950  of  8,777.\n",
      "  Batch 4,000  of  8,777.\n",
      "  Batch 4,050  of  8,777.\n",
      "  Batch 4,100  of  8,777.\n",
      "  Batch 4,150  of  8,777.\n",
      "  Batch 4,200  of  8,777.\n",
      "  Batch 4,250  of  8,777.\n",
      "  Batch 4,300  of  8,777.\n",
      "  Batch 4,350  of  8,777.\n",
      "  Batch 4,400  of  8,777.\n",
      "  Batch 4,450  of  8,777.\n",
      "  Batch 4,500  of  8,777.\n",
      "  Batch 4,550  of  8,777.\n",
      "  Batch 4,600  of  8,777.\n",
      "  Batch 4,650  of  8,777.\n",
      "  Batch 4,700  of  8,777.\n",
      "  Batch 4,750  of  8,777.\n",
      "  Batch 4,800  of  8,777.\n",
      "  Batch 4,850  of  8,777.\n",
      "  Batch 4,900  of  8,777.\n",
      "  Batch 4,950  of  8,777.\n",
      "  Batch 5,000  of  8,777.\n",
      "  Batch 5,050  of  8,777.\n",
      "  Batch 5,100  of  8,777.\n",
      "  Batch 5,150  of  8,777.\n",
      "  Batch 5,200  of  8,777.\n",
      "  Batch 5,250  of  8,777.\n",
      "  Batch 5,300  of  8,777.\n",
      "  Batch 5,350  of  8,777.\n",
      "  Batch 5,400  of  8,777.\n",
      "  Batch 5,450  of  8,777.\n",
      "  Batch 5,500  of  8,777.\n",
      "  Batch 5,550  of  8,777.\n",
      "  Batch 5,600  of  8,777.\n",
      "  Batch 5,650  of  8,777.\n",
      "  Batch 5,700  of  8,777.\n",
      "  Batch 5,750  of  8,777.\n",
      "  Batch 5,800  of  8,777.\n",
      "  Batch 5,850  of  8,777.\n",
      "  Batch 5,900  of  8,777.\n",
      "  Batch 5,950  of  8,777.\n",
      "  Batch 6,000  of  8,777.\n"
     ]
    },
    {
     "ename": "RuntimeError",
     "evalue": "[enforce fail at ..\\c10\\core\\CPUAllocator.cpp:72] data. DefaultCPUAllocator: not enough memory: you tried to allocate 1409792 bytes. Buy new RAM!\n",
     "output_type": "error",
     "traceback": [
      "\u001b[1;31m---------------------------------------------------------------------------\u001b[0m",
      "\u001b[1;31mRuntimeError\u001b[0m                              Traceback (most recent call last)",
      "\u001b[1;32m<ipython-input-25-1578a7feb600>\u001b[0m in \u001b[0;36m<module>\u001b[1;34m\u001b[0m\n\u001b[0;32m     17\u001b[0m \u001b[1;33m\u001b[0m\u001b[0m\n\u001b[0;32m     18\u001b[0m     \u001b[1;31m# evaluate model\u001b[0m\u001b[1;33m\u001b[0m\u001b[1;33m\u001b[0m\u001b[1;33m\u001b[0m\u001b[0m\n\u001b[1;32m---> 19\u001b[1;33m     \u001b[0mvalid_loss\u001b[0m\u001b[1;33m,\u001b[0m \u001b[0m_\u001b[0m \u001b[1;33m=\u001b[0m \u001b[0mevaluate\u001b[0m\u001b[1;33m(\u001b[0m\u001b[1;33m)\u001b[0m\u001b[1;33m\u001b[0m\u001b[1;33m\u001b[0m\u001b[0m\n\u001b[0m\u001b[0;32m     20\u001b[0m \u001b[1;33m\u001b[0m\u001b[0m\n\u001b[0;32m     21\u001b[0m     \u001b[1;31m# save the best model\u001b[0m\u001b[1;33m\u001b[0m\u001b[1;33m\u001b[0m\u001b[1;33m\u001b[0m\u001b[0m\n",
      "\u001b[1;32m<ipython-input-24-fca3d37d065c>\u001b[0m in \u001b[0;36mevaluate\u001b[1;34m()\u001b[0m\n\u001b[0;32m     37\u001b[0m             \u001b[0mtotal_loss\u001b[0m \u001b[1;33m=\u001b[0m \u001b[0mtotal_loss\u001b[0m \u001b[1;33m+\u001b[0m \u001b[0mloss\u001b[0m\u001b[1;33m.\u001b[0m\u001b[0mitem\u001b[0m\u001b[1;33m(\u001b[0m\u001b[1;33m)\u001b[0m\u001b[1;33m\u001b[0m\u001b[1;33m\u001b[0m\u001b[0m\n\u001b[0;32m     38\u001b[0m \u001b[1;33m\u001b[0m\u001b[0m\n\u001b[1;32m---> 39\u001b[1;33m             \u001b[0mpreds\u001b[0m \u001b[1;33m=\u001b[0m \u001b[0mpreds\u001b[0m\u001b[1;33m.\u001b[0m\u001b[0mdetach\u001b[0m\u001b[1;33m(\u001b[0m\u001b[1;33m)\u001b[0m\u001b[1;33m.\u001b[0m\u001b[0mcpu\u001b[0m\u001b[1;33m(\u001b[0m\u001b[1;33m)\u001b[0m\u001b[1;33m.\u001b[0m\u001b[0mnumpy\u001b[0m\u001b[1;33m(\u001b[0m\u001b[1;33m)\u001b[0m\u001b[1;33m\u001b[0m\u001b[1;33m\u001b[0m\u001b[0m\n\u001b[0m\u001b[0;32m     40\u001b[0m \u001b[1;33m\u001b[0m\u001b[0m\n\u001b[0;32m     41\u001b[0m             \u001b[0mtotal_preds\u001b[0m\u001b[1;33m.\u001b[0m\u001b[0mappend\u001b[0m\u001b[1;33m(\u001b[0m\u001b[0mpreds\u001b[0m\u001b[1;33m)\u001b[0m\u001b[1;33m\u001b[0m\u001b[1;33m\u001b[0m\u001b[0m\n",
      "\u001b[1;31mRuntimeError\u001b[0m: [enforce fail at ..\\c10\\core\\CPUAllocator.cpp:72] data. DefaultCPUAllocator: not enough memory: you tried to allocate 1409792 bytes. Buy new RAM!\n"
     ]
    },
    {
     "data": {
      "application/javascript": [
       "\n",
       "            setTimeout(function() {\n",
       "                var nbb_cell_id = 25;\n",
       "                var nbb_unformatted_code = \"epochs = 1\\n\\n# set initial loss to infinite\\nbest_valid_loss = float(\\\"inf\\\")\\n\\n# empty lists to store training and validation loss of each epoch\\ntrain_losses = []\\nvalid_losses = []\\n\\n# for each epoch\\nfor epoch in range(epochs):\\n\\n    print(\\\"\\\\n Epoch {:} / {:}\\\".format(epoch + 1, epochs))\\n\\n    # train model\\n    train_loss, _ = train()\\n\\n    # evaluate model\\n    valid_loss, _ = evaluate()\\n\\n    # save the best model\\n    if valid_loss < best_valid_loss:\\n        best_valid_loss = valid_loss\\n        torch.save(model.state_dict(), \\\"saved_weights.pt\\\")\\n\\n    # append training and validation loss\\n    train_losses.append(train_loss)\\n    valid_losses.append(valid_loss)\\n\\n    print(f\\\"\\\\nTraining Loss: {train_loss:.3f}\\\")\\n    print(f\\\"Validation Loss: {valid_loss:.3f}\\\")\";\n",
       "                var nbb_formatted_code = \"epochs = 1\\n\\n# set initial loss to infinite\\nbest_valid_loss = float(\\\"inf\\\")\\n\\n# empty lists to store training and validation loss of each epoch\\ntrain_losses = []\\nvalid_losses = []\\n\\n# for each epoch\\nfor epoch in range(epochs):\\n\\n    print(\\\"\\\\n Epoch {:} / {:}\\\".format(epoch + 1, epochs))\\n\\n    # train model\\n    train_loss, _ = train()\\n\\n    # evaluate model\\n    valid_loss, _ = evaluate()\\n\\n    # save the best model\\n    if valid_loss < best_valid_loss:\\n        best_valid_loss = valid_loss\\n        torch.save(model.state_dict(), \\\"saved_weights.pt\\\")\\n\\n    # append training and validation loss\\n    train_losses.append(train_loss)\\n    valid_losses.append(valid_loss)\\n\\n    print(f\\\"\\\\nTraining Loss: {train_loss:.3f}\\\")\\n    print(f\\\"Validation Loss: {valid_loss:.3f}\\\")\";\n",
       "                var nbb_cells = Jupyter.notebook.get_cells();\n",
       "                for (var i = 0; i < nbb_cells.length; ++i) {\n",
       "                    if (nbb_cells[i].input_prompt_number == nbb_cell_id) {\n",
       "                        if (nbb_cells[i].get_text() == nbb_unformatted_code) {\n",
       "                             nbb_cells[i].set_text(nbb_formatted_code);\n",
       "                        }\n",
       "                        break;\n",
       "                    }\n",
       "                }\n",
       "            }, 500);\n",
       "            "
      ],
      "text/plain": [
       "<IPython.core.display.Javascript object>"
      ]
     },
     "metadata": {},
     "output_type": "display_data"
    }
   ],
   "source": [
    "epochs = 1\n",
    "\n",
    "# set initial loss to infinite\n",
    "best_valid_loss = float(\"inf\")\n",
    "\n",
    "# empty lists to store training and validation loss of each epoch\n",
    "train_losses = []\n",
    "valid_losses = []\n",
    "\n",
    "# for each epoch\n",
    "for epoch in range(epochs):\n",
    "\n",
    "    print(\"\\n Epoch {:} / {:}\".format(epoch + 1, epochs))\n",
    "\n",
    "    # train model\n",
    "    train_loss, _ = train()\n",
    "\n",
    "    # evaluate model\n",
    "    valid_loss, _ = evaluate()\n",
    "\n",
    "    # save the best model\n",
    "    if valid_loss < best_valid_loss:\n",
    "        best_valid_loss = valid_loss\n",
    "        torch.save(model.state_dict(), \"saved_weights.pt\")\n",
    "\n",
    "    # append training and validation loss\n",
    "    train_losses.append(train_loss)\n",
    "    valid_losses.append(valid_loss)\n",
    "\n",
    "    print(f\"\\nTraining Loss: {train_loss:.3f}\")\n",
    "    print(f\"Validation Loss: {valid_loss:.3f}\")"
   ]
  },
  {
   "cell_type": "code",
   "execution_count": null,
   "metadata": {},
   "outputs": [],
   "source": [
    "model()"
   ]
  }
 ],
 "metadata": {
  "kernelspec": {
   "display_name": "Python 3",
   "language": "python",
   "name": "python3"
  },
  "language_info": {
   "codemirror_mode": {
    "name": "ipython",
    "version": 3
   },
   "file_extension": ".py",
   "mimetype": "text/x-python",
   "name": "python",
   "nbconvert_exporter": "python",
   "pygments_lexer": "ipython3",
   "version": "3.8.8"
  }
 },
 "nbformat": 4,
 "nbformat_minor": 4
}
